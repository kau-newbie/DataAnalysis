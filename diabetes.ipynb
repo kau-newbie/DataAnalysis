{
 "cells": [
  {
   "cell_type": "code",
   "execution_count": 1,
   "id": "19fd69de",
   "metadata": {},
   "outputs": [],
   "source": [
    "import pandas as pd"
   ]
  },
  {
   "cell_type": "markdown",
   "id": "e358da4d",
   "metadata": {},
   "source": [
    "# diabetes"
   ]
  },
  {
   "cell_type": "code",
   "execution_count": 2,
   "id": "55f823a7",
   "metadata": {},
   "outputs": [
    {
     "data": {
      "text/html": [
       "<div>\n",
       "<style scoped>\n",
       "    .dataframe tbody tr th:only-of-type {\n",
       "        vertical-align: middle;\n",
       "    }\n",
       "\n",
       "    .dataframe tbody tr th {\n",
       "        vertical-align: top;\n",
       "    }\n",
       "\n",
       "    .dataframe thead th {\n",
       "        text-align: right;\n",
       "    }\n",
       "</style>\n",
       "<table border=\"1\" class=\"dataframe\">\n",
       "  <thead>\n",
       "    <tr style=\"text-align: right;\">\n",
       "      <th></th>\n",
       "      <th>Unnamed: 0</th>\n",
       "      <th>age</th>\n",
       "      <th>sex</th>\n",
       "      <th>bmi</th>\n",
       "      <th>map</th>\n",
       "      <th>tc</th>\n",
       "      <th>ldl</th>\n",
       "      <th>hdl</th>\n",
       "      <th>tch</th>\n",
       "      <th>ltg</th>\n",
       "      <th>glu</th>\n",
       "      <th>y</th>\n",
       "    </tr>\n",
       "  </thead>\n",
       "  <tbody>\n",
       "    <tr>\n",
       "      <th>0</th>\n",
       "      <td>0</td>\n",
       "      <td>0.038076</td>\n",
       "      <td>0.050680</td>\n",
       "      <td>0.061696</td>\n",
       "      <td>0.021872</td>\n",
       "      <td>-0.044223</td>\n",
       "      <td>-0.034821</td>\n",
       "      <td>-0.043401</td>\n",
       "      <td>-0.002592</td>\n",
       "      <td>0.019908</td>\n",
       "      <td>-0.017646</td>\n",
       "      <td>151</td>\n",
       "    </tr>\n",
       "    <tr>\n",
       "      <th>1</th>\n",
       "      <td>1</td>\n",
       "      <td>-0.001882</td>\n",
       "      <td>-0.044642</td>\n",
       "      <td>-0.051474</td>\n",
       "      <td>-0.026328</td>\n",
       "      <td>-0.008449</td>\n",
       "      <td>-0.019163</td>\n",
       "      <td>0.074412</td>\n",
       "      <td>-0.039493</td>\n",
       "      <td>-0.068330</td>\n",
       "      <td>-0.092204</td>\n",
       "      <td>75</td>\n",
       "    </tr>\n",
       "    <tr>\n",
       "      <th>2</th>\n",
       "      <td>2</td>\n",
       "      <td>0.085299</td>\n",
       "      <td>0.050680</td>\n",
       "      <td>0.044451</td>\n",
       "      <td>-0.005671</td>\n",
       "      <td>-0.045599</td>\n",
       "      <td>-0.034194</td>\n",
       "      <td>-0.032356</td>\n",
       "      <td>-0.002592</td>\n",
       "      <td>0.002864</td>\n",
       "      <td>-0.025930</td>\n",
       "      <td>141</td>\n",
       "    </tr>\n",
       "    <tr>\n",
       "      <th>3</th>\n",
       "      <td>3</td>\n",
       "      <td>-0.089063</td>\n",
       "      <td>-0.044642</td>\n",
       "      <td>-0.011595</td>\n",
       "      <td>-0.036656</td>\n",
       "      <td>0.012191</td>\n",
       "      <td>0.024991</td>\n",
       "      <td>-0.036038</td>\n",
       "      <td>0.034309</td>\n",
       "      <td>0.022692</td>\n",
       "      <td>-0.009362</td>\n",
       "      <td>206</td>\n",
       "    </tr>\n",
       "    <tr>\n",
       "      <th>4</th>\n",
       "      <td>4</td>\n",
       "      <td>0.005383</td>\n",
       "      <td>-0.044642</td>\n",
       "      <td>-0.036385</td>\n",
       "      <td>0.021872</td>\n",
       "      <td>0.003935</td>\n",
       "      <td>0.015596</td>\n",
       "      <td>0.008142</td>\n",
       "      <td>-0.002592</td>\n",
       "      <td>-0.031991</td>\n",
       "      <td>-0.046641</td>\n",
       "      <td>135</td>\n",
       "    </tr>\n",
       "    <tr>\n",
       "      <th>...</th>\n",
       "      <td>...</td>\n",
       "      <td>...</td>\n",
       "      <td>...</td>\n",
       "      <td>...</td>\n",
       "      <td>...</td>\n",
       "      <td>...</td>\n",
       "      <td>...</td>\n",
       "      <td>...</td>\n",
       "      <td>...</td>\n",
       "      <td>...</td>\n",
       "      <td>...</td>\n",
       "      <td>...</td>\n",
       "    </tr>\n",
       "    <tr>\n",
       "      <th>95</th>\n",
       "      <td>95</td>\n",
       "      <td>-0.070900</td>\n",
       "      <td>-0.044642</td>\n",
       "      <td>-0.057941</td>\n",
       "      <td>-0.081414</td>\n",
       "      <td>-0.045599</td>\n",
       "      <td>-0.028871</td>\n",
       "      <td>-0.043401</td>\n",
       "      <td>-0.002592</td>\n",
       "      <td>0.001144</td>\n",
       "      <td>-0.005220</td>\n",
       "      <td>162</td>\n",
       "    </tr>\n",
       "    <tr>\n",
       "      <th>96</th>\n",
       "      <td>96</td>\n",
       "      <td>0.056239</td>\n",
       "      <td>0.050680</td>\n",
       "      <td>0.009961</td>\n",
       "      <td>0.049415</td>\n",
       "      <td>-0.004321</td>\n",
       "      <td>-0.012274</td>\n",
       "      <td>-0.043401</td>\n",
       "      <td>0.034309</td>\n",
       "      <td>0.060788</td>\n",
       "      <td>0.032059</td>\n",
       "      <td>150</td>\n",
       "    </tr>\n",
       "    <tr>\n",
       "      <th>97</th>\n",
       "      <td>97</td>\n",
       "      <td>-0.027310</td>\n",
       "      <td>-0.044642</td>\n",
       "      <td>0.088642</td>\n",
       "      <td>-0.025180</td>\n",
       "      <td>0.021822</td>\n",
       "      <td>0.042527</td>\n",
       "      <td>-0.032356</td>\n",
       "      <td>0.034309</td>\n",
       "      <td>0.002864</td>\n",
       "      <td>0.077622</td>\n",
       "      <td>279</td>\n",
       "    </tr>\n",
       "    <tr>\n",
       "      <th>98</th>\n",
       "      <td>98</td>\n",
       "      <td>0.001751</td>\n",
       "      <td>0.050680</td>\n",
       "      <td>-0.005128</td>\n",
       "      <td>-0.012556</td>\n",
       "      <td>-0.015328</td>\n",
       "      <td>-0.013840</td>\n",
       "      <td>0.008142</td>\n",
       "      <td>-0.039493</td>\n",
       "      <td>-0.006080</td>\n",
       "      <td>-0.067351</td>\n",
       "      <td>92</td>\n",
       "    </tr>\n",
       "    <tr>\n",
       "      <th>99</th>\n",
       "      <td>99</td>\n",
       "      <td>-0.001882</td>\n",
       "      <td>-0.044642</td>\n",
       "      <td>-0.064408</td>\n",
       "      <td>0.011544</td>\n",
       "      <td>0.027326</td>\n",
       "      <td>0.037517</td>\n",
       "      <td>-0.013948</td>\n",
       "      <td>0.034309</td>\n",
       "      <td>0.011784</td>\n",
       "      <td>-0.054925</td>\n",
       "      <td>83</td>\n",
       "    </tr>\n",
       "  </tbody>\n",
       "</table>\n",
       "<p>100 rows × 12 columns</p>\n",
       "</div>"
      ],
      "text/plain": [
       "    Unnamed: 0       age       sex       bmi       map        tc       ldl  \\\n",
       "0            0  0.038076  0.050680  0.061696  0.021872 -0.044223 -0.034821   \n",
       "1            1 -0.001882 -0.044642 -0.051474 -0.026328 -0.008449 -0.019163   \n",
       "2            2  0.085299  0.050680  0.044451 -0.005671 -0.045599 -0.034194   \n",
       "3            3 -0.089063 -0.044642 -0.011595 -0.036656  0.012191  0.024991   \n",
       "4            4  0.005383 -0.044642 -0.036385  0.021872  0.003935  0.015596   \n",
       "..         ...       ...       ...       ...       ...       ...       ...   \n",
       "95          95 -0.070900 -0.044642 -0.057941 -0.081414 -0.045599 -0.028871   \n",
       "96          96  0.056239  0.050680  0.009961  0.049415 -0.004321 -0.012274   \n",
       "97          97 -0.027310 -0.044642  0.088642 -0.025180  0.021822  0.042527   \n",
       "98          98  0.001751  0.050680 -0.005128 -0.012556 -0.015328 -0.013840   \n",
       "99          99 -0.001882 -0.044642 -0.064408  0.011544  0.027326  0.037517   \n",
       "\n",
       "         hdl       tch       ltg       glu    y  \n",
       "0  -0.043401 -0.002592  0.019908 -0.017646  151  \n",
       "1   0.074412 -0.039493 -0.068330 -0.092204   75  \n",
       "2  -0.032356 -0.002592  0.002864 -0.025930  141  \n",
       "3  -0.036038  0.034309  0.022692 -0.009362  206  \n",
       "4   0.008142 -0.002592 -0.031991 -0.046641  135  \n",
       "..       ...       ...       ...       ...  ...  \n",
       "95 -0.043401 -0.002592  0.001144 -0.005220  162  \n",
       "96 -0.043401  0.034309  0.060788  0.032059  150  \n",
       "97 -0.032356  0.034309  0.002864  0.077622  279  \n",
       "98  0.008142 -0.039493 -0.006080 -0.067351   92  \n",
       "99 -0.013948  0.034309  0.011784 -0.054925   83  \n",
       "\n",
       "[100 rows x 12 columns]"
      ]
     },
     "execution_count": 2,
     "metadata": {},
     "output_type": "execute_result"
    }
   ],
   "source": [
    "df=pd.read_csv('diabetes_standardized.csv')\n",
    "df.head(100)"
   ]
  },
  {
   "cell_type": "markdown",
   "id": "f5aef9c9",
   "metadata": {},
   "source": [
    "- 정의\n",
    "\n",
    " 당뇨병은 인슐린의 분비량이 부족하거나 정상적인 기능이 이루어지지 않는 등의 대사질환의 일종.  \n",
    " 혈중 포도당의 농도가 높아지는 고혈당, 고혈당으로 인하여 여러 증상 및 징후. 소변에서 포도당을 배출.\n",
    "\n",
    "\n",
    "- 원인  \n",
    " \n",
    " 제1형 당뇨병은 이전에 '소아 당뇨병'이라고 불림.  \n",
    " 인슐린을 전혀 생산하지 못하는 것이 원인이 되어 발생하는 질환. \n",
    " \n",
    " 제2형 당뇨병은 인슐린 저항성(insulin resistance; 혈당을 낮추는 인슐린 기능이 떨어져 세포가 포도당을 효과적으로 연소하지 못함)존재.  \n",
    " 제2형 당뇨는 고열량, 고지방, 고단백의 식단, 운동 부족, 스트레스 등 환경적인 요인이 크게 작용. 이 외에 특정 유전자의 결함, 췌장 수술, 감염, 약제에 의해서도 생길 수 있다.\n",
    "[네이버 지식백과] 당뇨병 [diabetes mellitus] (서울대학교병원 의학정보, 서울대학교병원)"
   ]
  },
  {
   "cell_type": "markdown",
   "id": "a3116d11",
   "metadata": {},
   "source": [
    "https://www.openaccessjournals.com/articles/association-between-diabetes-markers-and-cholesterol.html\n",
    "\n",
    "- age, sex\n",
    "\n",
    "- bmi:  \n",
    "   > 체중/ 키^2\n",
    "- map:\n",
    "    \n",
    "- tc:  \n",
    "    >  total cholesterol (TC)\n",
    "    \n",
    "    >> Note that TC is the total of very low-density lipoprotein (VLDL-C), low-density lipoprotein (LDL-C), and high-density lipoprotein (HDL-C).TC does not include Triglycerides, and it is below 200 (mg/dL) is known as normal.\n",
    "   \n",
    "- ldl:  \n",
    "     > low-density lipoprotein (LDL-C)\n",
    "- hdl:  \n",
    "     > high-density lipoprotein (HDL-C)\n",
    " \n",
    " 지질단백질(脂質蛋白質, 영어: lipoprotein) 또는 리포단백질: 중심에 지질과 단백질을 함께 포함하고 있는 생화학 물질. 중심에는 트라이글리세라이드와 콜레스테롤 등의 지질이 포함. 외부에는 인지질과 단백질로 쌓여있는 형태.  주로 혈류와 림프를 통해 지질 등을 운반하는 역할,  \n",
    " 지질단백질은 밀도의 차이로 분류된다.\n",
    "\n",
    "\n",
    "- tch:\n",
    "\n",
    "- ltg:  \n",
    "     > serum concentration of lamorigine (LTG)\n",
    "- glu:  \n",
    "     > the mean random blood glucose (GLU)  \n",
    "     글루코스(glucose), 포도당(葡萄糖)으로 부르는 물질은 알데하이드 기를 가지는 당의 일종으로 사슬 모양보다는 육각고리형 모양으로 흔히 존재한다. 분자식은 C6H12O6 분자량은 약 180이다. 다당류로 결합했을 때의 형태에 따라 알파(alpha) 형과 베타(beta) 형이 있다.\n",
    "- y:   \n",
    "     > target"
   ]
  },
  {
   "cell_type": "markdown",
   "id": "ee8f22e6",
   "metadata": {},
   "source": [
    "target인 y가 continuous한 자료형이므로 회귀를 쓴다."
   ]
  },
  {
   "cell_type": "code",
   "execution_count": 6,
   "id": "3e919eeb",
   "metadata": {},
   "outputs": [],
   "source": [
    "\n",
    "df, test = train_test_split(df, test_size=0.2, random_state=0)\n"
   ]
  },
  {
   "cell_type": "markdown",
   "id": "89a85df8",
   "metadata": {},
   "source": [
    "#### 결손값"
   ]
  },
  {
   "cell_type": "code",
   "execution_count": 7,
   "id": "93bb9b68",
   "metadata": {
    "scrolled": true
   },
   "outputs": [
    {
     "data": {
      "text/plain": [
       "Unnamed: 0    False\n",
       "age           False\n",
       "sex           False\n",
       "bmi           False\n",
       "map           False\n",
       "tc            False\n",
       "ldl           False\n",
       "hdl           False\n",
       "tch           False\n",
       "ltg           False\n",
       "glu           False\n",
       "y             False\n",
       "dtype: bool"
      ]
     },
     "execution_count": 7,
     "metadata": {},
     "output_type": "execute_result"
    }
   ],
   "source": [
    "#df.isnull().sum()\n",
    "df.isnull().any(axis=0)"
   ]
  },
  {
   "cell_type": "markdown",
   "id": "51cd73bd",
   "metadata": {},
   "source": [
    "##### 결손값은 없다."
   ]
  },
  {
   "cell_type": "markdown",
   "id": "8a13b3f9",
   "metadata": {},
   "source": [
    "### 산포도"
   ]
  },
  {
   "cell_type": "code",
   "execution_count": 8,
   "id": "16a04083",
   "metadata": {},
   "outputs": [],
   "source": [
    "import matplotlib.pyplot as plt"
   ]
  },
  {
   "cell_type": "code",
   "execution_count": 9,
   "id": "41ea7e6c",
   "metadata": {},
   "outputs": [],
   "source": [
    "c=list(df.columns)\n",
    "c.remove('Unnamed: 0')"
   ]
  },
  {
   "cell_type": "code",
   "execution_count": 10,
   "id": "9ac5ebb3",
   "metadata": {
    "scrolled": true
   },
   "outputs": [
    {
     "data": {
      "image/png": "[encoded data removed]",
      "text/plain": [
       "<Figure size 288x216 with 1 Axes>"
      ]
     },
     "metadata": {
      "needs_background": "light"
     },
     "output_type": "display_data"
    },
    {
     "data": {
      "image/png": "[encoded data removed]",
      "text/plain": [
       "<Figure size 288x216 with 1 Axes>"
      ]
     },
     "metadata": {
      "needs_background": "light"
     },
     "output_type": "display_data"
    },
    {
     "data": {
      "image/png": "[encoded data removed]",
      "text/plain": [
       "<Figure size 288x216 with 1 Axes>"
      ]
     },
     "metadata": {
      "needs_background": "light"
     },
     "output_type": "display_data"
    },
    {
     "data": {
      "image/png": "[encoded data removed]",
      "text/plain": [
       "<Figure size 288x216 with 1 Axes>"
      ]
     },
     "metadata": {
      "needs_background": "light"
     },
     "output_type": "display_data"
    },
    {
     "data": {
      "image/png": "[encoded data removed]",
      "text/plain": [
       "<Figure size 288x216 with 1 Axes>"
      ]
     },
     "metadata": {
      "needs_background": "light"
     },
     "output_type": "display_data"
    },
    {
     "data": {
      "image/png": "[encoded data removed]",
      "text/plain": [
       "<Figure size 288x216 with 1 Axes>"
      ]
     },
     "metadata": {
      "needs_background": "light"
     },
     "output_type": "display_data"
    },
    {
     "data": {
      "image/png": "[encoded data removed]",
      "text/plain": [
       "<Figure size 288x216 with 1 Axes>"
      ]
     },
     "metadata": {
      "needs_background": "light"
     },
     "output_type": "display_data"
    },
    {
     "data": {
      "image/png": "[encoded data removed]",
      "text/plain": [
       "<Figure size 288x216 with 1 Axes>"
      ]
     },
     "metadata": {
      "needs_background": "light"
     },
     "output_type": "display_data"
    },
    {
     "data": {
      "image/png": "[encoded data removed]",
      "text/plain": [
       "<Figure size 288x216 with 1 Axes>"
      ]
     },
     "metadata": {
      "needs_background": "light"
     },
     "output_type": "display_data"
    },
    {
     "data": {
      "image/png": "[encoded data removed]",
      "text/plain": [
       "<Figure size 288x216 with 1 Axes>"
      ]
     },
     "metadata": {
      "needs_background": "light"
     },
     "output_type": "display_data"
    },
    {
     "data": {
      "image/png": "[encoded data removed]",
      "text/plain": [
       "<Figure size 288x216 with 1 Axes>"
      ]
     },
     "metadata": {
      "needs_background": "light"
     },
     "output_type": "display_data"
    }
   ],
   "source": [
    "for name in c:\n",
    "    \n",
    "    df.plot(kind='scatter', x=name,y='y',figsize=(4,3),s=2,grid=True)\n",
    "    plt.show()"
   ]
  },
  {
   "cell_type": "code",
   "execution_count": 11,
   "id": "798828f8",
   "metadata": {},
   "outputs": [],
   "source": [
    "#sex, tch 제거."
   ]
  },
  {
   "cell_type": "code",
   "execution_count": 12,
   "id": "6870f0c1",
   "metadata": {},
   "outputs": [],
   "source": [
    "c.remove('sex')\n",
    "c.remove('tch')"
   ]
  },
  {
   "cell_type": "markdown",
   "id": "6fc1f405",
   "metadata": {},
   "source": [
    "#### df columns에 c 반영하기"
   ]
  },
  {
   "cell_type": "code",
   "execution_count": 13,
   "id": "081f5f16",
   "metadata": {},
   "outputs": [],
   "source": [
    "df=df.loc[:,c]"
   ]
  },
  {
   "cell_type": "markdown",
   "id": "7417c62f",
   "metadata": {},
   "source": [
    "### 이상값 제거\n"
   ]
  },
  {
   "cell_type": "markdown",
   "id": "c3647f33",
   "metadata": {},
   "source": [
    " 1) tc에서 이상값 제거"
   ]
  },
  {
   "cell_type": "code",
   "execution_count": 14,
   "id": "da3ae4a8",
   "metadata": {},
   "outputs": [],
   "source": [
    "no=df[(df['tc']<-0.05)&(df['y']>250)].index\n",
    "df2=df.drop(no,axis=0)"
   ]
  },
  {
   "cell_type": "code",
   "execution_count": 15,
   "id": "cef24045",
   "metadata": {},
   "outputs": [],
   "source": [
    "no2=df2[(df2['tc']>0.15)&(df2['y']<100)].index\n",
    "df3=df2.drop(no2,axis=0)"
   ]
  },
  {
   "cell_type": "markdown",
   "id": "d660b700",
   "metadata": {},
   "source": [
    "2) ldl에서 이상값 제거"
   ]
  },
  {
   "cell_type": "code",
   "execution_count": 16,
   "id": "8a9b631f",
   "metadata": {},
   "outputs": [],
   "source": [
    "no3=df3[(df3['ldl']>0.175)].index\n",
    "df4=df3.drop(no3,axis=0)"
   ]
  },
  {
   "cell_type": "markdown",
   "id": "a014166f",
   "metadata": {},
   "source": [
    "3) hdl에서 이상값 제거"
   ]
  },
  {
   "cell_type": "code",
   "execution_count": 17,
   "id": "168a616c",
   "metadata": {},
   "outputs": [],
   "source": [
    "no4=df4[(df4['hdl']>0.08)&(df4['y']>150)].index\n",
    "df5=df4.drop(no4,axis=0)"
   ]
  },
  {
   "cell_type": "markdown",
   "id": "e9d33441",
   "metadata": {},
   "source": [
    "4) ltg에서 이상값 제거"
   ]
  },
  {
   "cell_type": "code",
   "execution_count": 18,
   "id": "dd7bb474",
   "metadata": {},
   "outputs": [],
   "source": [
    "no5=df5[(df5['ltg']>0.15)&(df5['y']<175)].index\n",
    "df6=df5.drop(no5,axis=0)"
   ]
  },
  {
   "cell_type": "code",
   "execution_count": 19,
   "id": "14cea436",
   "metadata": {},
   "outputs": [
    {
     "data": {
      "text/html": [
       "<div>\n",
       "<style scoped>\n",
       "    .dataframe tbody tr th:only-of-type {\n",
       "        vertical-align: middle;\n",
       "    }\n",
       "\n",
       "    .dataframe tbody tr th {\n",
       "        vertical-align: top;\n",
       "    }\n",
       "\n",
       "    .dataframe thead th {\n",
       "        text-align: right;\n",
       "    }\n",
       "</style>\n",
       "<table border=\"1\" class=\"dataframe\">\n",
       "  <thead>\n",
       "    <tr style=\"text-align: right;\">\n",
       "      <th></th>\n",
       "      <th>age</th>\n",
       "      <th>bmi</th>\n",
       "      <th>map</th>\n",
       "      <th>tc</th>\n",
       "      <th>ldl</th>\n",
       "      <th>hdl</th>\n",
       "      <th>ltg</th>\n",
       "      <th>glu</th>\n",
       "      <th>y</th>\n",
       "    </tr>\n",
       "  </thead>\n",
       "  <tbody>\n",
       "    <tr>\n",
       "      <th>74</th>\n",
       "      <td>0.012648</td>\n",
       "      <td>0.002417</td>\n",
       "      <td>0.056301</td>\n",
       "      <td>0.027326</td>\n",
       "      <td>0.017162</td>\n",
       "      <td>0.041277</td>\n",
       "      <td>0.003712</td>\n",
       "      <td>0.073480</td>\n",
       "      <td>85</td>\n",
       "    </tr>\n",
       "    <tr>\n",
       "      <th>26</th>\n",
       "      <td>-0.107226</td>\n",
       "      <td>-0.077342</td>\n",
       "      <td>-0.026328</td>\n",
       "      <td>-0.089630</td>\n",
       "      <td>-0.096198</td>\n",
       "      <td>0.026550</td>\n",
       "      <td>-0.042572</td>\n",
       "      <td>-0.005220</td>\n",
       "      <td>137</td>\n",
       "    </tr>\n",
       "    <tr>\n",
       "      <th>45</th>\n",
       "      <td>0.027178</td>\n",
       "      <td>-0.035307</td>\n",
       "      <td>0.032201</td>\n",
       "      <td>-0.011201</td>\n",
       "      <td>0.001504</td>\n",
       "      <td>-0.010266</td>\n",
       "      <td>-0.014956</td>\n",
       "      <td>-0.050783</td>\n",
       "      <td>53</td>\n",
       "    </tr>\n",
       "    <tr>\n",
       "      <th>389</th>\n",
       "      <td>-0.005515</td>\n",
       "      <td>0.001339</td>\n",
       "      <td>-0.084857</td>\n",
       "      <td>-0.011201</td>\n",
       "      <td>-0.016658</td>\n",
       "      <td>0.048640</td>\n",
       "      <td>-0.041180</td>\n",
       "      <td>-0.088062</td>\n",
       "      <td>51</td>\n",
       "    </tr>\n",
       "    <tr>\n",
       "      <th>154</th>\n",
       "      <td>0.067136</td>\n",
       "      <td>0.020739</td>\n",
       "      <td>-0.005671</td>\n",
       "      <td>0.020446</td>\n",
       "      <td>0.026243</td>\n",
       "      <td>-0.002903</td>\n",
       "      <td>0.008640</td>\n",
       "      <td>0.003064</td>\n",
       "      <td>197</td>\n",
       "    </tr>\n",
       "    <tr>\n",
       "      <th>...</th>\n",
       "      <td>...</td>\n",
       "      <td>...</td>\n",
       "      <td>...</td>\n",
       "      <td>...</td>\n",
       "      <td>...</td>\n",
       "      <td>...</td>\n",
       "      <td>...</td>\n",
       "      <td>...</td>\n",
       "      <td>...</td>\n",
       "    </tr>\n",
       "    <tr>\n",
       "      <th>323</th>\n",
       "      <td>0.070769</td>\n",
       "      <td>-0.007284</td>\n",
       "      <td>0.049415</td>\n",
       "      <td>0.060349</td>\n",
       "      <td>-0.004445</td>\n",
       "      <td>-0.054446</td>\n",
       "      <td>0.129019</td>\n",
       "      <td>0.056912</td>\n",
       "      <td>248</td>\n",
       "    </tr>\n",
       "    <tr>\n",
       "      <th>192</th>\n",
       "      <td>0.056239</td>\n",
       "      <td>-0.030996</td>\n",
       "      <td>0.008101</td>\n",
       "      <td>0.019070</td>\n",
       "      <td>0.021233</td>\n",
       "      <td>0.033914</td>\n",
       "      <td>-0.029528</td>\n",
       "      <td>-0.059067</td>\n",
       "      <td>91</td>\n",
       "    </tr>\n",
       "    <tr>\n",
       "      <th>117</th>\n",
       "      <td>0.059871</td>\n",
       "      <td>-0.021295</td>\n",
       "      <td>0.087287</td>\n",
       "      <td>0.045213</td>\n",
       "      <td>0.031567</td>\n",
       "      <td>-0.047082</td>\n",
       "      <td>0.079121</td>\n",
       "      <td>0.135612</td>\n",
       "      <td>281</td>\n",
       "    </tr>\n",
       "    <tr>\n",
       "      <th>47</th>\n",
       "      <td>-0.078165</td>\n",
       "      <td>-0.073030</td>\n",
       "      <td>-0.057314</td>\n",
       "      <td>-0.084126</td>\n",
       "      <td>-0.074277</td>\n",
       "      <td>-0.024993</td>\n",
       "      <td>-0.018118</td>\n",
       "      <td>-0.083920</td>\n",
       "      <td>142</td>\n",
       "    </tr>\n",
       "    <tr>\n",
       "      <th>172</th>\n",
       "      <td>0.041708</td>\n",
       "      <td>0.071397</td>\n",
       "      <td>0.008101</td>\n",
       "      <td>0.038334</td>\n",
       "      <td>0.015909</td>\n",
       "      <td>-0.017629</td>\n",
       "      <td>0.073410</td>\n",
       "      <td>0.085907</td>\n",
       "      <td>295</td>\n",
       "    </tr>\n",
       "  </tbody>\n",
       "</table>\n",
       "<p>348 rows × 9 columns</p>\n",
       "</div>"
      ],
      "text/plain": [
       "          age       bmi       map        tc       ldl       hdl       ltg  \\\n",
       "74   0.012648  0.002417  0.056301  0.027326  0.017162  0.041277  0.003712   \n",
       "26  -0.107226 -0.077342 -0.026328 -0.089630 -0.096198  0.026550 -0.042572   \n",
       "45   0.027178 -0.035307  0.032201 -0.011201  0.001504 -0.010266 -0.014956   \n",
       "389 -0.005515  0.001339 -0.084857 -0.011201 -0.016658  0.048640 -0.041180   \n",
       "154  0.067136  0.020739 -0.005671  0.020446  0.026243 -0.002903  0.008640   \n",
       "..        ...       ...       ...       ...       ...       ...       ...   \n",
       "323  0.070769 -0.007284  0.049415  0.060349 -0.004445 -0.054446  0.129019   \n",
       "192  0.056239 -0.030996  0.008101  0.019070  0.021233  0.033914 -0.029528   \n",
       "117  0.059871 -0.021295  0.087287  0.045213  0.031567 -0.047082  0.079121   \n",
       "47  -0.078165 -0.073030 -0.057314 -0.084126 -0.074277 -0.024993 -0.018118   \n",
       "172  0.041708  0.071397  0.008101  0.038334  0.015909 -0.017629  0.073410   \n",
       "\n",
       "          glu    y  \n",
       "74   0.073480   85  \n",
       "26  -0.005220  137  \n",
       "45  -0.050783   53  \n",
       "389 -0.088062   51  \n",
       "154  0.003064  197  \n",
       "..        ...  ...  \n",
       "323  0.056912  248  \n",
       "192 -0.059067   91  \n",
       "117  0.135612  281  \n",
       "47  -0.083920  142  \n",
       "172  0.085907  295  \n",
       "\n",
       "[348 rows x 9 columns]"
      ]
     },
     "execution_count": 19,
     "metadata": {},
     "output_type": "execute_result"
    }
   ],
   "source": [
    "df6"
   ]
  },
  {
   "cell_type": "markdown",
   "id": "8f03f364",
   "metadata": {},
   "source": [
    "### 훈련 데이터와 테스트 데이터의 분할"
   ]
  },
  {
   "cell_type": "code",
   "execution_count": 20,
   "id": "a9511338",
   "metadata": {},
   "outputs": [],
   "source": [
    "x=df6.loc[:,:'glu']\n",
    "y=df6['y']"
   ]
  },
  {
   "cell_type": "code",
   "execution_count": 21,
   "id": "665238e6",
   "metadata": {},
   "outputs": [
    {
     "data": {
      "text/html": [
       "<div>\n",
       "<style scoped>\n",
       "    .dataframe tbody tr th:only-of-type {\n",
       "        vertical-align: middle;\n",
       "    }\n",
       "\n",
       "    .dataframe tbody tr th {\n",
       "        vertical-align: top;\n",
       "    }\n",
       "\n",
       "    .dataframe thead th {\n",
       "        text-align: right;\n",
       "    }\n",
       "</style>\n",
       "<table border=\"1\" class=\"dataframe\">\n",
       "  <thead>\n",
       "    <tr style=\"text-align: right;\">\n",
       "      <th></th>\n",
       "      <th>age</th>\n",
       "      <th>bmi</th>\n",
       "      <th>map</th>\n",
       "      <th>tc</th>\n",
       "      <th>ldl</th>\n",
       "      <th>hdl</th>\n",
       "      <th>ltg</th>\n",
       "      <th>glu</th>\n",
       "    </tr>\n",
       "  </thead>\n",
       "  <tbody>\n",
       "    <tr>\n",
       "      <th>74</th>\n",
       "      <td>0.012648</td>\n",
       "      <td>0.002417</td>\n",
       "      <td>0.056301</td>\n",
       "      <td>0.027326</td>\n",
       "      <td>0.017162</td>\n",
       "      <td>0.041277</td>\n",
       "      <td>0.003712</td>\n",
       "      <td>0.073480</td>\n",
       "    </tr>\n",
       "    <tr>\n",
       "      <th>26</th>\n",
       "      <td>-0.107226</td>\n",
       "      <td>-0.077342</td>\n",
       "      <td>-0.026328</td>\n",
       "      <td>-0.089630</td>\n",
       "      <td>-0.096198</td>\n",
       "      <td>0.026550</td>\n",
       "      <td>-0.042572</td>\n",
       "      <td>-0.005220</td>\n",
       "    </tr>\n",
       "    <tr>\n",
       "      <th>45</th>\n",
       "      <td>0.027178</td>\n",
       "      <td>-0.035307</td>\n",
       "      <td>0.032201</td>\n",
       "      <td>-0.011201</td>\n",
       "      <td>0.001504</td>\n",
       "      <td>-0.010266</td>\n",
       "      <td>-0.014956</td>\n",
       "      <td>-0.050783</td>\n",
       "    </tr>\n",
       "    <tr>\n",
       "      <th>389</th>\n",
       "      <td>-0.005515</td>\n",
       "      <td>0.001339</td>\n",
       "      <td>-0.084857</td>\n",
       "      <td>-0.011201</td>\n",
       "      <td>-0.016658</td>\n",
       "      <td>0.048640</td>\n",
       "      <td>-0.041180</td>\n",
       "      <td>-0.088062</td>\n",
       "    </tr>\n",
       "    <tr>\n",
       "      <th>154</th>\n",
       "      <td>0.067136</td>\n",
       "      <td>0.020739</td>\n",
       "      <td>-0.005671</td>\n",
       "      <td>0.020446</td>\n",
       "      <td>0.026243</td>\n",
       "      <td>-0.002903</td>\n",
       "      <td>0.008640</td>\n",
       "      <td>0.003064</td>\n",
       "    </tr>\n",
       "    <tr>\n",
       "      <th>...</th>\n",
       "      <td>...</td>\n",
       "      <td>...</td>\n",
       "      <td>...</td>\n",
       "      <td>...</td>\n",
       "      <td>...</td>\n",
       "      <td>...</td>\n",
       "      <td>...</td>\n",
       "      <td>...</td>\n",
       "    </tr>\n",
       "    <tr>\n",
       "      <th>323</th>\n",
       "      <td>0.070769</td>\n",
       "      <td>-0.007284</td>\n",
       "      <td>0.049415</td>\n",
       "      <td>0.060349</td>\n",
       "      <td>-0.004445</td>\n",
       "      <td>-0.054446</td>\n",
       "      <td>0.129019</td>\n",
       "      <td>0.056912</td>\n",
       "    </tr>\n",
       "    <tr>\n",
       "      <th>192</th>\n",
       "      <td>0.056239</td>\n",
       "      <td>-0.030996</td>\n",
       "      <td>0.008101</td>\n",
       "      <td>0.019070</td>\n",
       "      <td>0.021233</td>\n",
       "      <td>0.033914</td>\n",
       "      <td>-0.029528</td>\n",
       "      <td>-0.059067</td>\n",
       "    </tr>\n",
       "    <tr>\n",
       "      <th>117</th>\n",
       "      <td>0.059871</td>\n",
       "      <td>-0.021295</td>\n",
       "      <td>0.087287</td>\n",
       "      <td>0.045213</td>\n",
       "      <td>0.031567</td>\n",
       "      <td>-0.047082</td>\n",
       "      <td>0.079121</td>\n",
       "      <td>0.135612</td>\n",
       "    </tr>\n",
       "    <tr>\n",
       "      <th>47</th>\n",
       "      <td>-0.078165</td>\n",
       "      <td>-0.073030</td>\n",
       "      <td>-0.057314</td>\n",
       "      <td>-0.084126</td>\n",
       "      <td>-0.074277</td>\n",
       "      <td>-0.024993</td>\n",
       "      <td>-0.018118</td>\n",
       "      <td>-0.083920</td>\n",
       "    </tr>\n",
       "    <tr>\n",
       "      <th>172</th>\n",
       "      <td>0.041708</td>\n",
       "      <td>0.071397</td>\n",
       "      <td>0.008101</td>\n",
       "      <td>0.038334</td>\n",
       "      <td>0.015909</td>\n",
       "      <td>-0.017629</td>\n",
       "      <td>0.073410</td>\n",
       "      <td>0.085907</td>\n",
       "    </tr>\n",
       "  </tbody>\n",
       "</table>\n",
       "<p>348 rows × 8 columns</p>\n",
       "</div>"
      ],
      "text/plain": [
       "          age       bmi       map        tc       ldl       hdl       ltg  \\\n",
       "74   0.012648  0.002417  0.056301  0.027326  0.017162  0.041277  0.003712   \n",
       "26  -0.107226 -0.077342 -0.026328 -0.089630 -0.096198  0.026550 -0.042572   \n",
       "45   0.027178 -0.035307  0.032201 -0.011201  0.001504 -0.010266 -0.014956   \n",
       "389 -0.005515  0.001339 -0.084857 -0.011201 -0.016658  0.048640 -0.041180   \n",
       "154  0.067136  0.020739 -0.005671  0.020446  0.026243 -0.002903  0.008640   \n",
       "..        ...       ...       ...       ...       ...       ...       ...   \n",
       "323  0.070769 -0.007284  0.049415  0.060349 -0.004445 -0.054446  0.129019   \n",
       "192  0.056239 -0.030996  0.008101  0.019070  0.021233  0.033914 -0.029528   \n",
       "117  0.059871 -0.021295  0.087287  0.045213  0.031567 -0.047082  0.079121   \n",
       "47  -0.078165 -0.073030 -0.057314 -0.084126 -0.074277 -0.024993 -0.018118   \n",
       "172  0.041708  0.071397  0.008101  0.038334  0.015909 -0.017629  0.073410   \n",
       "\n",
       "          glu  \n",
       "74   0.073480  \n",
       "26  -0.005220  \n",
       "45  -0.050783  \n",
       "389 -0.088062  \n",
       "154  0.003064  \n",
       "..        ...  \n",
       "323  0.056912  \n",
       "192 -0.059067  \n",
       "117  0.135612  \n",
       "47  -0.083920  \n",
       "172  0.085907  \n",
       "\n",
       "[348 rows x 8 columns]"
      ]
     },
     "execution_count": 21,
     "metadata": {},
     "output_type": "execute_result"
    }
   ],
   "source": [
    "x"
   ]
  },
  {
   "cell_type": "code",
   "execution_count": 22,
   "id": "515b1c34",
   "metadata": {},
   "outputs": [
    {
     "data": {
      "text/plain": [
       "74      85\n",
       "26     137\n",
       "45      53\n",
       "389     51\n",
       "154    197\n",
       "      ... \n",
       "323    248\n",
       "192     91\n",
       "117    281\n",
       "47     142\n",
       "172    295\n",
       "Name: y, Length: 348, dtype: int64"
      ]
     },
     "execution_count": 22,
     "metadata": {},
     "output_type": "execute_result"
    }
   ],
   "source": [
    "y"
   ]
  },
  {
   "cell_type": "code",
   "execution_count": 23,
   "id": "6aec81cf",
   "metadata": {},
   "outputs": [],
   "source": [
    "from sklearn.model_selection import train_test_split\n",
    "x_train, x_test, y_train, y_test=train_test_split(x,y,test_size=0.2, random_state=100)"
   ]
  },
  {
   "cell_type": "markdown",
   "id": "123da774",
   "metadata": {},
   "source": [
    "### 선형다중회귀로 예측식 찾기"
   ]
  },
  {
   "cell_type": "code",
   "execution_count": 24,
   "id": "142c4667",
   "metadata": {},
   "outputs": [],
   "source": [
    "from sklearn.linear_model import LinearRegression"
   ]
  },
  {
   "cell_type": "code",
   "execution_count": 25,
   "id": "30608847",
   "metadata": {},
   "outputs": [],
   "source": [
    "model=LinearRegression()"
   ]
  },
  {
   "cell_type": "markdown",
   "id": "2fc04e4e",
   "metadata": {},
   "source": [
    "model fitting"
   ]
  },
  {
   "cell_type": "code",
   "execution_count": 26,
   "id": "30f3cc68",
   "metadata": {},
   "outputs": [
    {
     "data": {
      "text/plain": [
       "LinearRegression()"
      ]
     },
     "execution_count": 26,
     "metadata": {},
     "output_type": "execute_result"
    }
   ],
   "source": [
    "model.fit(x_train, y_train)"
   ]
  },
  {
   "cell_type": "markdown",
   "id": "9687b1aa",
   "metadata": {},
   "source": [
    "### 평균절대오차"
   ]
  },
  {
   "cell_type": "code",
   "execution_count": 27,
   "id": "78696eae",
   "metadata": {},
   "outputs": [],
   "source": [
    "import matplotlib.pyplot as plt"
   ]
  },
  {
   "cell_type": "code",
   "execution_count": 28,
   "id": "a876ec5c",
   "metadata": {
    "scrolled": true
   },
   "outputs": [
    {
     "data": {
      "text/plain": [
       "48.532323969427196"
      ]
     },
     "execution_count": 28,
     "metadata": {},
     "output_type": "execute_result"
    }
   ],
   "source": [
    "from sklearn.metrics import mean_absolute_error\n",
    "\n",
    "predic=model.predict(x_test)\n",
    "\n",
    "mean_absolute_error(y_pred=predic, y_true=y_test)"
   ]
  },
  {
   "cell_type": "code",
   "execution_count": 29,
   "id": "b9c3c95b",
   "metadata": {},
   "outputs": [
    {
     "name": "stdout",
     "output_type": "stream",
     "text": [
      "346\n",
      "25\n"
     ]
    }
   ],
   "source": [
    "print(df6['y'].max())\n",
    "print(df6['y'].min())"
   ]
  },
  {
   "cell_type": "markdown",
   "id": "96079912",
   "metadata": {},
   "source": [
    "### 결정계수"
   ]
  },
  {
   "cell_type": "code",
   "execution_count": 30,
   "id": "029ddcc7",
   "metadata": {},
   "outputs": [
    {
     "data": {
      "text/plain": [
       "0.428402395117243"
      ]
     },
     "execution_count": 30,
     "metadata": {},
     "output_type": "execute_result"
    }
   ],
   "source": [
    "model.score(x_test,y_test)"
   ]
  },
  {
   "cell_type": "markdown",
   "id": "c4f6f855",
   "metadata": {},
   "source": [
    "### 영향도 분석"
   ]
  },
  {
   "cell_type": "code",
   "execution_count": 31,
   "id": "bdbfec4e",
   "metadata": {
    "scrolled": true
   },
   "outputs": [
    {
     "data": {
      "text/html": [
       "<div>\n",
       "<style scoped>\n",
       "    .dataframe tbody tr th:only-of-type {\n",
       "        vertical-align: middle;\n",
       "    }\n",
       "\n",
       "    .dataframe tbody tr th {\n",
       "        vertical-align: top;\n",
       "    }\n",
       "\n",
       "    .dataframe thead th {\n",
       "        text-align: right;\n",
       "    }\n",
       "</style>\n",
       "<table border=\"1\" class=\"dataframe\">\n",
       "  <thead>\n",
       "    <tr style=\"text-align: right;\">\n",
       "      <th></th>\n",
       "      <th>0</th>\n",
       "    </tr>\n",
       "  </thead>\n",
       "  <tbody>\n",
       "    <tr>\n",
       "      <th>age</th>\n",
       "      <td>-4.472141</td>\n",
       "    </tr>\n",
       "    <tr>\n",
       "      <th>bmi</th>\n",
       "      <td>634.349474</td>\n",
       "    </tr>\n",
       "    <tr>\n",
       "      <th>map</th>\n",
       "      <td>274.887980</td>\n",
       "    </tr>\n",
       "    <tr>\n",
       "      <th>tc</th>\n",
       "      <td>-321.266040</td>\n",
       "    </tr>\n",
       "    <tr>\n",
       "      <th>ldl</th>\n",
       "      <td>81.651935</td>\n",
       "    </tr>\n",
       "    <tr>\n",
       "      <th>hdl</th>\n",
       "      <td>-92.571884</td>\n",
       "    </tr>\n",
       "    <tr>\n",
       "      <th>ltg</th>\n",
       "      <td>641.674991</td>\n",
       "    </tr>\n",
       "    <tr>\n",
       "      <th>glu</th>\n",
       "      <td>11.875938</td>\n",
       "    </tr>\n",
       "  </tbody>\n",
       "</table>\n",
       "</div>"
      ],
      "text/plain": [
       "              0\n",
       "age   -4.472141\n",
       "bmi  634.349474\n",
       "map  274.887980\n",
       "tc  -321.266040\n",
       "ldl   81.651935\n",
       "hdl  -92.571884\n",
       "ltg  641.674991\n",
       "glu   11.875938"
      ]
     },
     "execution_count": 31,
     "metadata": {},
     "output_type": "execute_result"
    }
   ],
   "source": [
    "tmp=pd.DataFrame(model.coef_)\n",
    "tmp.index=x_train.columns\n",
    "tmp"
   ]
  },
  {
   "cell_type": "code",
   "execution_count": 32,
   "id": "2194d49f",
   "metadata": {},
   "outputs": [
    {
     "name": "stdout",
     "output_type": "stream",
     "text": [
      "151.58606932649454\n"
     ]
    }
   ],
   "source": [
    "print(model.intercept_)"
   ]
  },
  {
   "cell_type": "markdown",
   "id": "9c9eaf12",
   "metadata": {},
   "source": [
    "$$y=-23.277148\\times age + 552.650741 \\times bmi+ 298.834387 \\times map+ -526.203937 \\times tc+ 316.563255 \\times ldl+-40.731228 \\times hdl +652.034202 \\times ltg + +121.320318 \\times glu +152.84018850426648 $$"
   ]
  },
  {
   "cell_type": "code",
   "execution_count": 33,
   "id": "a4476767",
   "metadata": {},
   "outputs": [
    {
     "data": {
      "text/plain": [
       "age    0.183256\n",
       "bmi    0.610801\n",
       "map    0.436144\n",
       "tc     0.250517\n",
       "ldl    0.197291\n",
       "hdl   -0.433339\n",
       "ltg    0.594939\n",
       "glu    0.391869\n",
       "y      1.000000\n",
       "Name: y, dtype: float64"
      ]
     },
     "execution_count": 33,
     "metadata": {},
     "output_type": "execute_result"
    }
   ],
   "source": [
    "df6.corr()['y']"
   ]
  },
  {
   "cell_type": "markdown",
   "id": "2c7e378f",
   "metadata": {},
   "source": [
    "### age도 제거?\n"
   ]
  },
  {
   "cell_type": "code",
   "execution_count": 34,
   "id": "0e5d8dd3",
   "metadata": {},
   "outputs": [],
   "source": [
    "c.remove('age')"
   ]
  },
  {
   "cell_type": "code",
   "execution_count": 35,
   "id": "4a3e0620",
   "metadata": {},
   "outputs": [],
   "source": [
    "df1=df6.loc[:,c]"
   ]
  },
  {
   "cell_type": "code",
   "execution_count": 36,
   "id": "4868e77f",
   "metadata": {},
   "outputs": [
    {
     "data": {
      "text/plain": [
       "bmi    0.610801\n",
       "map    0.436144\n",
       "tc     0.250517\n",
       "ldl    0.197291\n",
       "hdl   -0.433339\n",
       "ltg    0.594939\n",
       "glu    0.391869\n",
       "y      1.000000\n",
       "Name: y, dtype: float64"
      ]
     },
     "execution_count": 36,
     "metadata": {},
     "output_type": "execute_result"
    }
   ],
   "source": [
    "df1.corr()['y']"
   ]
  },
  {
   "cell_type": "code",
   "execution_count": 37,
   "id": "6452d6f1",
   "metadata": {},
   "outputs": [],
   "source": [
    "x2=df1.loc[:,:'glu']\n",
    "y2=df1['y']"
   ]
  },
  {
   "cell_type": "code",
   "execution_count": 38,
   "id": "fb335242",
   "metadata": {},
   "outputs": [],
   "source": [
    "from sklearn.model_selection import train_test_split\n",
    "x_train, x_test, y_train, y_test=train_test_split(x2,y2,test_size=0.2, random_state=100)"
   ]
  },
  {
   "cell_type": "code",
   "execution_count": 39,
   "id": "60528ae2",
   "metadata": {
    "scrolled": true
   },
   "outputs": [
    {
     "data": {
      "text/plain": [
       "LinearRegression()"
      ]
     },
     "execution_count": 39,
     "metadata": {},
     "output_type": "execute_result"
    }
   ],
   "source": [
    "model.fit(x_train, y_train)"
   ]
  },
  {
   "cell_type": "code",
   "execution_count": 40,
   "id": "70931367",
   "metadata": {},
   "outputs": [
    {
     "data": {
      "text/plain": [
       "48.56269356740989"
      ]
     },
     "execution_count": 40,
     "metadata": {},
     "output_type": "execute_result"
    }
   ],
   "source": [
    "predic=model.predict(x_test)\n",
    "\n",
    "mean_absolute_error(y_pred=predic, y_true=y_test)"
   ]
  },
  {
   "cell_type": "markdown",
   "id": "c9ac8962",
   "metadata": {},
   "source": [
    "결정계수"
   ]
  },
  {
   "cell_type": "code",
   "execution_count": 41,
   "id": "3c0c55dd",
   "metadata": {},
   "outputs": [
    {
     "data": {
      "text/plain": [
       "0.4275194411418102"
      ]
     },
     "execution_count": 41,
     "metadata": {},
     "output_type": "execute_result"
    }
   ],
   "source": [
    "model.score(x_test,y_test)"
   ]
  },
  {
   "cell_type": "markdown",
   "id": "10063f2d",
   "metadata": {},
   "source": [
    "영향도"
   ]
  },
  {
   "cell_type": "code",
   "execution_count": 42,
   "id": "f823dd1a",
   "metadata": {},
   "outputs": [
    {
     "data": {
      "text/html": [
       "<div>\n",
       "<style scoped>\n",
       "    .dataframe tbody tr th:only-of-type {\n",
       "        vertical-align: middle;\n",
       "    }\n",
       "\n",
       "    .dataframe tbody tr th {\n",
       "        vertical-align: top;\n",
       "    }\n",
       "\n",
       "    .dataframe thead th {\n",
       "        text-align: right;\n",
       "    }\n",
       "</style>\n",
       "<table border=\"1\" class=\"dataframe\">\n",
       "  <thead>\n",
       "    <tr style=\"text-align: right;\">\n",
       "      <th></th>\n",
       "      <th>0</th>\n",
       "    </tr>\n",
       "  </thead>\n",
       "  <tbody>\n",
       "    <tr>\n",
       "      <th>bmi</th>\n",
       "      <td>634.629745</td>\n",
       "    </tr>\n",
       "    <tr>\n",
       "      <th>map</th>\n",
       "      <td>273.883548</td>\n",
       "    </tr>\n",
       "    <tr>\n",
       "      <th>tc</th>\n",
       "      <td>-319.971474</td>\n",
       "    </tr>\n",
       "    <tr>\n",
       "      <th>ldl</th>\n",
       "      <td>79.757138</td>\n",
       "    </tr>\n",
       "    <tr>\n",
       "      <th>hdl</th>\n",
       "      <td>-93.351068</td>\n",
       "    </tr>\n",
       "    <tr>\n",
       "      <th>ltg</th>\n",
       "      <td>640.803165</td>\n",
       "    </tr>\n",
       "    <tr>\n",
       "      <th>glu</th>\n",
       "      <td>10.945215</td>\n",
       "    </tr>\n",
       "  </tbody>\n",
       "</table>\n",
       "</div>"
      ],
      "text/plain": [
       "              0\n",
       "bmi  634.629745\n",
       "map  273.883548\n",
       "tc  -319.971474\n",
       "ldl   79.757138\n",
       "hdl  -93.351068\n",
       "ltg  640.803165\n",
       "glu   10.945215"
      ]
     },
     "execution_count": 42,
     "metadata": {},
     "output_type": "execute_result"
    }
   ],
   "source": [
    "tmp=pd.DataFrame(model.coef_)\n",
    "tmp.index=x_train.columns\n",
    "tmp"
   ]
  },
  {
   "cell_type": "markdown",
   "id": "1317c997",
   "metadata": {},
   "source": [
    "###  tc, ldl 제거"
   ]
  },
  {
   "cell_type": "code",
   "execution_count": 43,
   "id": "2f27d335",
   "metadata": {},
   "outputs": [],
   "source": [
    "c.remove('tc')\n",
    "c.remove('ldl')"
   ]
  },
  {
   "cell_type": "code",
   "execution_count": 44,
   "id": "b537a7b5",
   "metadata": {},
   "outputs": [],
   "source": [
    "df11=df1.loc[:,c]"
   ]
  },
  {
   "cell_type": "code",
   "execution_count": 45,
   "id": "5f34ac52",
   "metadata": {},
   "outputs": [
    {
     "data": {
      "text/html": [
       "<div>\n",
       "<style scoped>\n",
       "    .dataframe tbody tr th:only-of-type {\n",
       "        vertical-align: middle;\n",
       "    }\n",
       "\n",
       "    .dataframe tbody tr th {\n",
       "        vertical-align: top;\n",
       "    }\n",
       "\n",
       "    .dataframe thead th {\n",
       "        text-align: right;\n",
       "    }\n",
       "</style>\n",
       "<table border=\"1\" class=\"dataframe\">\n",
       "  <thead>\n",
       "    <tr style=\"text-align: right;\">\n",
       "      <th></th>\n",
       "      <th>bmi</th>\n",
       "      <th>map</th>\n",
       "      <th>hdl</th>\n",
       "      <th>ltg</th>\n",
       "      <th>glu</th>\n",
       "      <th>y</th>\n",
       "    </tr>\n",
       "  </thead>\n",
       "  <tbody>\n",
       "    <tr>\n",
       "      <th>74</th>\n",
       "      <td>0.002417</td>\n",
       "      <td>0.056301</td>\n",
       "      <td>0.041277</td>\n",
       "      <td>0.003712</td>\n",
       "      <td>0.073480</td>\n",
       "      <td>85</td>\n",
       "    </tr>\n",
       "    <tr>\n",
       "      <th>26</th>\n",
       "      <td>-0.077342</td>\n",
       "      <td>-0.026328</td>\n",
       "      <td>0.026550</td>\n",
       "      <td>-0.042572</td>\n",
       "      <td>-0.005220</td>\n",
       "      <td>137</td>\n",
       "    </tr>\n",
       "    <tr>\n",
       "      <th>45</th>\n",
       "      <td>-0.035307</td>\n",
       "      <td>0.032201</td>\n",
       "      <td>-0.010266</td>\n",
       "      <td>-0.014956</td>\n",
       "      <td>-0.050783</td>\n",
       "      <td>53</td>\n",
       "    </tr>\n",
       "    <tr>\n",
       "      <th>389</th>\n",
       "      <td>0.001339</td>\n",
       "      <td>-0.084857</td>\n",
       "      <td>0.048640</td>\n",
       "      <td>-0.041180</td>\n",
       "      <td>-0.088062</td>\n",
       "      <td>51</td>\n",
       "    </tr>\n",
       "    <tr>\n",
       "      <th>154</th>\n",
       "      <td>0.020739</td>\n",
       "      <td>-0.005671</td>\n",
       "      <td>-0.002903</td>\n",
       "      <td>0.008640</td>\n",
       "      <td>0.003064</td>\n",
       "      <td>197</td>\n",
       "    </tr>\n",
       "    <tr>\n",
       "      <th>...</th>\n",
       "      <td>...</td>\n",
       "      <td>...</td>\n",
       "      <td>...</td>\n",
       "      <td>...</td>\n",
       "      <td>...</td>\n",
       "      <td>...</td>\n",
       "    </tr>\n",
       "    <tr>\n",
       "      <th>323</th>\n",
       "      <td>-0.007284</td>\n",
       "      <td>0.049415</td>\n",
       "      <td>-0.054446</td>\n",
       "      <td>0.129019</td>\n",
       "      <td>0.056912</td>\n",
       "      <td>248</td>\n",
       "    </tr>\n",
       "    <tr>\n",
       "      <th>192</th>\n",
       "      <td>-0.030996</td>\n",
       "      <td>0.008101</td>\n",
       "      <td>0.033914</td>\n",
       "      <td>-0.029528</td>\n",
       "      <td>-0.059067</td>\n",
       "      <td>91</td>\n",
       "    </tr>\n",
       "    <tr>\n",
       "      <th>117</th>\n",
       "      <td>-0.021295</td>\n",
       "      <td>0.087287</td>\n",
       "      <td>-0.047082</td>\n",
       "      <td>0.079121</td>\n",
       "      <td>0.135612</td>\n",
       "      <td>281</td>\n",
       "    </tr>\n",
       "    <tr>\n",
       "      <th>47</th>\n",
       "      <td>-0.073030</td>\n",
       "      <td>-0.057314</td>\n",
       "      <td>-0.024993</td>\n",
       "      <td>-0.018118</td>\n",
       "      <td>-0.083920</td>\n",
       "      <td>142</td>\n",
       "    </tr>\n",
       "    <tr>\n",
       "      <th>172</th>\n",
       "      <td>0.071397</td>\n",
       "      <td>0.008101</td>\n",
       "      <td>-0.017629</td>\n",
       "      <td>0.073410</td>\n",
       "      <td>0.085907</td>\n",
       "      <td>295</td>\n",
       "    </tr>\n",
       "  </tbody>\n",
       "</table>\n",
       "<p>348 rows × 6 columns</p>\n",
       "</div>"
      ],
      "text/plain": [
       "          bmi       map       hdl       ltg       glu    y\n",
       "74   0.002417  0.056301  0.041277  0.003712  0.073480   85\n",
       "26  -0.077342 -0.026328  0.026550 -0.042572 -0.005220  137\n",
       "45  -0.035307  0.032201 -0.010266 -0.014956 -0.050783   53\n",
       "389  0.001339 -0.084857  0.048640 -0.041180 -0.088062   51\n",
       "154  0.020739 -0.005671 -0.002903  0.008640  0.003064  197\n",
       "..        ...       ...       ...       ...       ...  ...\n",
       "323 -0.007284  0.049415 -0.054446  0.129019  0.056912  248\n",
       "192 -0.030996  0.008101  0.033914 -0.029528 -0.059067   91\n",
       "117 -0.021295  0.087287 -0.047082  0.079121  0.135612  281\n",
       "47  -0.073030 -0.057314 -0.024993 -0.018118 -0.083920  142\n",
       "172  0.071397  0.008101 -0.017629  0.073410  0.085907  295\n",
       "\n",
       "[348 rows x 6 columns]"
      ]
     },
     "execution_count": 45,
     "metadata": {},
     "output_type": "execute_result"
    }
   ],
   "source": [
    "df11"
   ]
  },
  {
   "cell_type": "code",
   "execution_count": 46,
   "id": "1e292d83",
   "metadata": {},
   "outputs": [],
   "source": [
    "x3=df11.loc[:,:'glu']\n",
    "y3=df11['y']"
   ]
  },
  {
   "cell_type": "code",
   "execution_count": 47,
   "id": "4c5468fe",
   "metadata": {},
   "outputs": [],
   "source": [
    "from sklearn.model_selection import train_test_split\n",
    "x_train, x_test, y_train, y_test=train_test_split(x3,y3,test_size=0.2, random_state=100)"
   ]
  },
  {
   "cell_type": "code",
   "execution_count": 48,
   "id": "89c59928",
   "metadata": {},
   "outputs": [
    {
     "data": {
      "text/plain": [
       "LinearRegression()"
      ]
     },
     "execution_count": 48,
     "metadata": {},
     "output_type": "execute_result"
    }
   ],
   "source": [
    "model.fit(x_train, y_train)"
   ]
  },
  {
   "cell_type": "code",
   "execution_count": 49,
   "id": "9af54d30",
   "metadata": {},
   "outputs": [
    {
     "data": {
      "text/plain": [
       "48.283554436828005"
      ]
     },
     "execution_count": 49,
     "metadata": {},
     "output_type": "execute_result"
    }
   ],
   "source": [
    "predic=model.predict(x_test)\n",
    "\n",
    "mean_absolute_error(y_pred=predic, y_true=y_test)"
   ]
  },
  {
   "cell_type": "code",
   "execution_count": 50,
   "id": "1381fcbd",
   "metadata": {},
   "outputs": [
    {
     "data": {
      "text/plain": [
       "0.4399783842661018"
      ]
     },
     "execution_count": 50,
     "metadata": {},
     "output_type": "execute_result"
    }
   ],
   "source": [
    "model.score(x_test,y_test)"
   ]
  },
  {
   "cell_type": "code",
   "execution_count": 51,
   "id": "f3cc5b50",
   "metadata": {
    "scrolled": true
   },
   "outputs": [
    {
     "data": {
      "text/html": [
       "<div>\n",
       "<style scoped>\n",
       "    .dataframe tbody tr th:only-of-type {\n",
       "        vertical-align: middle;\n",
       "    }\n",
       "\n",
       "    .dataframe tbody tr th {\n",
       "        vertical-align: top;\n",
       "    }\n",
       "\n",
       "    .dataframe thead th {\n",
       "        text-align: right;\n",
       "    }\n",
       "</style>\n",
       "<table border=\"1\" class=\"dataframe\">\n",
       "  <thead>\n",
       "    <tr style=\"text-align: right;\">\n",
       "      <th></th>\n",
       "      <th>0</th>\n",
       "    </tr>\n",
       "  </thead>\n",
       "  <tbody>\n",
       "    <tr>\n",
       "      <th>bmi</th>\n",
       "      <td>618.635637</td>\n",
       "    </tr>\n",
       "    <tr>\n",
       "      <th>map</th>\n",
       "      <td>268.818219</td>\n",
       "    </tr>\n",
       "    <tr>\n",
       "      <th>hdl</th>\n",
       "      <td>-191.312765</td>\n",
       "    </tr>\n",
       "    <tr>\n",
       "      <th>ltg</th>\n",
       "      <td>484.319290</td>\n",
       "    </tr>\n",
       "    <tr>\n",
       "      <th>glu</th>\n",
       "      <td>-16.777591</td>\n",
       "    </tr>\n",
       "  </tbody>\n",
       "</table>\n",
       "</div>"
      ],
      "text/plain": [
       "              0\n",
       "bmi  618.635637\n",
       "map  268.818219\n",
       "hdl -191.312765\n",
       "ltg  484.319290\n",
       "glu  -16.777591"
      ]
     },
     "execution_count": 51,
     "metadata": {},
     "output_type": "execute_result"
    }
   ],
   "source": [
    "tmp=pd.DataFrame(model.coef_)\n",
    "tmp.index=x_train.columns\n",
    "tmp"
   ]
  },
  {
   "cell_type": "markdown",
   "id": "78ae3447",
   "metadata": {},
   "source": [
    "제일 처음의 dataframe에서 상관계수는,"
   ]
  },
  {
   "cell_type": "code",
   "execution_count": 52,
   "id": "019508e1",
   "metadata": {},
   "outputs": [
    {
     "data": {
      "text/html": [
       "<div>\n",
       "<style scoped>\n",
       "    .dataframe tbody tr th:only-of-type {\n",
       "        vertical-align: middle;\n",
       "    }\n",
       "\n",
       "    .dataframe tbody tr th {\n",
       "        vertical-align: top;\n",
       "    }\n",
       "\n",
       "    .dataframe thead th {\n",
       "        text-align: right;\n",
       "    }\n",
       "</style>\n",
       "<table border=\"1\" class=\"dataframe\">\n",
       "  <thead>\n",
       "    <tr style=\"text-align: right;\">\n",
       "      <th></th>\n",
       "      <th>Unnamed: 0</th>\n",
       "      <th>age</th>\n",
       "      <th>sex</th>\n",
       "      <th>bmi</th>\n",
       "      <th>map</th>\n",
       "      <th>tc</th>\n",
       "      <th>ldl</th>\n",
       "      <th>hdl</th>\n",
       "      <th>tch</th>\n",
       "      <th>ltg</th>\n",
       "      <th>glu</th>\n",
       "      <th>y</th>\n",
       "    </tr>\n",
       "  </thead>\n",
       "  <tbody>\n",
       "    <tr>\n",
       "      <th>0</th>\n",
       "      <td>0</td>\n",
       "      <td>0.038076</td>\n",
       "      <td>0.050680</td>\n",
       "      <td>0.061696</td>\n",
       "      <td>0.021872</td>\n",
       "      <td>-0.044223</td>\n",
       "      <td>-0.034821</td>\n",
       "      <td>-0.043401</td>\n",
       "      <td>-0.002592</td>\n",
       "      <td>0.019908</td>\n",
       "      <td>-0.017646</td>\n",
       "      <td>151</td>\n",
       "    </tr>\n",
       "    <tr>\n",
       "      <th>1</th>\n",
       "      <td>1</td>\n",
       "      <td>-0.001882</td>\n",
       "      <td>-0.044642</td>\n",
       "      <td>-0.051474</td>\n",
       "      <td>-0.026328</td>\n",
       "      <td>-0.008449</td>\n",
       "      <td>-0.019163</td>\n",
       "      <td>0.074412</td>\n",
       "      <td>-0.039493</td>\n",
       "      <td>-0.068330</td>\n",
       "      <td>-0.092204</td>\n",
       "      <td>75</td>\n",
       "    </tr>\n",
       "    <tr>\n",
       "      <th>2</th>\n",
       "      <td>2</td>\n",
       "      <td>0.085299</td>\n",
       "      <td>0.050680</td>\n",
       "      <td>0.044451</td>\n",
       "      <td>-0.005671</td>\n",
       "      <td>-0.045599</td>\n",
       "      <td>-0.034194</td>\n",
       "      <td>-0.032356</td>\n",
       "      <td>-0.002592</td>\n",
       "      <td>0.002864</td>\n",
       "      <td>-0.025930</td>\n",
       "      <td>141</td>\n",
       "    </tr>\n",
       "    <tr>\n",
       "      <th>3</th>\n",
       "      <td>3</td>\n",
       "      <td>-0.089063</td>\n",
       "      <td>-0.044642</td>\n",
       "      <td>-0.011595</td>\n",
       "      <td>-0.036656</td>\n",
       "      <td>0.012191</td>\n",
       "      <td>0.024991</td>\n",
       "      <td>-0.036038</td>\n",
       "      <td>0.034309</td>\n",
       "      <td>0.022692</td>\n",
       "      <td>-0.009362</td>\n",
       "      <td>206</td>\n",
       "    </tr>\n",
       "    <tr>\n",
       "      <th>4</th>\n",
       "      <td>4</td>\n",
       "      <td>0.005383</td>\n",
       "      <td>-0.044642</td>\n",
       "      <td>-0.036385</td>\n",
       "      <td>0.021872</td>\n",
       "      <td>0.003935</td>\n",
       "      <td>0.015596</td>\n",
       "      <td>0.008142</td>\n",
       "      <td>-0.002592</td>\n",
       "      <td>-0.031991</td>\n",
       "      <td>-0.046641</td>\n",
       "      <td>135</td>\n",
       "    </tr>\n",
       "    <tr>\n",
       "      <th>...</th>\n",
       "      <td>...</td>\n",
       "      <td>...</td>\n",
       "      <td>...</td>\n",
       "      <td>...</td>\n",
       "      <td>...</td>\n",
       "      <td>...</td>\n",
       "      <td>...</td>\n",
       "      <td>...</td>\n",
       "      <td>...</td>\n",
       "      <td>...</td>\n",
       "      <td>...</td>\n",
       "      <td>...</td>\n",
       "    </tr>\n",
       "    <tr>\n",
       "      <th>95</th>\n",
       "      <td>95</td>\n",
       "      <td>-0.070900</td>\n",
       "      <td>-0.044642</td>\n",
       "      <td>-0.057941</td>\n",
       "      <td>-0.081414</td>\n",
       "      <td>-0.045599</td>\n",
       "      <td>-0.028871</td>\n",
       "      <td>-0.043401</td>\n",
       "      <td>-0.002592</td>\n",
       "      <td>0.001144</td>\n",
       "      <td>-0.005220</td>\n",
       "      <td>162</td>\n",
       "    </tr>\n",
       "    <tr>\n",
       "      <th>96</th>\n",
       "      <td>96</td>\n",
       "      <td>0.056239</td>\n",
       "      <td>0.050680</td>\n",
       "      <td>0.009961</td>\n",
       "      <td>0.049415</td>\n",
       "      <td>-0.004321</td>\n",
       "      <td>-0.012274</td>\n",
       "      <td>-0.043401</td>\n",
       "      <td>0.034309</td>\n",
       "      <td>0.060788</td>\n",
       "      <td>0.032059</td>\n",
       "      <td>150</td>\n",
       "    </tr>\n",
       "    <tr>\n",
       "      <th>97</th>\n",
       "      <td>97</td>\n",
       "      <td>-0.027310</td>\n",
       "      <td>-0.044642</td>\n",
       "      <td>0.088642</td>\n",
       "      <td>-0.025180</td>\n",
       "      <td>0.021822</td>\n",
       "      <td>0.042527</td>\n",
       "      <td>-0.032356</td>\n",
       "      <td>0.034309</td>\n",
       "      <td>0.002864</td>\n",
       "      <td>0.077622</td>\n",
       "      <td>279</td>\n",
       "    </tr>\n",
       "    <tr>\n",
       "      <th>98</th>\n",
       "      <td>98</td>\n",
       "      <td>0.001751</td>\n",
       "      <td>0.050680</td>\n",
       "      <td>-0.005128</td>\n",
       "      <td>-0.012556</td>\n",
       "      <td>-0.015328</td>\n",
       "      <td>-0.013840</td>\n",
       "      <td>0.008142</td>\n",
       "      <td>-0.039493</td>\n",
       "      <td>-0.006080</td>\n",
       "      <td>-0.067351</td>\n",
       "      <td>92</td>\n",
       "    </tr>\n",
       "    <tr>\n",
       "      <th>99</th>\n",
       "      <td>99</td>\n",
       "      <td>-0.001882</td>\n",
       "      <td>-0.044642</td>\n",
       "      <td>-0.064408</td>\n",
       "      <td>0.011544</td>\n",
       "      <td>0.027326</td>\n",
       "      <td>0.037517</td>\n",
       "      <td>-0.013948</td>\n",
       "      <td>0.034309</td>\n",
       "      <td>0.011784</td>\n",
       "      <td>-0.054925</td>\n",
       "      <td>83</td>\n",
       "    </tr>\n",
       "  </tbody>\n",
       "</table>\n",
       "<p>100 rows × 12 columns</p>\n",
       "</div>"
      ],
      "text/plain": [
       "    Unnamed: 0       age       sex       bmi       map        tc       ldl  \\\n",
       "0            0  0.038076  0.050680  0.061696  0.021872 -0.044223 -0.034821   \n",
       "1            1 -0.001882 -0.044642 -0.051474 -0.026328 -0.008449 -0.019163   \n",
       "2            2  0.085299  0.050680  0.044451 -0.005671 -0.045599 -0.034194   \n",
       "3            3 -0.089063 -0.044642 -0.011595 -0.036656  0.012191  0.024991   \n",
       "4            4  0.005383 -0.044642 -0.036385  0.021872  0.003935  0.015596   \n",
       "..         ...       ...       ...       ...       ...       ...       ...   \n",
       "95          95 -0.070900 -0.044642 -0.057941 -0.081414 -0.045599 -0.028871   \n",
       "96          96  0.056239  0.050680  0.009961  0.049415 -0.004321 -0.012274   \n",
       "97          97 -0.027310 -0.044642  0.088642 -0.025180  0.021822  0.042527   \n",
       "98          98  0.001751  0.050680 -0.005128 -0.012556 -0.015328 -0.013840   \n",
       "99          99 -0.001882 -0.044642 -0.064408  0.011544  0.027326  0.037517   \n",
       "\n",
       "         hdl       tch       ltg       glu    y  \n",
       "0  -0.043401 -0.002592  0.019908 -0.017646  151  \n",
       "1   0.074412 -0.039493 -0.068330 -0.092204   75  \n",
       "2  -0.032356 -0.002592  0.002864 -0.025930  141  \n",
       "3  -0.036038  0.034309  0.022692 -0.009362  206  \n",
       "4   0.008142 -0.002592 -0.031991 -0.046641  135  \n",
       "..       ...       ...       ...       ...  ...  \n",
       "95 -0.043401 -0.002592  0.001144 -0.005220  162  \n",
       "96 -0.043401  0.034309  0.060788  0.032059  150  \n",
       "97 -0.032356  0.034309  0.002864  0.077622  279  \n",
       "98  0.008142 -0.039493 -0.006080 -0.067351   92  \n",
       "99 -0.013948  0.034309  0.011784 -0.054925   83  \n",
       "\n",
       "[100 rows x 12 columns]"
      ]
     },
     "execution_count": 52,
     "metadata": {},
     "output_type": "execute_result"
    }
   ],
   "source": [
    "df=pd.read_csv('diabetes_standardized.csv')\n",
    "df.head(100)"
   ]
  },
  {
   "cell_type": "code",
   "execution_count": 53,
   "id": "295204fa",
   "metadata": {},
   "outputs": [],
   "source": [
    "no=df[(df['tc']<-0.05)&(df['y']>250)].index\n",
    "df2=df.drop(no,axis=0)\n",
    "no2=df2[(df2['tc']>0.15)&(df2['y']<100)].index\n",
    "df3=df2.drop(no2,axis=0)\n",
    "no3=df3[(df3['ldl']>0.175)].index\n",
    "df4=df3.drop(no3,axis=0)\n",
    "no4=df4[(df4['hdl']>0.08)&(df4['y']>150)].index\n",
    "df5=df4.drop(no4,axis=0)\n",
    "no5=df5[(df5['ltg']>0.15)&(df5['y']<175)].index\n",
    "df6=df5.drop(no5,axis=0)\n",
    "\n",
    "c11=list(df.columns)\n",
    "c11.remove('sex')\n",
    "c11.remove('age')\n",
    "c11.remove('Unnamed: 0')"
   ]
  },
  {
   "cell_type": "code",
   "execution_count": 54,
   "id": "ec58230c",
   "metadata": {
    "scrolled": true
   },
   "outputs": [
    {
     "data": {
      "text/plain": [
       "bmi    0.591230\n",
       "map    0.438310\n",
       "tc     0.248998\n",
       "ldl    0.209977\n",
       "hdl   -0.400469\n",
       "tch    0.450117\n",
       "ltg    0.570127\n",
       "glu    0.399482\n",
       "y      1.000000\n",
       "Name: y, dtype: float64"
      ]
     },
     "execution_count": 54,
     "metadata": {},
     "output_type": "execute_result"
    }
   ],
   "source": [
    "df6=df6.loc[:,c11]\n",
    "df6.corr()['y']"
   ]
  },
  {
   "cell_type": "markdown",
   "id": "a9800fa9",
   "metadata": {},
   "source": [
    "tch를 넣어서 다시 새로운 모델학습을 시작."
   ]
  },
  {
   "cell_type": "code",
   "execution_count": 55,
   "id": "19aa3727",
   "metadata": {
    "scrolled": true
   },
   "outputs": [],
   "source": [
    "df12=df.loc[:,c11]"
   ]
  },
  {
   "cell_type": "code",
   "execution_count": 56,
   "id": "658cde36",
   "metadata": {},
   "outputs": [
    {
     "data": {
      "text/html": [
       "<div>\n",
       "<style scoped>\n",
       "    .dataframe tbody tr th:only-of-type {\n",
       "        vertical-align: middle;\n",
       "    }\n",
       "\n",
       "    .dataframe tbody tr th {\n",
       "        vertical-align: top;\n",
       "    }\n",
       "\n",
       "    .dataframe thead th {\n",
       "        text-align: right;\n",
       "    }\n",
       "</style>\n",
       "<table border=\"1\" class=\"dataframe\">\n",
       "  <thead>\n",
       "    <tr style=\"text-align: right;\">\n",
       "      <th></th>\n",
       "      <th>bmi</th>\n",
       "      <th>map</th>\n",
       "      <th>tc</th>\n",
       "      <th>ldl</th>\n",
       "      <th>hdl</th>\n",
       "      <th>tch</th>\n",
       "      <th>ltg</th>\n",
       "      <th>glu</th>\n",
       "      <th>y</th>\n",
       "    </tr>\n",
       "  </thead>\n",
       "  <tbody>\n",
       "    <tr>\n",
       "      <th>0</th>\n",
       "      <td>0.061696</td>\n",
       "      <td>0.021872</td>\n",
       "      <td>-0.044223</td>\n",
       "      <td>-0.034821</td>\n",
       "      <td>-0.043401</td>\n",
       "      <td>-0.002592</td>\n",
       "      <td>0.019908</td>\n",
       "      <td>-0.017646</td>\n",
       "      <td>151</td>\n",
       "    </tr>\n",
       "    <tr>\n",
       "      <th>1</th>\n",
       "      <td>-0.051474</td>\n",
       "      <td>-0.026328</td>\n",
       "      <td>-0.008449</td>\n",
       "      <td>-0.019163</td>\n",
       "      <td>0.074412</td>\n",
       "      <td>-0.039493</td>\n",
       "      <td>-0.068330</td>\n",
       "      <td>-0.092204</td>\n",
       "      <td>75</td>\n",
       "    </tr>\n",
       "    <tr>\n",
       "      <th>2</th>\n",
       "      <td>0.044451</td>\n",
       "      <td>-0.005671</td>\n",
       "      <td>-0.045599</td>\n",
       "      <td>-0.034194</td>\n",
       "      <td>-0.032356</td>\n",
       "      <td>-0.002592</td>\n",
       "      <td>0.002864</td>\n",
       "      <td>-0.025930</td>\n",
       "      <td>141</td>\n",
       "    </tr>\n",
       "    <tr>\n",
       "      <th>3</th>\n",
       "      <td>-0.011595</td>\n",
       "      <td>-0.036656</td>\n",
       "      <td>0.012191</td>\n",
       "      <td>0.024991</td>\n",
       "      <td>-0.036038</td>\n",
       "      <td>0.034309</td>\n",
       "      <td>0.022692</td>\n",
       "      <td>-0.009362</td>\n",
       "      <td>206</td>\n",
       "    </tr>\n",
       "    <tr>\n",
       "      <th>4</th>\n",
       "      <td>-0.036385</td>\n",
       "      <td>0.021872</td>\n",
       "      <td>0.003935</td>\n",
       "      <td>0.015596</td>\n",
       "      <td>0.008142</td>\n",
       "      <td>-0.002592</td>\n",
       "      <td>-0.031991</td>\n",
       "      <td>-0.046641</td>\n",
       "      <td>135</td>\n",
       "    </tr>\n",
       "    <tr>\n",
       "      <th>...</th>\n",
       "      <td>...</td>\n",
       "      <td>...</td>\n",
       "      <td>...</td>\n",
       "      <td>...</td>\n",
       "      <td>...</td>\n",
       "      <td>...</td>\n",
       "      <td>...</td>\n",
       "      <td>...</td>\n",
       "      <td>...</td>\n",
       "    </tr>\n",
       "    <tr>\n",
       "      <th>437</th>\n",
       "      <td>0.019662</td>\n",
       "      <td>0.059744</td>\n",
       "      <td>-0.005697</td>\n",
       "      <td>-0.002566</td>\n",
       "      <td>-0.028674</td>\n",
       "      <td>-0.002592</td>\n",
       "      <td>0.031193</td>\n",
       "      <td>0.007207</td>\n",
       "      <td>178</td>\n",
       "    </tr>\n",
       "    <tr>\n",
       "      <th>438</th>\n",
       "      <td>-0.015906</td>\n",
       "      <td>-0.067642</td>\n",
       "      <td>0.049341</td>\n",
       "      <td>0.079165</td>\n",
       "      <td>-0.028674</td>\n",
       "      <td>0.034309</td>\n",
       "      <td>-0.018118</td>\n",
       "      <td>0.044485</td>\n",
       "      <td>104</td>\n",
       "    </tr>\n",
       "    <tr>\n",
       "      <th>439</th>\n",
       "      <td>-0.015906</td>\n",
       "      <td>0.017282</td>\n",
       "      <td>-0.037344</td>\n",
       "      <td>-0.013840</td>\n",
       "      <td>-0.024993</td>\n",
       "      <td>-0.011080</td>\n",
       "      <td>-0.046879</td>\n",
       "      <td>0.015491</td>\n",
       "      <td>132</td>\n",
       "    </tr>\n",
       "    <tr>\n",
       "      <th>440</th>\n",
       "      <td>0.039062</td>\n",
       "      <td>0.001215</td>\n",
       "      <td>0.016318</td>\n",
       "      <td>0.015283</td>\n",
       "      <td>-0.028674</td>\n",
       "      <td>0.026560</td>\n",
       "      <td>0.044528</td>\n",
       "      <td>-0.025930</td>\n",
       "      <td>220</td>\n",
       "    </tr>\n",
       "    <tr>\n",
       "      <th>441</th>\n",
       "      <td>-0.073030</td>\n",
       "      <td>-0.081414</td>\n",
       "      <td>0.083740</td>\n",
       "      <td>0.027809</td>\n",
       "      <td>0.173816</td>\n",
       "      <td>-0.039493</td>\n",
       "      <td>-0.004220</td>\n",
       "      <td>0.003064</td>\n",
       "      <td>57</td>\n",
       "    </tr>\n",
       "  </tbody>\n",
       "</table>\n",
       "<p>442 rows × 9 columns</p>\n",
       "</div>"
      ],
      "text/plain": [
       "          bmi       map        tc       ldl       hdl       tch       ltg  \\\n",
       "0    0.061696  0.021872 -0.044223 -0.034821 -0.043401 -0.002592  0.019908   \n",
       "1   -0.051474 -0.026328 -0.008449 -0.019163  0.074412 -0.039493 -0.068330   \n",
       "2    0.044451 -0.005671 -0.045599 -0.034194 -0.032356 -0.002592  0.002864   \n",
       "3   -0.011595 -0.036656  0.012191  0.024991 -0.036038  0.034309  0.022692   \n",
       "4   -0.036385  0.021872  0.003935  0.015596  0.008142 -0.002592 -0.031991   \n",
       "..        ...       ...       ...       ...       ...       ...       ...   \n",
       "437  0.019662  0.059744 -0.005697 -0.002566 -0.028674 -0.002592  0.031193   \n",
       "438 -0.015906 -0.067642  0.049341  0.079165 -0.028674  0.034309 -0.018118   \n",
       "439 -0.015906  0.017282 -0.037344 -0.013840 -0.024993 -0.011080 -0.046879   \n",
       "440  0.039062  0.001215  0.016318  0.015283 -0.028674  0.026560  0.044528   \n",
       "441 -0.073030 -0.081414  0.083740  0.027809  0.173816 -0.039493 -0.004220   \n",
       "\n",
       "          glu    y  \n",
       "0   -0.017646  151  \n",
       "1   -0.092204   75  \n",
       "2   -0.025930  141  \n",
       "3   -0.009362  206  \n",
       "4   -0.046641  135  \n",
       "..        ...  ...  \n",
       "437  0.007207  178  \n",
       "438  0.044485  104  \n",
       "439  0.015491  132  \n",
       "440 -0.025930  220  \n",
       "441  0.003064   57  \n",
       "\n",
       "[442 rows x 9 columns]"
      ]
     },
     "execution_count": 56,
     "metadata": {},
     "output_type": "execute_result"
    }
   ],
   "source": [
    "df12"
   ]
  },
  {
   "cell_type": "code",
   "execution_count": 57,
   "id": "744f6f80",
   "metadata": {},
   "outputs": [],
   "source": [
    "x5=df12.loc[:,:'glu']\n",
    "y5=df12['y']"
   ]
  },
  {
   "cell_type": "code",
   "execution_count": 58,
   "id": "9ec36c4c",
   "metadata": {},
   "outputs": [
    {
     "data": {
      "text/plain": [
       "LinearRegression()"
      ]
     },
     "execution_count": 58,
     "metadata": {},
     "output_type": "execute_result"
    }
   ],
   "source": [
    "from sklearn.model_selection import train_test_split\n",
    "x_train, x_test, y_train, y_test=train_test_split(x5,y5,test_size=0.2, random_state=100)\n",
    "model.fit(x_train, y_train)"
   ]
  },
  {
   "cell_type": "code",
   "execution_count": 59,
   "id": "0438a273",
   "metadata": {},
   "outputs": [
    {
     "data": {
      "text/plain": [
       "0.4840337293678747"
      ]
     },
     "execution_count": 59,
     "metadata": {},
     "output_type": "execute_result"
    }
   ],
   "source": [
    "model.score(x_test,y_test)"
   ]
  },
  {
   "cell_type": "code",
   "execution_count": 60,
   "id": "01594fb6",
   "metadata": {},
   "outputs": [],
   "source": [
    "#같고, 평균 절대오차는 오히려 커졌다."
   ]
  },
  {
   "cell_type": "code",
   "execution_count": 61,
   "id": "28cf58c4",
   "metadata": {
    "scrolled": true
   },
   "outputs": [
    {
     "data": {
      "text/html": [
       "<div>\n",
       "<style scoped>\n",
       "    .dataframe tbody tr th:only-of-type {\n",
       "        vertical-align: middle;\n",
       "    }\n",
       "\n",
       "    .dataframe tbody tr th {\n",
       "        vertical-align: top;\n",
       "    }\n",
       "\n",
       "    .dataframe thead th {\n",
       "        text-align: right;\n",
       "    }\n",
       "</style>\n",
       "<table border=\"1\" class=\"dataframe\">\n",
       "  <thead>\n",
       "    <tr style=\"text-align: right;\">\n",
       "      <th></th>\n",
       "      <th>0</th>\n",
       "    </tr>\n",
       "  </thead>\n",
       "  <tbody>\n",
       "    <tr>\n",
       "      <th>bmi</th>\n",
       "      <td>576.595506</td>\n",
       "    </tr>\n",
       "    <tr>\n",
       "      <th>map</th>\n",
       "      <td>279.249625</td>\n",
       "    </tr>\n",
       "    <tr>\n",
       "      <th>tc</th>\n",
       "      <td>-716.766817</td>\n",
       "    </tr>\n",
       "    <tr>\n",
       "      <th>ldl</th>\n",
       "      <td>439.545242</td>\n",
       "    </tr>\n",
       "    <tr>\n",
       "      <th>hdl</th>\n",
       "      <td>145.191030</td>\n",
       "    </tr>\n",
       "    <tr>\n",
       "      <th>tch</th>\n",
       "      <td>87.916687</td>\n",
       "    </tr>\n",
       "    <tr>\n",
       "      <th>ltg</th>\n",
       "      <td>800.338091</td>\n",
       "    </tr>\n",
       "    <tr>\n",
       "      <th>glu</th>\n",
       "      <td>10.730867</td>\n",
       "    </tr>\n",
       "  </tbody>\n",
       "</table>\n",
       "</div>"
      ],
      "text/plain": [
       "              0\n",
       "bmi  576.595506\n",
       "map  279.249625\n",
       "tc  -716.766817\n",
       "ldl  439.545242\n",
       "hdl  145.191030\n",
       "tch   87.916687\n",
       "ltg  800.338091\n",
       "glu   10.730867"
      ]
     },
     "execution_count": 61,
     "metadata": {},
     "output_type": "execute_result"
    }
   ],
   "source": [
    "tmp=pd.DataFrame(model.coef_)\n",
    "tmp.index=x_train.columns\n",
    "tmp"
   ]
  },
  {
   "cell_type": "markdown",
   "id": "001147a1",
   "metadata": {},
   "source": [
    "# 다시 x3, y3으로 복귀."
   ]
  },
  {
   "cell_type": "code",
   "execution_count": 62,
   "id": "f886b0bd",
   "metadata": {},
   "outputs": [],
   "source": [
    "from sklearn.preprocessing import StandardScaler"
   ]
  },
  {
   "cell_type": "code",
   "execution_count": 63,
   "id": "28304378",
   "metadata": {},
   "outputs": [],
   "source": [
    "def learn(x,t):\n",
    "    x_train, x_val,y_train, y_val =train_test_split(x,t,test_size=0.2,random_state=0)\n",
    "    sc_model_x=StandardScaler()\n",
    "    sc_model_y=StandardScaler()\n",
    "    sc_model_x.fit(x_train)\n",
    "    sc_x_train=sc_model_x.transform(x_train)\n",
    "    sc_model_y.fit(y_train)\n",
    "    sc_y_train=sc_model_y.transform(y_train)\n",
    "    \n",
    "    model=LinearRegression()\n",
    "    model.fit(sc_x_train, sc_y_train)\n",
    "    \n",
    "    sc_x_val=sc_model_x.transform(x_val)\n",
    "    sc_y_val=sc_model_y.transform(y_val)\n",
    "    \n",
    "    train_score=model.score(sc_x_train,sc_y_train)\n",
    "    val_score=model.score(sc_x_val,sc_y_val)\n",
    "    \n",
    "    return train_score, val_score"
   ]
  },
  {
   "cell_type": "markdown",
   "id": "19f31b5a",
   "metadata": {},
   "source": [
    "### 다항식 특징량"
   ]
  },
  {
   "cell_type": "code",
   "execution_count": 64,
   "id": "f31a2e40",
   "metadata": {},
   "outputs": [],
   "source": [
    "y31=df11[['y']]"
   ]
  },
  {
   "cell_type": "code",
   "execution_count": 65,
   "id": "8ef4f1f8",
   "metadata": {
    "scrolled": true
   },
   "outputs": [
    {
     "data": {
      "text/plain": [
       "(0.524890396318515, 0.5204484935848701)"
      ]
     },
     "execution_count": 65,
     "metadata": {},
     "output_type": "execute_result"
    }
   ],
   "source": [
    "learn(x3,y31)"
   ]
  },
  {
   "cell_type": "markdown",
   "id": "57ef84c9",
   "metadata": {},
   "source": [
    "map**2"
   ]
  },
  {
   "cell_type": "code",
   "execution_count": 66,
   "id": "4c85d3ad",
   "metadata": {},
   "outputs": [],
   "source": [
    "x3['map2']=x3['map']**2"
   ]
  },
  {
   "cell_type": "code",
   "execution_count": 67,
   "id": "3656b5d5",
   "metadata": {},
   "outputs": [],
   "source": [
    " s1,s2=learn(x3,y31)"
   ]
  },
  {
   "cell_type": "code",
   "execution_count": 68,
   "id": "d2add8e5",
   "metadata": {},
   "outputs": [
    {
     "name": "stdout",
     "output_type": "stream",
     "text": [
      "0.5082191936204654\n"
     ]
    }
   ],
   "source": [
    "print(s2)"
   ]
  },
  {
   "cell_type": "markdown",
   "id": "8403f919",
   "metadata": {},
   "source": [
    "다시 map**2없애기"
   ]
  },
  {
   "cell_type": "code",
   "execution_count": 69,
   "id": "a7e51516",
   "metadata": {},
   "outputs": [],
   "source": [
    "x3=df11.loc[:,:'glu']"
   ]
  },
  {
   "cell_type": "markdown",
   "id": "2f0a8b63",
   "metadata": {},
   "source": [
    "hdl**2"
   ]
  },
  {
   "cell_type": "code",
   "execution_count": 70,
   "id": "75351d18",
   "metadata": {
    "scrolled": true
   },
   "outputs": [
    {
     "name": "stdout",
     "output_type": "stream",
     "text": [
      "0.5218358750348622\n"
     ]
    }
   ],
   "source": [
    "x3['hdl2']=x3['hdl']**2\n",
    "s1,s2=learn(x3,y31)\n",
    "print(s2)"
   ]
  },
  {
   "cell_type": "code",
   "execution_count": 71,
   "id": "b0a56bd7",
   "metadata": {},
   "outputs": [
    {
     "name": "stdout",
     "output_type": "stream",
     "text": [
      "0.5238393094973894\n"
     ]
    }
   ],
   "source": [
    "x3['hdl3']=x3['hdl']**3\n",
    "s1,s2=learn(x3,y31)\n",
    "print(s2)"
   ]
  },
  {
   "cell_type": "code",
   "execution_count": 72,
   "id": "2ff86b34",
   "metadata": {},
   "outputs": [],
   "source": [
    "x3=x3.loc[:,:'hdl2']"
   ]
  },
  {
   "cell_type": "markdown",
   "id": "3470aab4",
   "metadata": {},
   "source": [
    "ltg**2"
   ]
  },
  {
   "cell_type": "code",
   "execution_count": 73,
   "id": "5624c772",
   "metadata": {},
   "outputs": [
    {
     "name": "stdout",
     "output_type": "stream",
     "text": [
      "0.5207303971979721\n"
     ]
    }
   ],
   "source": [
    "x3['ltg2']=x3['ltg']**2\n",
    "s1,s2=learn(x3,y31)\n",
    "print(s2)"
   ]
  },
  {
   "cell_type": "code",
   "execution_count": 74,
   "id": "44a2954c",
   "metadata": {},
   "outputs": [],
   "source": [
    "x3=df11.loc[:,:'glu']"
   ]
  },
  {
   "cell_type": "markdown",
   "id": "1951a17b",
   "metadata": {},
   "source": [
    "glu**2"
   ]
  },
  {
   "cell_type": "code",
   "execution_count": 75,
   "id": "5a315cd7",
   "metadata": {},
   "outputs": [
    {
     "name": "stdout",
     "output_type": "stream",
     "text": [
      "0.5192939754432868\n"
     ]
    }
   ],
   "source": [
    "x3['glu2']=x3['glu']**3\n",
    "s1,s2=learn(x3,y31)\n",
    "print(s2)"
   ]
  },
  {
   "cell_type": "code",
   "execution_count": 76,
   "id": "cb3f851c",
   "metadata": {},
   "outputs": [],
   "source": [
    "x3=df11.loc[:,:'glu']"
   ]
  },
  {
   "cell_type": "markdown",
   "id": "a2198ada",
   "metadata": {},
   "source": [
    "bmi**2"
   ]
  },
  {
   "cell_type": "code",
   "execution_count": 77,
   "id": "6f48dfba",
   "metadata": {
    "scrolled": true
   },
   "outputs": [
    {
     "name": "stdout",
     "output_type": "stream",
     "text": [
      "0.47334488856092927\n"
     ]
    }
   ],
   "source": [
    "x3['bmi']=x3['bmi']**2\n",
    "s1,s2=learn(x3,y31)\n",
    "print(s2)"
   ]
  },
  {
   "cell_type": "code",
   "execution_count": 78,
   "id": "6f861cd1",
   "metadata": {},
   "outputs": [],
   "source": [
    "x3=df11.loc[:,:'glu']"
   ]
  },
  {
   "cell_type": "code",
   "execution_count": 79,
   "id": "255f05d6",
   "metadata": {
    "scrolled": true
   },
   "outputs": [
    {
     "data": {
      "text/html": [
       "<div>\n",
       "<style scoped>\n",
       "    .dataframe tbody tr th:only-of-type {\n",
       "        vertical-align: middle;\n",
       "    }\n",
       "\n",
       "    .dataframe tbody tr th {\n",
       "        vertical-align: top;\n",
       "    }\n",
       "\n",
       "    .dataframe thead th {\n",
       "        text-align: right;\n",
       "    }\n",
       "</style>\n",
       "<table border=\"1\" class=\"dataframe\">\n",
       "  <thead>\n",
       "    <tr style=\"text-align: right;\">\n",
       "      <th></th>\n",
       "      <th>bmi</th>\n",
       "      <th>map</th>\n",
       "      <th>hdl</th>\n",
       "      <th>ltg</th>\n",
       "      <th>glu</th>\n",
       "    </tr>\n",
       "  </thead>\n",
       "  <tbody>\n",
       "    <tr>\n",
       "      <th>74</th>\n",
       "      <td>0.002417</td>\n",
       "      <td>0.056301</td>\n",
       "      <td>0.041277</td>\n",
       "      <td>0.003712</td>\n",
       "      <td>0.073480</td>\n",
       "    </tr>\n",
       "    <tr>\n",
       "      <th>26</th>\n",
       "      <td>-0.077342</td>\n",
       "      <td>-0.026328</td>\n",
       "      <td>0.026550</td>\n",
       "      <td>-0.042572</td>\n",
       "      <td>-0.005220</td>\n",
       "    </tr>\n",
       "    <tr>\n",
       "      <th>45</th>\n",
       "      <td>-0.035307</td>\n",
       "      <td>0.032201</td>\n",
       "      <td>-0.010266</td>\n",
       "      <td>-0.014956</td>\n",
       "      <td>-0.050783</td>\n",
       "    </tr>\n",
       "    <tr>\n",
       "      <th>389</th>\n",
       "      <td>0.001339</td>\n",
       "      <td>-0.084857</td>\n",
       "      <td>0.048640</td>\n",
       "      <td>-0.041180</td>\n",
       "      <td>-0.088062</td>\n",
       "    </tr>\n",
       "    <tr>\n",
       "      <th>154</th>\n",
       "      <td>0.020739</td>\n",
       "      <td>-0.005671</td>\n",
       "      <td>-0.002903</td>\n",
       "      <td>0.008640</td>\n",
       "      <td>0.003064</td>\n",
       "    </tr>\n",
       "    <tr>\n",
       "      <th>...</th>\n",
       "      <td>...</td>\n",
       "      <td>...</td>\n",
       "      <td>...</td>\n",
       "      <td>...</td>\n",
       "      <td>...</td>\n",
       "    </tr>\n",
       "    <tr>\n",
       "      <th>323</th>\n",
       "      <td>-0.007284</td>\n",
       "      <td>0.049415</td>\n",
       "      <td>-0.054446</td>\n",
       "      <td>0.129019</td>\n",
       "      <td>0.056912</td>\n",
       "    </tr>\n",
       "    <tr>\n",
       "      <th>192</th>\n",
       "      <td>-0.030996</td>\n",
       "      <td>0.008101</td>\n",
       "      <td>0.033914</td>\n",
       "      <td>-0.029528</td>\n",
       "      <td>-0.059067</td>\n",
       "    </tr>\n",
       "    <tr>\n",
       "      <th>117</th>\n",
       "      <td>-0.021295</td>\n",
       "      <td>0.087287</td>\n",
       "      <td>-0.047082</td>\n",
       "      <td>0.079121</td>\n",
       "      <td>0.135612</td>\n",
       "    </tr>\n",
       "    <tr>\n",
       "      <th>47</th>\n",
       "      <td>-0.073030</td>\n",
       "      <td>-0.057314</td>\n",
       "      <td>-0.024993</td>\n",
       "      <td>-0.018118</td>\n",
       "      <td>-0.083920</td>\n",
       "    </tr>\n",
       "    <tr>\n",
       "      <th>172</th>\n",
       "      <td>0.071397</td>\n",
       "      <td>0.008101</td>\n",
       "      <td>-0.017629</td>\n",
       "      <td>0.073410</td>\n",
       "      <td>0.085907</td>\n",
       "    </tr>\n",
       "  </tbody>\n",
       "</table>\n",
       "<p>348 rows × 5 columns</p>\n",
       "</div>"
      ],
      "text/plain": [
       "          bmi       map       hdl       ltg       glu\n",
       "74   0.002417  0.056301  0.041277  0.003712  0.073480\n",
       "26  -0.077342 -0.026328  0.026550 -0.042572 -0.005220\n",
       "45  -0.035307  0.032201 -0.010266 -0.014956 -0.050783\n",
       "389  0.001339 -0.084857  0.048640 -0.041180 -0.088062\n",
       "154  0.020739 -0.005671 -0.002903  0.008640  0.003064\n",
       "..        ...       ...       ...       ...       ...\n",
       "323 -0.007284  0.049415 -0.054446  0.129019  0.056912\n",
       "192 -0.030996  0.008101  0.033914 -0.029528 -0.059067\n",
       "117 -0.021295  0.087287 -0.047082  0.079121  0.135612\n",
       "47  -0.073030 -0.057314 -0.024993 -0.018118 -0.083920\n",
       "172  0.071397  0.008101 -0.017629  0.073410  0.085907\n",
       "\n",
       "[348 rows x 5 columns]"
      ]
     },
     "execution_count": 79,
     "metadata": {},
     "output_type": "execute_result"
    }
   ],
   "source": [
    "x3"
   ]
  },
  {
   "cell_type": "code",
   "execution_count": 80,
   "id": "98e49aeb",
   "metadata": {},
   "outputs": [
    {
     "data": {
      "text/plain": [
       "LinearRegression()"
      ]
     },
     "execution_count": 80,
     "metadata": {},
     "output_type": "execute_result"
    }
   ],
   "source": [
    "sc_model_x2 = StandardScaler()\n",
    "sc_model_x2.fit(x3)\n",
    "sc_x = sc_model_x2.transform(x3)\n",
    "sc_model_y2 = StandardScaler()\n",
    "sc_model_y2.fit(y31)\n",
    "sc_y = sc_model_y2.transform(y31)\n",
    "model = LinearRegression()\n",
    "model.fit(sc_x, sc_y)"
   ]
  },
  {
   "cell_type": "code",
   "execution_count": 81,
   "id": "86faa984",
   "metadata": {},
   "outputs": [
    {
     "ename": "ValueError",
     "evalue": "X has 6 features, but StandardScaler is expecting 5 features as input.",
     "output_type": "error",
     "traceback": [
      "\u001b[1;31m---------------------------------------------------------------------------\u001b[0m",
      "\u001b[1;31mValueError\u001b[0m                                Traceback (most recent call last)",
      "\u001b[1;32m~\\AppData\\Local\\Temp/ipykernel_17440/347922776.py\u001b[0m in \u001b[0;36m<module>\u001b[1;34m\u001b[0m\n\u001b[0;32m      3\u001b[0m \u001b[0mx_test\u001b[0m\u001b[1;33m[\u001b[0m\u001b[1;34m'hdl2'\u001b[0m\u001b[1;33m]\u001b[0m\u001b[1;33m=\u001b[0m\u001b[0mx_test\u001b[0m\u001b[1;33m[\u001b[0m\u001b[1;34m'hdl'\u001b[0m\u001b[1;33m]\u001b[0m\u001b[1;33m**\u001b[0m\u001b[1;36m2\u001b[0m\u001b[1;33m\u001b[0m\u001b[1;33m\u001b[0m\u001b[0m\n\u001b[0;32m      4\u001b[0m \u001b[1;33m\u001b[0m\u001b[0m\n\u001b[1;32m----> 5\u001b[1;33m \u001b[0msc_x_test\u001b[0m\u001b[1;33m=\u001b[0m\u001b[0msc_model_x2\u001b[0m\u001b[1;33m.\u001b[0m\u001b[0mtransform\u001b[0m\u001b[1;33m(\u001b[0m\u001b[0mx_test\u001b[0m\u001b[1;33m)\u001b[0m\u001b[1;33m\u001b[0m\u001b[1;33m\u001b[0m\u001b[0m\n\u001b[0m\u001b[0;32m      6\u001b[0m \u001b[0msc_y_test\u001b[0m\u001b[1;33m=\u001b[0m\u001b[0msc_model_y2\u001b[0m\u001b[1;33m.\u001b[0m\u001b[0mtransform\u001b[0m\u001b[1;33m(\u001b[0m\u001b[0my_test\u001b[0m\u001b[1;33m)\u001b[0m\u001b[1;33m\u001b[0m\u001b[1;33m\u001b[0m\u001b[0m\n\u001b[0;32m      7\u001b[0m \u001b[0mmodel\u001b[0m\u001b[1;33m.\u001b[0m\u001b[0mscore\u001b[0m\u001b[1;33m(\u001b[0m\u001b[0msc_x_test\u001b[0m\u001b[1;33m,\u001b[0m\u001b[0msc_y_test\u001b[0m\u001b[1;33m)\u001b[0m\u001b[1;33m\u001b[0m\u001b[1;33m\u001b[0m\u001b[0m\n",
      "\u001b[1;32m~\\anaconda3\\lib\\site-packages\\sklearn\\preprocessing\\_data.py\u001b[0m in \u001b[0;36mtransform\u001b[1;34m(self, X, copy)\u001b[0m\n\u001b[0;32m    881\u001b[0m \u001b[1;33m\u001b[0m\u001b[0m\n\u001b[0;32m    882\u001b[0m         \u001b[0mcopy\u001b[0m \u001b[1;33m=\u001b[0m \u001b[0mcopy\u001b[0m \u001b[1;32mif\u001b[0m \u001b[0mcopy\u001b[0m \u001b[1;32mis\u001b[0m \u001b[1;32mnot\u001b[0m \u001b[1;32mNone\u001b[0m \u001b[1;32melse\u001b[0m \u001b[0mself\u001b[0m\u001b[1;33m.\u001b[0m\u001b[0mcopy\u001b[0m\u001b[1;33m\u001b[0m\u001b[1;33m\u001b[0m\u001b[0m\n\u001b[1;32m--> 883\u001b[1;33m         X = self._validate_data(X, reset=False,\n\u001b[0m\u001b[0;32m    884\u001b[0m                                 \u001b[0maccept_sparse\u001b[0m\u001b[1;33m=\u001b[0m\u001b[1;34m'csr'\u001b[0m\u001b[1;33m,\u001b[0m \u001b[0mcopy\u001b[0m\u001b[1;33m=\u001b[0m\u001b[0mcopy\u001b[0m\u001b[1;33m,\u001b[0m\u001b[1;33m\u001b[0m\u001b[1;33m\u001b[0m\u001b[0m\n\u001b[0;32m    885\u001b[0m                                 \u001b[0mestimator\u001b[0m\u001b[1;33m=\u001b[0m\u001b[0mself\u001b[0m\u001b[1;33m,\u001b[0m \u001b[0mdtype\u001b[0m\u001b[1;33m=\u001b[0m\u001b[0mFLOAT_DTYPES\u001b[0m\u001b[1;33m,\u001b[0m\u001b[1;33m\u001b[0m\u001b[1;33m\u001b[0m\u001b[0m\n",
      "\u001b[1;32m~\\anaconda3\\lib\\site-packages\\sklearn\\base.py\u001b[0m in \u001b[0;36m_validate_data\u001b[1;34m(self, X, y, reset, validate_separately, **check_params)\u001b[0m\n\u001b[0;32m    435\u001b[0m \u001b[1;33m\u001b[0m\u001b[0m\n\u001b[0;32m    436\u001b[0m         \u001b[1;32mif\u001b[0m \u001b[0mcheck_params\u001b[0m\u001b[1;33m.\u001b[0m\u001b[0mget\u001b[0m\u001b[1;33m(\u001b[0m\u001b[1;34m'ensure_2d'\u001b[0m\u001b[1;33m,\u001b[0m \u001b[1;32mTrue\u001b[0m\u001b[1;33m)\u001b[0m\u001b[1;33m:\u001b[0m\u001b[1;33m\u001b[0m\u001b[1;33m\u001b[0m\u001b[0m\n\u001b[1;32m--> 437\u001b[1;33m             \u001b[0mself\u001b[0m\u001b[1;33m.\u001b[0m\u001b[0m_check_n_features\u001b[0m\u001b[1;33m(\u001b[0m\u001b[0mX\u001b[0m\u001b[1;33m,\u001b[0m \u001b[0mreset\u001b[0m\u001b[1;33m=\u001b[0m\u001b[0mreset\u001b[0m\u001b[1;33m)\u001b[0m\u001b[1;33m\u001b[0m\u001b[1;33m\u001b[0m\u001b[0m\n\u001b[0m\u001b[0;32m    438\u001b[0m \u001b[1;33m\u001b[0m\u001b[0m\n\u001b[0;32m    439\u001b[0m         \u001b[1;32mreturn\u001b[0m \u001b[0mout\u001b[0m\u001b[1;33m\u001b[0m\u001b[1;33m\u001b[0m\u001b[0m\n",
      "\u001b[1;32m~\\anaconda3\\lib\\site-packages\\sklearn\\base.py\u001b[0m in \u001b[0;36m_check_n_features\u001b[1;34m(self, X, reset)\u001b[0m\n\u001b[0;32m    363\u001b[0m \u001b[1;33m\u001b[0m\u001b[0m\n\u001b[0;32m    364\u001b[0m         \u001b[1;32mif\u001b[0m \u001b[0mn_features\u001b[0m \u001b[1;33m!=\u001b[0m \u001b[0mself\u001b[0m\u001b[1;33m.\u001b[0m\u001b[0mn_features_in_\u001b[0m\u001b[1;33m:\u001b[0m\u001b[1;33m\u001b[0m\u001b[1;33m\u001b[0m\u001b[0m\n\u001b[1;32m--> 365\u001b[1;33m             raise ValueError(\n\u001b[0m\u001b[0;32m    366\u001b[0m                 \u001b[1;34mf\"X has {n_features} features, but {self.__class__.__name__} \"\u001b[0m\u001b[1;33m\u001b[0m\u001b[1;33m\u001b[0m\u001b[0m\n\u001b[0;32m    367\u001b[0m                 f\"is expecting {self.n_features_in_} features as input.\")\n",
      "\u001b[1;31mValueError\u001b[0m: X has 6 features, but StandardScaler is expecting 5 features as input."
     ]
    }
   ],
   "source": [
    "x_test = test.loc[:,['bmi','map','hdl','ltg','glu']]\n",
    "y_test=test[['y']]\n",
    "x_test['hdl2']=x_test['hdl']**2\n",
    "\n",
    "sc_x_test=sc_model_x2.transform(x_test)\n",
    "sc_y_test=sc_model_y2.transform(y_test)\n",
    "model.score(sc_x_test,sc_y_test)"
   ]
  },
  {
   "cell_type": "code",
   "execution_count": null,
   "id": "33f9184f",
   "metadata": {},
   "outputs": [],
   "source": []
  }
 ],
 "metadata": {
  "kernelspec": {
   "display_name": "Python 3 (ipykernel)",
   "language": "python",
   "name": "python3"
  },
  "language_info": {
   "codemirror_mode": {
    "name": "ipython",
    "version": 3
   },
   "file_extension": ".py",
   "mimetype": "text/x-python",
   "name": "python",
   "nbconvert_exporter": "python",
   "pygments_lexer": "ipython3",
   "version": "3.9.7"
  }
 },
 "nbformat": 4,
 "nbformat_minor": 5
}

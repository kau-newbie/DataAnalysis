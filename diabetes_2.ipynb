{
 "cells": [
  {
   "cell_type": "code",
   "execution_count": 1,
   "id": "1273e649",
   "metadata": {},
   "outputs": [],
   "source": [
    "import pandas as pd"
   ]
  },
  {
   "cell_type": "markdown",
   "id": "d6d0682a",
   "metadata": {},
   "source": [
    "# Diabetes"
   ]
  },
  {
   "cell_type": "markdown",
   "id": "571464b8",
   "metadata": {},
   "source": [
    "https://www4.stat.ncsu.edu/~boos/var.select/diabetes.html"
   ]
  },
  {
   "cell_type": "markdown",
   "id": "e5bd685b",
   "metadata": {},
   "source": [
    "\"Ten baseline variables, age, sex, body mass index, average blood pressure, and six blood serum measurements were obtained for each of n = 442 diabetes patients, as well as the response of interest, a quantitative measure of disease progression one year after baseline.\""
   ]
  },
  {
   "cell_type": "markdown",
   "id": "54da9a67",
   "metadata": {},
   "source": [
    "- when using the above data from R.  \n",
    "Note that the 10 x variables have been standardized to have mean 0 and squared length = 1 (sum(x^2)=1).\n",
    "-  whereas, in the R file, they are named  \n",
    "age sex bmi map tc ldl hdl tch ltg glu y"
   ]
  },
  {
   "cell_type": "markdown",
   "id": "5f03516d",
   "metadata": {},
   "source": [
    "___"
   ]
  },
  {
   "cell_type": "markdown",
   "id": "156a8f20",
   "metadata": {},
   "source": [
    "## Data Set"
   ]
  },
  {
   "cell_type": "code",
   "execution_count": 2,
   "id": "24bd23b1",
   "metadata": {
    "scrolled": true
   },
   "outputs": [
    {
     "data": {
      "text/html": [
       "<div>\n",
       "<style scoped>\n",
       "    .dataframe tbody tr th:only-of-type {\n",
       "        vertical-align: middle;\n",
       "    }\n",
       "\n",
       "    .dataframe tbody tr th {\n",
       "        vertical-align: top;\n",
       "    }\n",
       "\n",
       "    .dataframe thead th {\n",
       "        text-align: right;\n",
       "    }\n",
       "</style>\n",
       "<table border=\"1\" class=\"dataframe\">\n",
       "  <thead>\n",
       "    <tr style=\"text-align: right;\">\n",
       "      <th></th>\n",
       "      <th>AGE</th>\n",
       "      <th>SEX</th>\n",
       "      <th>BMI</th>\n",
       "      <th>BP</th>\n",
       "      <th>S1</th>\n",
       "      <th>S2</th>\n",
       "      <th>S3</th>\n",
       "      <th>S4</th>\n",
       "      <th>S5</th>\n",
       "      <th>S6</th>\n",
       "      <th>Y</th>\n",
       "    </tr>\n",
       "  </thead>\n",
       "  <tbody>\n",
       "    <tr>\n",
       "      <th>0</th>\n",
       "      <td>59</td>\n",
       "      <td>2</td>\n",
       "      <td>32.1</td>\n",
       "      <td>101.00</td>\n",
       "      <td>157</td>\n",
       "      <td>93.2</td>\n",
       "      <td>38.0</td>\n",
       "      <td>4.00</td>\n",
       "      <td>4.8598</td>\n",
       "      <td>87</td>\n",
       "      <td>151</td>\n",
       "    </tr>\n",
       "    <tr>\n",
       "      <th>1</th>\n",
       "      <td>48</td>\n",
       "      <td>1</td>\n",
       "      <td>21.6</td>\n",
       "      <td>87.00</td>\n",
       "      <td>183</td>\n",
       "      <td>103.2</td>\n",
       "      <td>70.0</td>\n",
       "      <td>3.00</td>\n",
       "      <td>3.8918</td>\n",
       "      <td>69</td>\n",
       "      <td>75</td>\n",
       "    </tr>\n",
       "    <tr>\n",
       "      <th>2</th>\n",
       "      <td>72</td>\n",
       "      <td>2</td>\n",
       "      <td>30.5</td>\n",
       "      <td>93.00</td>\n",
       "      <td>156</td>\n",
       "      <td>93.6</td>\n",
       "      <td>41.0</td>\n",
       "      <td>4.00</td>\n",
       "      <td>4.6728</td>\n",
       "      <td>85</td>\n",
       "      <td>141</td>\n",
       "    </tr>\n",
       "    <tr>\n",
       "      <th>3</th>\n",
       "      <td>24</td>\n",
       "      <td>1</td>\n",
       "      <td>25.3</td>\n",
       "      <td>84.00</td>\n",
       "      <td>198</td>\n",
       "      <td>131.4</td>\n",
       "      <td>40.0</td>\n",
       "      <td>5.00</td>\n",
       "      <td>4.8903</td>\n",
       "      <td>89</td>\n",
       "      <td>206</td>\n",
       "    </tr>\n",
       "    <tr>\n",
       "      <th>4</th>\n",
       "      <td>50</td>\n",
       "      <td>1</td>\n",
       "      <td>23.0</td>\n",
       "      <td>101.00</td>\n",
       "      <td>192</td>\n",
       "      <td>125.4</td>\n",
       "      <td>52.0</td>\n",
       "      <td>4.00</td>\n",
       "      <td>4.2905</td>\n",
       "      <td>80</td>\n",
       "      <td>135</td>\n",
       "    </tr>\n",
       "    <tr>\n",
       "      <th>...</th>\n",
       "      <td>...</td>\n",
       "      <td>...</td>\n",
       "      <td>...</td>\n",
       "      <td>...</td>\n",
       "      <td>...</td>\n",
       "      <td>...</td>\n",
       "      <td>...</td>\n",
       "      <td>...</td>\n",
       "      <td>...</td>\n",
       "      <td>...</td>\n",
       "      <td>...</td>\n",
       "    </tr>\n",
       "    <tr>\n",
       "      <th>437</th>\n",
       "      <td>60</td>\n",
       "      <td>2</td>\n",
       "      <td>28.2</td>\n",
       "      <td>112.00</td>\n",
       "      <td>185</td>\n",
       "      <td>113.8</td>\n",
       "      <td>42.0</td>\n",
       "      <td>4.00</td>\n",
       "      <td>4.9836</td>\n",
       "      <td>93</td>\n",
       "      <td>178</td>\n",
       "    </tr>\n",
       "    <tr>\n",
       "      <th>438</th>\n",
       "      <td>47</td>\n",
       "      <td>2</td>\n",
       "      <td>24.9</td>\n",
       "      <td>75.00</td>\n",
       "      <td>225</td>\n",
       "      <td>166.0</td>\n",
       "      <td>42.0</td>\n",
       "      <td>5.00</td>\n",
       "      <td>4.4427</td>\n",
       "      <td>102</td>\n",
       "      <td>104</td>\n",
       "    </tr>\n",
       "    <tr>\n",
       "      <th>439</th>\n",
       "      <td>60</td>\n",
       "      <td>2</td>\n",
       "      <td>24.9</td>\n",
       "      <td>99.67</td>\n",
       "      <td>162</td>\n",
       "      <td>106.6</td>\n",
       "      <td>43.0</td>\n",
       "      <td>3.77</td>\n",
       "      <td>4.1271</td>\n",
       "      <td>95</td>\n",
       "      <td>132</td>\n",
       "    </tr>\n",
       "    <tr>\n",
       "      <th>440</th>\n",
       "      <td>36</td>\n",
       "      <td>1</td>\n",
       "      <td>30.0</td>\n",
       "      <td>95.00</td>\n",
       "      <td>201</td>\n",
       "      <td>125.2</td>\n",
       "      <td>42.0</td>\n",
       "      <td>4.79</td>\n",
       "      <td>5.1299</td>\n",
       "      <td>85</td>\n",
       "      <td>220</td>\n",
       "    </tr>\n",
       "    <tr>\n",
       "      <th>441</th>\n",
       "      <td>36</td>\n",
       "      <td>1</td>\n",
       "      <td>19.6</td>\n",
       "      <td>71.00</td>\n",
       "      <td>250</td>\n",
       "      <td>133.2</td>\n",
       "      <td>97.0</td>\n",
       "      <td>3.00</td>\n",
       "      <td>4.5951</td>\n",
       "      <td>92</td>\n",
       "      <td>57</td>\n",
       "    </tr>\n",
       "  </tbody>\n",
       "</table>\n",
       "<p>442 rows × 11 columns</p>\n",
       "</div>"
      ],
      "text/plain": [
       "     AGE  SEX   BMI      BP   S1     S2    S3    S4      S5   S6    Y\n",
       "0     59    2  32.1  101.00  157   93.2  38.0  4.00  4.8598   87  151\n",
       "1     48    1  21.6   87.00  183  103.2  70.0  3.00  3.8918   69   75\n",
       "2     72    2  30.5   93.00  156   93.6  41.0  4.00  4.6728   85  141\n",
       "3     24    1  25.3   84.00  198  131.4  40.0  5.00  4.8903   89  206\n",
       "4     50    1  23.0  101.00  192  125.4  52.0  4.00  4.2905   80  135\n",
       "..   ...  ...   ...     ...  ...    ...   ...   ...     ...  ...  ...\n",
       "437   60    2  28.2  112.00  185  113.8  42.0  4.00  4.9836   93  178\n",
       "438   47    2  24.9   75.00  225  166.0  42.0  5.00  4.4427  102  104\n",
       "439   60    2  24.9   99.67  162  106.6  43.0  3.77  4.1271   95  132\n",
       "440   36    1  30.0   95.00  201  125.2  42.0  4.79  5.1299   85  220\n",
       "441   36    1  19.6   71.00  250  133.2  97.0  3.00  4.5951   92   57\n",
       "\n",
       "[442 rows x 11 columns]"
      ]
     },
     "execution_count": 2,
     "metadata": {},
     "output_type": "execute_result"
    }
   ],
   "source": [
    "df_ori=pd.read_csv('diabetes_origin.csv',sep='\\t')\n",
    "df_ori"
   ]
  },
  {
   "cell_type": "markdown",
   "id": "70953c0c",
   "metadata": {},
   "source": [
    "### 변량 설명"
   ]
  },
  {
   "cell_type": "markdown",
   "id": "acd3aaa5",
   "metadata": {},
   "source": [
    "- AGE\n",
    "\n",
    "- SEX\n",
    "\n",
    "- BMI: 체중/ 키^2\n",
    "\n",
    "- BP (average blood pressure)\n",
    "\n",
    "- S1~S6 (from blood serum)\n",
    " > - tc : total cholesterol (TC)-does not include Triglycerides\n",
    " > - ldl : low-density lipoprotein\n",
    " > - hdl : high-density lipoprotein\n",
    " > - tch : Serum total cholesterol (Tch)\n",
    " > - ltg \n",
    " > - glu : 혈당\n",
    "\n",
    "#### target\n",
    "- y: 1년 후 당뇨병의 진행 상황을 정량적으로 기록."
   ]
  },
  {
   "cell_type": "markdown",
   "id": "6ebf6808",
   "metadata": {},
   "source": [
    "### 훈련 - 검증/ 테스트 데이터 분할"
   ]
  },
  {
   "cell_type": "code",
   "execution_count": 3,
   "id": "c0f63b30",
   "metadata": {},
   "outputs": [],
   "source": [
    "from sklearn.linear_model import LinearRegression\n",
    "from sklearn.model_selection import train_test_split"
   ]
  },
  {
   "cell_type": "code",
   "execution_count": 4,
   "id": "739b4f95",
   "metadata": {},
   "outputs": [],
   "source": [
    "\n",
    "train_val, test = train_test_split(df_ori, test_size=0.2, random_state=0)\n"
   ]
  },
  {
   "cell_type": "markdown",
   "id": "4ea2f77e",
   "metadata": {},
   "source": [
    "### 결손값"
   ]
  },
  {
   "cell_type": "code",
   "execution_count": 5,
   "id": "06a7b50c",
   "metadata": {},
   "outputs": [
    {
     "data": {
      "text/plain": [
       "AGE    0\n",
       "SEX    0\n",
       "BMI    0\n",
       "BP     0\n",
       "S1     0\n",
       "S2     0\n",
       "S3     0\n",
       "S4     0\n",
       "S5     0\n",
       "S6     0\n",
       "Y      0\n",
       "dtype: int64"
      ]
     },
     "execution_count": 5,
     "metadata": {},
     "output_type": "execute_result"
    }
   ],
   "source": [
    "train_val.isnull().sum()"
   ]
  },
  {
   "cell_type": "markdown",
   "id": "08baa580",
   "metadata": {},
   "source": [
    "결손값은 없다."
   ]
  },
  {
   "cell_type": "markdown",
   "id": "d3f34dbb",
   "metadata": {},
   "source": [
    "### 산포도 확인"
   ]
  },
  {
   "cell_type": "code",
   "execution_count": 6,
   "id": "a7ba19b3",
   "metadata": {
    "scrolled": true
   },
   "outputs": [
    {
     "data": {
      "image/png": "[encoded data removed]",
      "text/plain": [
       "<Figure size 432x288 with 1 Axes>"
      ]
     },
     "metadata": {
      "needs_background": "light"
     },
     "output_type": "display_data"
    },
    {
     "data": {
      "image/png": "[encoded data removed]",
      "text/plain": [
       "<Figure size 432x288 with 1 Axes>"
      ]
     },
     "metadata": {
      "needs_background": "light"
     },
     "output_type": "display_data"
    },
    {
     "data": {
      "image/png": "[encoded data removed]",
      "text/plain": [
       "<Figure size 432x288 with 1 Axes>"
      ]
     },
     "metadata": {
      "needs_background": "light"
     },
     "output_type": "display_data"
    },
    {
     "data": {
      "image/png": "[encoded data removed]",
      "text/plain": [
       "<Figure size 432x288 with 1 Axes>"
      ]
     },
     "metadata": {
      "needs_background": "light"
     },
     "output_type": "display_data"
    },
    {
     "data": {
      "image/png": "[encoded data removed]",
      "text/plain": [
       "<Figure size 432x288 with 1 Axes>"
      ]
     },
     "metadata": {
      "needs_background": "light"
     },
     "output_type": "display_data"
    },
    {
     "data": {
      "image/png": "[encoded data removed]",
      "text/plain": [
       "<Figure size 432x288 with 1 Axes>"
      ]
     },
     "metadata": {
      "needs_background": "light"
     },
     "output_type": "display_data"
    },
    {
     "data": {
      "image/png": "[encoded data removed]",
      "text/plain": [
       "<Figure size 432x288 with 1 Axes>"
      ]
     },
     "metadata": {
      "needs_background": "light"
     },
     "output_type": "display_data"
    },
    {
     "data": {
      "image/png": "[encoded data removed]",
      "text/plain": [
       "<Figure size 432x288 with 1 Axes>"
      ]
     },
     "metadata": {
      "needs_background": "light"
     },
     "output_type": "display_data"
    },
    {
     "data": {
      "image/png": "[encoded data removed]",
      "text/plain": [
       "<Figure size 432x288 with 1 Axes>"
      ]
     },
     "metadata": {
      "needs_background": "light"
     },
     "output_type": "display_data"
    },
    {
     "data": {
      "image/png": "[encoded data removed]",
      "text/plain": [
       "<Figure size 432x288 with 1 Axes>"
      ]
     },
     "metadata": {
      "needs_background": "light"
     },
     "output_type": "display_data"
    },
    {
     "data": {
      "image/png": "[encoded data removed]",
      "text/plain": [
       "<Figure size 432x288 with 1 Axes>"
      ]
     },
     "metadata": {
      "needs_background": "light"
     },
     "output_type": "display_data"
    }
   ],
   "source": [
    "coln=train_val.columns\n",
    "for name in coln:\n",
    "    train_val.plot(kind='scatter', x=name, y='Y')"
   ]
  },
  {
   "cell_type": "code",
   "execution_count": 7,
   "id": "81663b14",
   "metadata": {},
   "outputs": [],
   "source": [
    "#age, sex, s4 제외할 예정에 앞서, 상관계수 살펴보기"
   ]
  },
  {
   "cell_type": "code",
   "execution_count": 8,
   "id": "d8ee846f",
   "metadata": {
    "scrolled": true
   },
   "outputs": [
    {
     "data": {
      "text/plain": [
       "AGE    0.187709\n",
       "SEX    0.040009\n",
       "BMI    0.612887\n",
       "BP     0.442841\n",
       "S1     0.210114\n",
       "S2     0.160665\n",
       "S3    -0.429634\n",
       "S4     0.447861\n",
       "S5     0.587838\n",
       "S6     0.381622\n",
       "Y      1.000000\n",
       "Name: Y, dtype: float64"
      ]
     },
     "execution_count": 8,
     "metadata": {},
     "output_type": "execute_result"
    }
   ],
   "source": [
    "train_val.corr()[\"Y\"]"
   ]
  },
  {
   "cell_type": "markdown",
   "id": "2251481f",
   "metadata": {},
   "source": [
    "0.1 미만은 지울 것.\n",
    "\n",
    "- AGE, S4가 생각보다 높게 나왔다.\n",
    "- S2가 생각보다 낮게 나왔다."
   ]
  },
  {
   "cell_type": "code",
   "execution_count": 9,
   "id": "63261608",
   "metadata": {},
   "outputs": [],
   "source": [
    "col_list=list(train_val.columns)\n",
    "col_list.remove('SEX')\n",
    "col_list\n",
    "\n",
    "df=train_val.loc[:,col_list]\n",
    "df2=df.loc[:,:'S6']"
   ]
  },
  {
   "cell_type": "markdown",
   "id": "d523b147",
   "metadata": {},
   "source": [
    "이상값 때문?"
   ]
  },
  {
   "cell_type": "markdown",
   "id": "2042d6b2",
   "metadata": {},
   "source": [
    "마할라노비스 거리"
   ]
  },
  {
   "cell_type": "code",
   "execution_count": 10,
   "id": "d5f0b3a8",
   "metadata": {},
   "outputs": [
    {
     "data": {
      "text/plain": [
       "array([   9.80964037,   10.15045436,    4.95116955,    7.79487659,\n",
       "          4.29632603,    3.61741551,    3.24077724,   59.17871673,\n",
       "         12.51662124,   11.25939487,    8.28625449,    5.2060547 ,\n",
       "          7.715491  ,  867.68178083,    9.19007838,   36.45960745,\n",
       "         14.50454992,  179.74419005,   96.51988877,    9.61733724,\n",
       "          4.57967908,    9.55278188,    6.34954791, 1415.52118528,\n",
       "         12.75519033,    9.74245113,   19.70701422,   10.72051209,\n",
       "          6.73781198,   34.01794881,    7.53053829,    3.5064187 ,\n",
       "          8.62185049,   14.12392863,   29.07127018,    5.6924088 ,\n",
       "          4.4331225 ,  108.62814521,    4.81387502,   10.65664628,\n",
       "         39.51370637,   23.86321327,   12.95836391,   10.79166637,\n",
       "          4.6307497 ,    8.79836791,   10.95388119,  861.94870274,\n",
       "         11.77466264,    7.25167328,   12.20721166,   11.58161148,\n",
       "        163.60082632,    4.9148814 ,   37.68877629,    6.68783485,\n",
       "          6.95251786,    6.91975214,    9.66710007,   10.38751488,\n",
       "          4.8123401 ,   13.58767592,    2.77866018,   19.45982053,\n",
       "          6.08766623, 1437.67718512,    3.6935397 ,    7.60381628,\n",
       "          2.18696626,   13.82609215,    7.64057565,   10.17616151,\n",
       "          6.66870268,    8.30320423,    6.83167699,   12.64446381,\n",
       "          6.83634655,    8.06960458,    4.98208918,    6.74419242,\n",
       "         30.720846  ,    6.62742918,  371.66008833,   10.11256123,\n",
       "          8.96678117,    8.09637274,    3.16757758,    2.41928236,\n",
       "         10.46783384,    6.69174611,   83.91177448,   23.51818465,\n",
       "          4.10611879,    6.79596827,    7.14289373,  121.07734974,\n",
       "          8.18477396,    7.10471177,    6.3750669 ,   21.9451954 ,\n",
       "          5.1757157 ,   41.85470309,    4.23809181,    8.00604935,\n",
       "         29.56108989,    8.93442059,    8.29128566,    6.07638759,\n",
       "         16.43591588,   13.02457092,   12.25823476,   23.1922235 ,\n",
       "        126.94821631,  255.84478084,    8.41701279,    3.36788576,\n",
       "         14.49885852,   16.04868749,   28.15076282,  125.3944236 ,\n",
       "         21.9210943 ,   16.72857026,    6.69058516,   31.63723947,\n",
       "          3.46024167,    9.65375244,    4.3503654 ,    9.19501028,\n",
       "         29.92347101,   33.26659186,    9.64118867,   69.72847366,\n",
       "          8.54259147,   10.3370004 ,    6.22411684,    5.09325321,\n",
       "         12.64723023,   16.12838679,   13.32554028,   36.84740491,\n",
       "          9.71960786,    8.96961386,    6.13649442,    2.12325979,\n",
       "          4.93345842,   12.92051233,   63.28730937,   14.29161489,\n",
       "          8.2039767 ,    9.90246686,    5.61510751,    4.9251576 ,\n",
       "         10.86017603,   19.18596031,   11.20022717,    4.09277146,\n",
       "         18.57457094,   25.72288046,   46.73361851,   12.5409065 ,\n",
       "         65.03371811,   16.93210151,   74.90380896,    9.6453377 ,\n",
       "          2.57608805,    7.28223639,   10.77012019,   51.99053782,\n",
       "          6.8147705 ,   14.69198258,    5.48343911,   13.09732947,\n",
       "         20.20822907,    9.36933262,    9.94218077,   11.0381177 ,\n",
       "          7.66639479,   96.33289497,   10.93425815,    8.68564442,\n",
       "          6.85008199,    4.48289806,  121.48573334,    5.23152118,\n",
       "          5.06015624,   13.36848156,   70.85084658,   58.47327182,\n",
       "         26.17501637,   39.91662665,    3.50343752,   14.63721006,\n",
       "          4.4794788 ,   38.61609202,    8.15748791,   34.26492684,\n",
       "          8.67509494,    6.53063248,   69.21975241,    7.43459813,\n",
       "          4.14938838,   23.65747562,    5.0679798 ,   17.15509796,\n",
       "          8.24764808,   13.95254173,  156.78416315,    3.87352218,\n",
       "         39.37186212,   11.31964549,   11.34210501,  115.58929164,\n",
       "          8.96899028,    4.3517338 ,   14.76665244,   18.72789834,\n",
       "          9.19997576,   11.7401369 ,    9.90373261,    7.23102831,\n",
       "         22.72085732,   44.70754534,   11.19583262,   28.63973383,\n",
       "         24.38358678,   44.75003685,   23.02886682,   56.31476134,\n",
       "         10.51181455,    8.19571286,    4.29601229,   11.50556083,\n",
       "         30.86592736,    5.30376472,  188.19539057,   59.15667262,\n",
       "          9.54701662,   13.32766022,   11.70643184,   17.77580659,\n",
       "         16.15754147, 1447.27090813,   19.52778012,    7.17741638,\n",
       "          4.91032353,   11.98112271,    7.35420436,   17.86234057,\n",
       "          5.83394083,    5.65524364,   29.95374098,    9.7279689 ,\n",
       "         15.42090586,    9.20900257,  435.31390036, 1463.24650047,\n",
       "          6.70493535,   15.22502137,    7.55906347,    6.96632275,\n",
       "         26.73947547,    3.69859966,    9.14055095,    6.94506963,\n",
       "          5.69231966,    5.20836027,    5.08970113,    4.30763442,\n",
       "          8.48497274,   10.77936014,   18.0430649 ,   21.26420105,\n",
       "         71.17005466,    9.89687362,   13.08172323,    3.29213442,\n",
       "          3.1932943 ,    9.27094713,   14.90570806,   13.7151234 ,\n",
       "         13.28658312,   10.01282621,   11.86685955,   61.90196398,\n",
       "          8.4722014 ,  361.53071272,    7.47351482, 1284.07654801,\n",
       "          6.02569461,    4.00210734,   52.2013196 ,  499.91771493,\n",
       "          8.87775412,   94.57665959,    7.80986029,    5.9268612 ,\n",
       "          5.51940549,    7.19988915,   12.77788507,    6.57347849,\n",
       "          9.3449866 ,    9.37879434,    3.94289792,    8.63640568,\n",
       "        204.38007045,    6.37333115,   57.97328685,   13.54188442,\n",
       "         76.554578  ,    5.24606404,   13.21865161,   29.78235973,\n",
       "         17.382478  ,   11.53517617,   59.5574123 ,   74.76107812,\n",
       "         94.36016995,    8.97254552,    9.32295867,    4.25252344,\n",
       "          5.16027544,    4.46496863,  176.99156033,    7.70688953,\n",
       "          4.50572889,  204.0988571 ,    5.61458204,    6.99769892,\n",
       "          5.89324901,    7.06130415,   12.76688928,   13.1104823 ,\n",
       "         69.51390383,    7.02499186,   16.3657646 ,    3.99413655,\n",
       "         23.05557628,   11.44560007,   10.32757338,   29.70368344,\n",
       "          9.69415384,   13.44168109,    9.56137809,   10.29102166,\n",
       "         80.66835236,    4.50755735,    2.92972954,  186.88003466,\n",
       "       1222.79006275,    9.55112791,  140.64022639,   10.39594511,\n",
       "        100.63088839])"
      ]
     },
     "execution_count": 10,
     "metadata": {},
     "output_type": "execute_result"
    }
   ],
   "source": [
    "from sklearn.covariance import MinCovDet\n",
    "mcd=MinCovDet(random_state=0,support_fraction=0.7)\n",
    "mcd.fit(df2)\n",
    "distance=mcd.mahalanobis(df2)\n",
    "distance"
   ]
  },
  {
   "cell_type": "markdown",
   "id": "54c99757",
   "metadata": {},
   "source": [
    "- 사분위범위=제3사분위수−제1사분위수\n",
    "\n",
    "- 값이 큰 쪽의 이상값의 임계값=제3사분위수+1.5×IQR \n",
    "- 값이 작은 쪽의 이상값의 임계값=제1사분위수−1.5×IQR\n",
    "\n"
   ]
  },
  {
   "cell_type": "code",
   "execution_count": 11,
   "id": "f3f141a3",
   "metadata": {
    "scrolled": false
   },
   "outputs": [
    {
     "data": {
      "text/plain": [
       "<AxesSubplot:>"
      ]
     },
     "execution_count": 11,
     "metadata": {},
     "output_type": "execute_result"
    },
    {
     "data": {
      "image/png": "[encoded data removed]",
      "text/plain": [
       "<Figure size 432x288 with 1 Axes>"
      ]
     },
     "metadata": {
      "needs_background": "light"
     },
     "output_type": "display_data"
    }
   ],
   "source": [
    "distance1=pd.Series(distance)\n",
    "distance1.plot(kind='box')"
   ]
  },
  {
   "cell_type": "code",
   "execution_count": 12,
   "id": "f5f694ee",
   "metadata": {
    "scrolled": true
   },
   "outputs": [
    {
     "data": {
      "text/plain": [
       "count     353.000000\n",
       "mean       55.659923\n",
       "std       193.688007\n",
       "min         2.123260\n",
       "25%         6.831677\n",
       "50%        10.327573\n",
       "75%        23.028867\n",
       "max      1463.246500\n",
       "dtype: float64"
      ]
     },
     "execution_count": 12,
     "metadata": {},
     "output_type": "execute_result"
    }
   ],
   "source": [
    "tmp=distance1.describe()\n",
    "tmp"
   ]
  },
  {
   "cell_type": "code",
   "execution_count": 13,
   "id": "0a7b24ff",
   "metadata": {},
   "outputs": [
    {
     "name": "stdout",
     "output_type": "stream",
     "text": [
      "16.19718982162744\n",
      "Int64Index([  7,  13,  17,  18,  23,  37,  47,  52,  65,  82,  90,  95, 112,\n",
      "            113, 119, 131, 146, 160, 162, 167, 177, 182, 186, 187, 198, 206,\n",
      "            211, 227, 234, 235, 241, 254, 255, 272, 283, 285, 287, 290, 291,\n",
      "            293, 304, 306, 308, 314, 315, 316, 322, 325, 332, 344, 347, 348,\n",
      "            350, 352],\n",
      "           dtype='int64')\n"
     ]
    }
   ],
   "source": [
    "iqr = tmp['75%'] - tmp['25%']  # IQR \n",
    "maxi = 1.5*(iqr) + tmp['75%']  # 상한값\n",
    "mini = tmp['25%'] - 1.5*(iqr)  # 하한값\n",
    "\n",
    "outlier = distance1[(distance > maxi) | (distance < mini)]\n",
    "oi=outlier.index\n",
    "print(iqr)\n",
    "print(oi)"
   ]
  },
  {
   "cell_type": "code",
   "execution_count": 14,
   "id": "17116aed",
   "metadata": {},
   "outputs": [
    {
     "data": {
      "text/plain": [
       "54"
      ]
     },
     "execution_count": 14,
     "metadata": {},
     "output_type": "execute_result"
    }
   ],
   "source": [
    "outlier.count()"
   ]
  },
  {
   "cell_type": "code",
   "execution_count": 15,
   "id": "a154beb8",
   "metadata": {
    "scrolled": true
   },
   "outputs": [
    {
     "data": {
      "text/plain": [
       "0       9.809640\n",
       "1      10.150454\n",
       "2       4.951170\n",
       "3       7.794877\n",
       "4       4.296326\n",
       "         ...    \n",
       "343    10.291022\n",
       "345     4.507557\n",
       "346     2.929730\n",
       "349     9.551128\n",
       "351    10.395945\n",
       "Length: 299, dtype: float64"
      ]
     },
     "execution_count": 15,
     "metadata": {},
     "output_type": "execute_result"
    }
   ],
   "source": [
    "ds=distance1.drop(oi,axis=0)\n",
    "ds"
   ]
  },
  {
   "cell_type": "code",
   "execution_count": 16,
   "id": "17c524b1",
   "metadata": {},
   "outputs": [],
   "source": [
    "dsi=ds.index"
   ]
  },
  {
   "cell_type": "markdown",
   "id": "a03d2df0",
   "metadata": {},
   "source": [
    "이상값 제거 완료"
   ]
  },
  {
   "cell_type": "code",
   "execution_count": 17,
   "id": "b7c76d00",
   "metadata": {},
   "outputs": [],
   "source": [
    "df3=df.iloc[dsi,:]"
   ]
  },
  {
   "cell_type": "markdown",
   "id": "7d8dfe32",
   "metadata": {},
   "source": [
    "상관계수"
   ]
  },
  {
   "cell_type": "code",
   "execution_count": 18,
   "id": "3366d741",
   "metadata": {
    "scrolled": false
   },
   "outputs": [
    {
     "data": {
      "text/plain": [
       "AGE    0.131957\n",
       "BMI    0.579815\n",
       "BP     0.382030\n",
       "S1     0.094651\n",
       "S2     0.137960\n",
       "S3    -0.406594\n",
       "S4     0.378688\n",
       "S5     0.524374\n",
       "S6     0.286662\n",
       "Y      1.000000\n",
       "Name: Y, dtype: float64"
      ]
     },
     "execution_count": 18,
     "metadata": {},
     "output_type": "execute_result"
    }
   ],
   "source": [
    "df3_cor=df3.corr()['Y']\n",
    "df3_cor"
   ]
  },
  {
   "cell_type": "code",
   "execution_count": 19,
   "id": "e11faef6",
   "metadata": {},
   "outputs": [],
   "source": [
    "#S1 제거\n",
    "col_list.remove('S1')\n",
    "df4=df3.loc[:,col_list]"
   ]
  },
  {
   "cell_type": "markdown",
   "id": "88f14618",
   "metadata": {},
   "source": [
    "### 훈련 데이터와 검증 데이터의 분할"
   ]
  },
  {
   "cell_type": "code",
   "execution_count": 20,
   "id": "7023744d",
   "metadata": {},
   "outputs": [],
   "source": [
    "x=df4.loc[:,:'S6']\n",
    "t=df4[['Y']]\n",
    "x_train, x_val, y_train, y_val= train_test_split(x,t,test_size=0.2, random_state=0)"
   ]
  },
  {
   "cell_type": "markdown",
   "id": "2c42ac20",
   "metadata": {},
   "source": [
    "데이터 표준화"
   ]
  },
  {
   "cell_type": "code",
   "execution_count": 21,
   "id": "7afdaab3",
   "metadata": {},
   "outputs": [],
   "source": [
    "from sklearn.preprocessing import StandardScaler\n",
    "\n",
    "sc_model_x =StandardScaler()\n",
    "sc_model_x.fit(x_train)\n",
    "\n",
    "sc_x=sc_model_x.transform(x_train)"
   ]
  },
  {
   "cell_type": "code",
   "execution_count": 22,
   "id": "f0cbe03b",
   "metadata": {},
   "outputs": [],
   "source": [
    "sc_model_y=StandardScaler()\n",
    "sc_model_y.fit(y_train)\n",
    "sc_y=sc_model_y.transform(y_train)"
   ]
  },
  {
   "cell_type": "markdown",
   "id": "7d22d95e",
   "metadata": {},
   "source": [
    "### 모델 작성과 학습"
   ]
  },
  {
   "cell_type": "code",
   "execution_count": 23,
   "id": "fc6dc354",
   "metadata": {},
   "outputs": [
    {
     "data": {
      "text/plain": [
       "LinearRegression()"
      ]
     },
     "execution_count": 23,
     "metadata": {},
     "output_type": "execute_result"
    }
   ],
   "source": [
    "model=LinearRegression()\n",
    "model.fit(sc_x,sc_y)"
   ]
  },
  {
   "cell_type": "code",
   "execution_count": 24,
   "id": "90d13d5d",
   "metadata": {},
   "outputs": [],
   "source": [
    "#x_val과 y_val도 sc_model_x의 저장된 훈련 정보를 토대로 변환"
   ]
  },
  {
   "cell_type": "code",
   "execution_count": 25,
   "id": "76e273e8",
   "metadata": {},
   "outputs": [
    {
     "data": {
      "text/plain": [
       "0.5715234903594705"
      ]
     },
     "execution_count": 25,
     "metadata": {},
     "output_type": "execute_result"
    }
   ],
   "source": [
    "sc_x_val=sc_model_x.transform(x_val)\n",
    "sc_y_val=sc_model_y.transform(y_val)\n",
    "model.score(sc_x_val, sc_y_val)"
   ]
  },
  {
   "cell_type": "markdown",
   "id": "af015559",
   "metadata": {},
   "source": [
    "### 튜닝"
   ]
  },
  {
   "cell_type": "code",
   "execution_count": 26,
   "id": "e450905e",
   "metadata": {},
   "outputs": [],
   "source": [
    "def learn(x, t) :\n",
    "    x_train, x_val, y_train, y_val = train_test_split(x, t, test_size=0.2, random_state=0)\n",
    " # 훈련 데이터의 표준화\n",
    "    sc_model_x = StandardScaler()\n",
    "    sc_model_y = StandardScaler()\n",
    "    sc_model_x.fit(x_train)\n",
    "    sc_x_train = sc_model_x.transform(x_train)\n",
    "    sc_model_y.fit(y_train)\n",
    "    sc_y_train = sc_model_y.transform(y_train)\n",
    " # 학습\n",
    "    model = LinearRegression()\n",
    "    model.fit(sc_x_train, sc_y_train)\n",
    " # 검증 데이터를 표준화\n",
    "    sc_x_val = sc_model_x.transform(x_val)\n",
    "    sc_y_val = sc_model_y.transform(y_val)\n",
    " # 훈련 데이터와 검증 데이터의 결정계수 계산\n",
    "    train_score = model.score(sc_x_train, sc_y_train)\n",
    "    val_score = model.score(sc_x_val, sc_y_val)\n",
    "    return train_score, val_score"
   ]
  },
  {
   "cell_type": "markdown",
   "id": "9c3da0dd",
   "metadata": {},
   "source": [
    "상관계수 0.2미만인 AGE와 S2까지 제거."
   ]
  },
  {
   "cell_type": "code",
   "execution_count": 27,
   "id": "105db5f0",
   "metadata": {},
   "outputs": [
    {
     "name": "stdout",
     "output_type": "stream",
     "text": [
      "0.4307697839623823 0.5614325270978421\n"
     ]
    }
   ],
   "source": [
    "col_list2=col_list.copy()\n",
    "col_list3=col_list.copy()\n",
    "col_list.remove('Y')\n",
    "col_list.remove('AGE')\n",
    "col_list.remove('S2')\n",
    "\n",
    "x=df4.loc[:,col_list]\n",
    "t=df4[['Y']]\n",
    "s1,s2=learn(x,t)\n",
    "print(s1,s2)"
   ]
  },
  {
   "cell_type": "markdown",
   "id": "34199988",
   "metadata": {},
   "source": [
    "AGE 다시 넣기"
   ]
  },
  {
   "cell_type": "code",
   "execution_count": 28,
   "id": "0b9e2e8f",
   "metadata": {},
   "outputs": [
    {
     "name": "stdout",
     "output_type": "stream",
     "text": [
      "0.43801636341982453 0.5620093769760884\n"
     ]
    }
   ],
   "source": [
    "col_list2.remove('Y')\n",
    "col_list2.remove('S2')\n",
    "x=df4.loc[:,col_list2]\n",
    "t=df4[['Y']]\n",
    "s1,s2=learn(x,t)\n",
    "print(s1,s2)"
   ]
  },
  {
   "cell_type": "markdown",
   "id": "de52278d",
   "metadata": {},
   "source": [
    "S2도 다시 넣기."
   ]
  },
  {
   "cell_type": "code",
   "execution_count": 29,
   "id": "bc5ba862",
   "metadata": {},
   "outputs": [],
   "source": [
    "col_list=col_list3.copy()"
   ]
  },
  {
   "cell_type": "markdown",
   "id": "47603832",
   "metadata": {},
   "source": [
    "### 특징량 엔지니어링"
   ]
  },
  {
   "cell_type": "code",
   "execution_count": 30,
   "id": "5334252e",
   "metadata": {},
   "outputs": [
    {
     "data": {
      "text/plain": [
       "['AGE', 'BMI', 'BP', 'S2', 'S3', 'S4', 'S5', 'S6', 'Y']"
      ]
     },
     "execution_count": 30,
     "metadata": {},
     "output_type": "execute_result"
    }
   ],
   "source": [
    "col_list"
   ]
  },
  {
   "cell_type": "code",
   "execution_count": 31,
   "id": "40d31f13",
   "metadata": {},
   "outputs": [],
   "source": [
    "col_list.remove('Y')"
   ]
  },
  {
   "cell_type": "code",
   "execution_count": 32,
   "id": "41ba7576",
   "metadata": {},
   "outputs": [],
   "source": [
    "x=df4.loc[:,col_list]\n",
    "t=df4[['Y']]"
   ]
  },
  {
   "cell_type": "code",
   "execution_count": 33,
   "id": "1554807b",
   "metadata": {},
   "outputs": [],
   "source": [
    "x['S2_2']=x['S2']**2\n",
    "x['BP_1/2']=x['BP']**(1/2)\n",
    "x['S3_2']=(-x['S3'])**2"
   ]
  },
  {
   "cell_type": "code",
   "execution_count": 34,
   "id": "76211c1d",
   "metadata": {
    "scrolled": false
   },
   "outputs": [
    {
     "name": "stdout",
     "output_type": "stream",
     "text": [
      "0.44724406406181005 0.5686920823491453\n"
     ]
    }
   ],
   "source": [
    "s1,s2=learn(x,t)\n",
    "print(s1,s2)"
   ]
  },
  {
   "cell_type": "code",
   "execution_count": 35,
   "id": "7eea28e9",
   "metadata": {
    "scrolled": true
   },
   "outputs": [
    {
     "name": "stdout",
     "output_type": "stream",
     "text": [
      "0.44668844669035024 0.5687077980093502\n"
     ]
    }
   ],
   "source": [
    "x=x.drop('S3_2',axis=1)\n",
    "s1,s2=learn(x,t)\n",
    "print(s1,s2)"
   ]
  },
  {
   "cell_type": "code",
   "execution_count": 36,
   "id": "4f090f56",
   "metadata": {},
   "outputs": [
    {
     "name": "stdout",
     "output_type": "stream",
     "text": [
      "0.44650674767965615 0.5715482379431723\n"
     ]
    }
   ],
   "source": [
    "x=x.drop('S2_2',axis=1)\n",
    "s1,s2=learn(x,t)\n",
    "print(s1,s2)"
   ]
  },
  {
   "cell_type": "code",
   "execution_count": 37,
   "id": "3e247002",
   "metadata": {},
   "outputs": [
    {
     "name": "stdout",
     "output_type": "stream",
     "text": [
      "0.44666383761223005 0.5692424178669484\n"
     ]
    }
   ],
   "source": [
    "x['S2_3']=x['S2']**3\n",
    "s1,s2=learn(x,t)\n",
    "print(s1,s2)\n",
    "x=x.drop('S2_3',axis=1)"
   ]
  },
  {
   "cell_type": "code",
   "execution_count": 38,
   "id": "6af5736c",
   "metadata": {},
   "outputs": [],
   "source": [
    "#현재까지 BP_1/2: 0.5715..."
   ]
  },
  {
   "cell_type": "code",
   "execution_count": 39,
   "id": "0045a02b",
   "metadata": {},
   "outputs": [],
   "source": [
    "x['S5_2']=x['S5']**(1/2)\n",
    "x['S6_2']=x['S6']**2"
   ]
  },
  {
   "cell_type": "code",
   "execution_count": 40,
   "id": "5915a4d7",
   "metadata": {},
   "outputs": [
    {
     "name": "stdout",
     "output_type": "stream",
     "text": [
      "0.4672891854060549 0.5453417682355031\n"
     ]
    }
   ],
   "source": [
    "s1,s2=learn(x,t)\n",
    "print(s1,s2)"
   ]
  },
  {
   "cell_type": "code",
   "execution_count": 41,
   "id": "b64695fd",
   "metadata": {},
   "outputs": [
    {
     "name": "stdout",
     "output_type": "stream",
     "text": [
      "0.4635534852027169 0.547910959333559\n"
     ]
    }
   ],
   "source": [
    "x=x.drop('S5_2',axis=1)\n",
    "s1,s2=learn(x,t)\n",
    "print(s1,s2)"
   ]
  },
  {
   "cell_type": "code",
   "execution_count": 42,
   "id": "c5709e3d",
   "metadata": {},
   "outputs": [
    {
     "name": "stdout",
     "output_type": "stream",
     "text": [
      "0.44650674767965615 0.5715482379431723\n"
     ]
    }
   ],
   "source": [
    "x=x.drop('S6_2',axis=1)\n",
    "s1,s2=learn(x,t)\n",
    "print(s1,s2)"
   ]
  },
  {
   "cell_type": "code",
   "execution_count": 43,
   "id": "0785f36c",
   "metadata": {},
   "outputs": [],
   "source": [
    "#BP_1/2 : 0.5715..."
   ]
  },
  {
   "cell_type": "code",
   "execution_count": 44,
   "id": "3cff1163",
   "metadata": {},
   "outputs": [
    {
     "name": "stdout",
     "output_type": "stream",
     "text": [
      "0.4641754097837205 0.5476836294968902\n"
     ]
    }
   ],
   "source": [
    "x['S6_3']=x['S6']**3\n",
    "s1,s2=learn(x,t)\n",
    "print(s1,s2)"
   ]
  },
  {
   "cell_type": "code",
   "execution_count": 45,
   "id": "30d70fde",
   "metadata": {},
   "outputs": [
    {
     "name": "stdout",
     "output_type": "stream",
     "text": [
      "0.44650674767965615 0.5715482379431723\n"
     ]
    }
   ],
   "source": [
    "x=x.drop('S6_3',axis=1)\n",
    "s1,s2=learn(x,t)\n",
    "print(s1,s2)"
   ]
  },
  {
   "cell_type": "code",
   "execution_count": 46,
   "id": "35ba6703",
   "metadata": {},
   "outputs": [
    {
     "name": "stdout",
     "output_type": "stream",
     "text": [
      "0.4646054604403217 0.5476014518966635\n"
     ]
    }
   ],
   "source": [
    "x['S6_4']=x['S6']**4\n",
    "s1,s2=learn(x,t)\n",
    "print(s1,s2)\n",
    "x=x.drop('S6_4',axis=1)"
   ]
  },
  {
   "cell_type": "code",
   "execution_count": 47,
   "id": "509cf3fd",
   "metadata": {},
   "outputs": [
    {
     "data": {
      "text/html": [
       "<div>\n",
       "<style scoped>\n",
       "    .dataframe tbody tr th:only-of-type {\n",
       "        vertical-align: middle;\n",
       "    }\n",
       "\n",
       "    .dataframe tbody tr th {\n",
       "        vertical-align: top;\n",
       "    }\n",
       "\n",
       "    .dataframe thead th {\n",
       "        text-align: right;\n",
       "    }\n",
       "</style>\n",
       "<table border=\"1\" class=\"dataframe\">\n",
       "  <thead>\n",
       "    <tr style=\"text-align: right;\">\n",
       "      <th></th>\n",
       "      <th>AGE</th>\n",
       "      <th>BMI</th>\n",
       "      <th>BP</th>\n",
       "      <th>S2</th>\n",
       "      <th>S3</th>\n",
       "      <th>S4</th>\n",
       "      <th>S5</th>\n",
       "      <th>S6</th>\n",
       "      <th>BP_1/2</th>\n",
       "    </tr>\n",
       "  </thead>\n",
       "  <tbody>\n",
       "    <tr>\n",
       "      <th>74</th>\n",
       "      <td>52</td>\n",
       "      <td>26.6</td>\n",
       "      <td>111.0</td>\n",
       "      <td>126.4</td>\n",
       "      <td>61.0</td>\n",
       "      <td>3.0</td>\n",
       "      <td>4.6821</td>\n",
       "      <td>109</td>\n",
       "      <td>10.535654</td>\n",
       "    </tr>\n",
       "    <tr>\n",
       "      <th>26</th>\n",
       "      <td>19</td>\n",
       "      <td>19.2</td>\n",
       "      <td>87.0</td>\n",
       "      <td>54.0</td>\n",
       "      <td>57.0</td>\n",
       "      <td>2.0</td>\n",
       "      <td>4.1744</td>\n",
       "      <td>90</td>\n",
       "      <td>9.327379</td>\n",
       "    </tr>\n",
       "    <tr>\n",
       "      <th>45</th>\n",
       "      <td>56</td>\n",
       "      <td>23.1</td>\n",
       "      <td>104.0</td>\n",
       "      <td>116.4</td>\n",
       "      <td>47.0</td>\n",
       "      <td>4.0</td>\n",
       "      <td>4.4773</td>\n",
       "      <td>79</td>\n",
       "      <td>10.198039</td>\n",
       "    </tr>\n",
       "    <tr>\n",
       "      <th>389</th>\n",
       "      <td>47</td>\n",
       "      <td>26.5</td>\n",
       "      <td>70.0</td>\n",
       "      <td>104.8</td>\n",
       "      <td>63.0</td>\n",
       "      <td>3.0</td>\n",
       "      <td>4.1897</td>\n",
       "      <td>70</td>\n",
       "      <td>8.366600</td>\n",
       "    </tr>\n",
       "    <tr>\n",
       "      <th>154</th>\n",
       "      <td>67</td>\n",
       "      <td>28.3</td>\n",
       "      <td>93.0</td>\n",
       "      <td>132.2</td>\n",
       "      <td>49.0</td>\n",
       "      <td>4.0</td>\n",
       "      <td>4.7362</td>\n",
       "      <td>92</td>\n",
       "      <td>9.643651</td>\n",
       "    </tr>\n",
       "    <tr>\n",
       "      <th>...</th>\n",
       "      <td>...</td>\n",
       "      <td>...</td>\n",
       "      <td>...</td>\n",
       "      <td>...</td>\n",
       "      <td>...</td>\n",
       "      <td>...</td>\n",
       "      <td>...</td>\n",
       "      <td>...</td>\n",
       "      <td>...</td>\n",
       "    </tr>\n",
       "    <tr>\n",
       "      <th>211</th>\n",
       "      <td>74</td>\n",
       "      <td>29.8</td>\n",
       "      <td>101.0</td>\n",
       "      <td>104.8</td>\n",
       "      <td>50.0</td>\n",
       "      <td>3.0</td>\n",
       "      <td>4.3944</td>\n",
       "      <td>86</td>\n",
       "      <td>10.049876</td>\n",
       "    </tr>\n",
       "    <tr>\n",
       "      <th>359</th>\n",
       "      <td>59</td>\n",
       "      <td>26.9</td>\n",
       "      <td>104.0</td>\n",
       "      <td>126.6</td>\n",
       "      <td>43.0</td>\n",
       "      <td>5.0</td>\n",
       "      <td>4.8040</td>\n",
       "      <td>106</td>\n",
       "      <td>10.198039</td>\n",
       "    </tr>\n",
       "    <tr>\n",
       "      <th>195</th>\n",
       "      <td>56</td>\n",
       "      <td>28.7</td>\n",
       "      <td>99.0</td>\n",
       "      <td>146.4</td>\n",
       "      <td>39.0</td>\n",
       "      <td>5.0</td>\n",
       "      <td>4.7274</td>\n",
       "      <td>97</td>\n",
       "      <td>9.949874</td>\n",
       "    </tr>\n",
       "    <tr>\n",
       "      <th>192</th>\n",
       "      <td>64</td>\n",
       "      <td>23.5</td>\n",
       "      <td>97.0</td>\n",
       "      <td>129.0</td>\n",
       "      <td>59.0</td>\n",
       "      <td>3.0</td>\n",
       "      <td>4.3175</td>\n",
       "      <td>77</td>\n",
       "      <td>9.848858</td>\n",
       "    </tr>\n",
       "    <tr>\n",
       "      <th>47</th>\n",
       "      <td>27</td>\n",
       "      <td>19.6</td>\n",
       "      <td>78.0</td>\n",
       "      <td>68.0</td>\n",
       "      <td>43.0</td>\n",
       "      <td>3.0</td>\n",
       "      <td>4.4427</td>\n",
       "      <td>71</td>\n",
       "      <td>8.831761</td>\n",
       "    </tr>\n",
       "  </tbody>\n",
       "</table>\n",
       "<p>299 rows × 9 columns</p>\n",
       "</div>"
      ],
      "text/plain": [
       "     AGE   BMI     BP     S2    S3   S4      S5   S6     BP_1/2\n",
       "74    52  26.6  111.0  126.4  61.0  3.0  4.6821  109  10.535654\n",
       "26    19  19.2   87.0   54.0  57.0  2.0  4.1744   90   9.327379\n",
       "45    56  23.1  104.0  116.4  47.0  4.0  4.4773   79  10.198039\n",
       "389   47  26.5   70.0  104.8  63.0  3.0  4.1897   70   8.366600\n",
       "154   67  28.3   93.0  132.2  49.0  4.0  4.7362   92   9.643651\n",
       "..   ...   ...    ...    ...   ...  ...     ...  ...        ...\n",
       "211   74  29.8  101.0  104.8  50.0  3.0  4.3944   86  10.049876\n",
       "359   59  26.9  104.0  126.6  43.0  5.0  4.8040  106  10.198039\n",
       "195   56  28.7   99.0  146.4  39.0  5.0  4.7274   97   9.949874\n",
       "192   64  23.5   97.0  129.0  59.0  3.0  4.3175   77   9.848858\n",
       "47    27  19.6   78.0   68.0  43.0  3.0  4.4427   71   8.831761\n",
       "\n",
       "[299 rows x 9 columns]"
      ]
     },
     "execution_count": 47,
     "metadata": {},
     "output_type": "execute_result"
    }
   ],
   "source": [
    "x"
   ]
  },
  {
   "cell_type": "code",
   "execution_count": 48,
   "id": "71be45f6",
   "metadata": {},
   "outputs": [
    {
     "name": "stdout",
     "output_type": "stream",
     "text": [
      "0.44955826179935376 0.5840969889363663\n"
     ]
    }
   ],
   "source": [
    "x['BMI_2']=x['BMI']**2\n",
    "s1,s2=learn(x,t)\n",
    "print(s1,s2)"
   ]
  },
  {
   "cell_type": "code",
   "execution_count": 49,
   "id": "054bb609",
   "metadata": {},
   "outputs": [
    {
     "name": "stdout",
     "output_type": "stream",
     "text": [
      "0.45450237827216333 0.5649482960294115\n"
     ]
    }
   ],
   "source": [
    "x['BMI_3']=x['BMI']**3\n",
    "s1,s2=learn(x,t)\n",
    "print(s1,s2)\n",
    "x=x.drop('BMI_3',axis=1)"
   ]
  },
  {
   "cell_type": "code",
   "execution_count": 50,
   "id": "81fe23fe",
   "metadata": {},
   "outputs": [],
   "source": [
    "##BP_1/2, BMI_2: 0.584096..."
   ]
  },
  {
   "cell_type": "code",
   "execution_count": 51,
   "id": "ef52484e",
   "metadata": {},
   "outputs": [
    {
     "name": "stdout",
     "output_type": "stream",
     "text": [
      "0.45049251173511284 0.5816233074816203\n"
     ]
    }
   ],
   "source": [
    "x['BnS2']=x['BMI']*x['S2']\n",
    "s1,s2=learn(x,t)\n",
    "print(s1,s2)\n",
    "x=x.drop('BnS2',axis=1)"
   ]
  },
  {
   "cell_type": "code",
   "execution_count": 52,
   "id": "9b1c8d45",
   "metadata": {},
   "outputs": [
    {
     "name": "stdout",
     "output_type": "stream",
     "text": [
      "0.44958114854348363 0.5838512906006316\n"
     ]
    }
   ],
   "source": [
    "x['S3_2']=x['S3']**5\n",
    "s1,s2=learn(x,t)\n",
    "print(s1,s2)\n",
    "x=x.drop('S3_2',axis=1)"
   ]
  },
  {
   "cell_type": "code",
   "execution_count": 53,
   "id": "af52d7fb",
   "metadata": {},
   "outputs": [
    {
     "name": "stdout",
     "output_type": "stream",
     "text": [
      "0.4539091337766511 0.5811468827938863\n"
     ]
    }
   ],
   "source": [
    "x['BP_22']=x['BP']**2\n",
    "s1,s2=learn(x,t)\n",
    "print(s1,s2)\n",
    "x=x.drop('BP_22',axis=1)"
   ]
  },
  {
   "cell_type": "code",
   "execution_count": 54,
   "id": "e1510459",
   "metadata": {},
   "outputs": [],
   "source": [
    "##BP_1/2, BMI_2: 0.584096..."
   ]
  },
  {
   "cell_type": "code",
   "execution_count": 55,
   "id": "804ef275",
   "metadata": {},
   "outputs": [
    {
     "name": "stdout",
     "output_type": "stream",
     "text": [
      "0.4538808890388609 0.5815916233655873\n"
     ]
    }
   ],
   "source": [
    "x['BP_3']=x['BP']**3\n",
    "s1,s2=learn(x,t)\n",
    "print(s1,s2)\n",
    "x=x.drop('BP_3',axis=1)"
   ]
  },
  {
   "cell_type": "code",
   "execution_count": 56,
   "id": "1d135485",
   "metadata": {},
   "outputs": [
    {
     "name": "stdout",
     "output_type": "stream",
     "text": [
      "0.45004618109491257 0.5850164843692381\n"
     ]
    }
   ],
   "source": [
    "x['BPnS2']=x['BP']*x['S2']\n",
    "s1,s2=learn(x,t)\n",
    "print(s1,s2)"
   ]
  },
  {
   "cell_type": "code",
   "execution_count": 57,
   "id": "7ad1b1e6",
   "metadata": {},
   "outputs": [
    {
     "data": {
      "text/html": [
       "<div>\n",
       "<style scoped>\n",
       "    .dataframe tbody tr th:only-of-type {\n",
       "        vertical-align: middle;\n",
       "    }\n",
       "\n",
       "    .dataframe tbody tr th {\n",
       "        vertical-align: top;\n",
       "    }\n",
       "\n",
       "    .dataframe thead th {\n",
       "        text-align: right;\n",
       "    }\n",
       "</style>\n",
       "<table border=\"1\" class=\"dataframe\">\n",
       "  <thead>\n",
       "    <tr style=\"text-align: right;\">\n",
       "      <th></th>\n",
       "      <th>AGE</th>\n",
       "      <th>BMI</th>\n",
       "      <th>BP</th>\n",
       "      <th>S2</th>\n",
       "      <th>S3</th>\n",
       "      <th>S4</th>\n",
       "      <th>S5</th>\n",
       "      <th>S6</th>\n",
       "      <th>BP_1/2</th>\n",
       "      <th>BMI_2</th>\n",
       "      <th>BPnS2</th>\n",
       "    </tr>\n",
       "  </thead>\n",
       "  <tbody>\n",
       "    <tr>\n",
       "      <th>74</th>\n",
       "      <td>52</td>\n",
       "      <td>26.6</td>\n",
       "      <td>111.0</td>\n",
       "      <td>126.4</td>\n",
       "      <td>61.0</td>\n",
       "      <td>3.0</td>\n",
       "      <td>4.6821</td>\n",
       "      <td>109</td>\n",
       "      <td>10.535654</td>\n",
       "      <td>707.56</td>\n",
       "      <td>14030.4</td>\n",
       "    </tr>\n",
       "    <tr>\n",
       "      <th>26</th>\n",
       "      <td>19</td>\n",
       "      <td>19.2</td>\n",
       "      <td>87.0</td>\n",
       "      <td>54.0</td>\n",
       "      <td>57.0</td>\n",
       "      <td>2.0</td>\n",
       "      <td>4.1744</td>\n",
       "      <td>90</td>\n",
       "      <td>9.327379</td>\n",
       "      <td>368.64</td>\n",
       "      <td>4698.0</td>\n",
       "    </tr>\n",
       "    <tr>\n",
       "      <th>45</th>\n",
       "      <td>56</td>\n",
       "      <td>23.1</td>\n",
       "      <td>104.0</td>\n",
       "      <td>116.4</td>\n",
       "      <td>47.0</td>\n",
       "      <td>4.0</td>\n",
       "      <td>4.4773</td>\n",
       "      <td>79</td>\n",
       "      <td>10.198039</td>\n",
       "      <td>533.61</td>\n",
       "      <td>12105.6</td>\n",
       "    </tr>\n",
       "    <tr>\n",
       "      <th>389</th>\n",
       "      <td>47</td>\n",
       "      <td>26.5</td>\n",
       "      <td>70.0</td>\n",
       "      <td>104.8</td>\n",
       "      <td>63.0</td>\n",
       "      <td>3.0</td>\n",
       "      <td>4.1897</td>\n",
       "      <td>70</td>\n",
       "      <td>8.366600</td>\n",
       "      <td>702.25</td>\n",
       "      <td>7336.0</td>\n",
       "    </tr>\n",
       "    <tr>\n",
       "      <th>154</th>\n",
       "      <td>67</td>\n",
       "      <td>28.3</td>\n",
       "      <td>93.0</td>\n",
       "      <td>132.2</td>\n",
       "      <td>49.0</td>\n",
       "      <td>4.0</td>\n",
       "      <td>4.7362</td>\n",
       "      <td>92</td>\n",
       "      <td>9.643651</td>\n",
       "      <td>800.89</td>\n",
       "      <td>12294.6</td>\n",
       "    </tr>\n",
       "    <tr>\n",
       "      <th>...</th>\n",
       "      <td>...</td>\n",
       "      <td>...</td>\n",
       "      <td>...</td>\n",
       "      <td>...</td>\n",
       "      <td>...</td>\n",
       "      <td>...</td>\n",
       "      <td>...</td>\n",
       "      <td>...</td>\n",
       "      <td>...</td>\n",
       "      <td>...</td>\n",
       "      <td>...</td>\n",
       "    </tr>\n",
       "    <tr>\n",
       "      <th>211</th>\n",
       "      <td>74</td>\n",
       "      <td>29.8</td>\n",
       "      <td>101.0</td>\n",
       "      <td>104.8</td>\n",
       "      <td>50.0</td>\n",
       "      <td>3.0</td>\n",
       "      <td>4.3944</td>\n",
       "      <td>86</td>\n",
       "      <td>10.049876</td>\n",
       "      <td>888.04</td>\n",
       "      <td>10584.8</td>\n",
       "    </tr>\n",
       "    <tr>\n",
       "      <th>359</th>\n",
       "      <td>59</td>\n",
       "      <td>26.9</td>\n",
       "      <td>104.0</td>\n",
       "      <td>126.6</td>\n",
       "      <td>43.0</td>\n",
       "      <td>5.0</td>\n",
       "      <td>4.8040</td>\n",
       "      <td>106</td>\n",
       "      <td>10.198039</td>\n",
       "      <td>723.61</td>\n",
       "      <td>13166.4</td>\n",
       "    </tr>\n",
       "    <tr>\n",
       "      <th>195</th>\n",
       "      <td>56</td>\n",
       "      <td>28.7</td>\n",
       "      <td>99.0</td>\n",
       "      <td>146.4</td>\n",
       "      <td>39.0</td>\n",
       "      <td>5.0</td>\n",
       "      <td>4.7274</td>\n",
       "      <td>97</td>\n",
       "      <td>9.949874</td>\n",
       "      <td>823.69</td>\n",
       "      <td>14493.6</td>\n",
       "    </tr>\n",
       "    <tr>\n",
       "      <th>192</th>\n",
       "      <td>64</td>\n",
       "      <td>23.5</td>\n",
       "      <td>97.0</td>\n",
       "      <td>129.0</td>\n",
       "      <td>59.0</td>\n",
       "      <td>3.0</td>\n",
       "      <td>4.3175</td>\n",
       "      <td>77</td>\n",
       "      <td>9.848858</td>\n",
       "      <td>552.25</td>\n",
       "      <td>12513.0</td>\n",
       "    </tr>\n",
       "    <tr>\n",
       "      <th>47</th>\n",
       "      <td>27</td>\n",
       "      <td>19.6</td>\n",
       "      <td>78.0</td>\n",
       "      <td>68.0</td>\n",
       "      <td>43.0</td>\n",
       "      <td>3.0</td>\n",
       "      <td>4.4427</td>\n",
       "      <td>71</td>\n",
       "      <td>8.831761</td>\n",
       "      <td>384.16</td>\n",
       "      <td>5304.0</td>\n",
       "    </tr>\n",
       "  </tbody>\n",
       "</table>\n",
       "<p>299 rows × 11 columns</p>\n",
       "</div>"
      ],
      "text/plain": [
       "     AGE   BMI     BP     S2    S3   S4      S5   S6     BP_1/2   BMI_2  \\\n",
       "74    52  26.6  111.0  126.4  61.0  3.0  4.6821  109  10.535654  707.56   \n",
       "26    19  19.2   87.0   54.0  57.0  2.0  4.1744   90   9.327379  368.64   \n",
       "45    56  23.1  104.0  116.4  47.0  4.0  4.4773   79  10.198039  533.61   \n",
       "389   47  26.5   70.0  104.8  63.0  3.0  4.1897   70   8.366600  702.25   \n",
       "154   67  28.3   93.0  132.2  49.0  4.0  4.7362   92   9.643651  800.89   \n",
       "..   ...   ...    ...    ...   ...  ...     ...  ...        ...     ...   \n",
       "211   74  29.8  101.0  104.8  50.0  3.0  4.3944   86  10.049876  888.04   \n",
       "359   59  26.9  104.0  126.6  43.0  5.0  4.8040  106  10.198039  723.61   \n",
       "195   56  28.7   99.0  146.4  39.0  5.0  4.7274   97   9.949874  823.69   \n",
       "192   64  23.5   97.0  129.0  59.0  3.0  4.3175   77   9.848858  552.25   \n",
       "47    27  19.6   78.0   68.0  43.0  3.0  4.4427   71   8.831761  384.16   \n",
       "\n",
       "       BPnS2  \n",
       "74   14030.4  \n",
       "26    4698.0  \n",
       "45   12105.6  \n",
       "389   7336.0  \n",
       "154  12294.6  \n",
       "..       ...  \n",
       "211  10584.8  \n",
       "359  13166.4  \n",
       "195  14493.6  \n",
       "192  12513.0  \n",
       "47    5304.0  \n",
       "\n",
       "[299 rows x 11 columns]"
      ]
     },
     "execution_count": 57,
     "metadata": {},
     "output_type": "execute_result"
    }
   ],
   "source": [
    "x"
   ]
  },
  {
   "cell_type": "code",
   "execution_count": 58,
   "id": "1fe4faad",
   "metadata": {},
   "outputs": [
    {
     "name": "stdout",
     "output_type": "stream",
     "text": [
      "0.467000529081796 0.5453333933304173\n"
     ]
    }
   ],
   "source": [
    "x['BnB']=x['BMI']*x['BP']\n",
    "s1,s2=learn(x,t)\n",
    "print(s1,s2)\n",
    "x=x.drop('BnB',axis=1)"
   ]
  },
  {
   "cell_type": "code",
   "execution_count": 59,
   "id": "525310e8",
   "metadata": {},
   "outputs": [
    {
     "name": "stdout",
     "output_type": "stream",
     "text": [
      "0.4515948154660382 0.5868322972480751\n"
     ]
    }
   ],
   "source": [
    "x['S2n6']=x['S2']*x['S6']\n",
    "s1,s2=learn(x,t)\n",
    "print(s1,s2)"
   ]
  },
  {
   "cell_type": "code",
   "execution_count": 60,
   "id": "e032cbcb",
   "metadata": {},
   "outputs": [
    {
     "name": "stdout",
     "output_type": "stream",
     "text": [
      "0.45831319649904634 0.5573195698156588\n"
     ]
    }
   ],
   "source": [
    "x['S3n6']=x['S3']*x['S6']\n",
    "s1,s2=learn(x,t)\n",
    "print(s1,s2)\n",
    "x=x.drop('S3n6',axis=1)"
   ]
  },
  {
   "cell_type": "code",
   "execution_count": 61,
   "id": "79a9ace7",
   "metadata": {},
   "outputs": [
    {
     "name": "stdout",
     "output_type": "stream",
     "text": [
      "0.45861575726221526 0.5662113345769823\n"
     ]
    }
   ],
   "source": [
    "x['S5n6']=x['S5']*x['S6']\n",
    "s1,s2=learn(x,t)\n",
    "print(s1,s2)\n",
    "x=x.drop('S5n6',axis=1)"
   ]
  },
  {
   "cell_type": "code",
   "execution_count": 62,
   "id": "a2ac4fe7",
   "metadata": {},
   "outputs": [
    {
     "data": {
      "text/html": [
       "<div>\n",
       "<style scoped>\n",
       "    .dataframe tbody tr th:only-of-type {\n",
       "        vertical-align: middle;\n",
       "    }\n",
       "\n",
       "    .dataframe tbody tr th {\n",
       "        vertical-align: top;\n",
       "    }\n",
       "\n",
       "    .dataframe thead th {\n",
       "        text-align: right;\n",
       "    }\n",
       "</style>\n",
       "<table border=\"1\" class=\"dataframe\">\n",
       "  <thead>\n",
       "    <tr style=\"text-align: right;\">\n",
       "      <th></th>\n",
       "      <th>AGE</th>\n",
       "      <th>BMI</th>\n",
       "      <th>BP</th>\n",
       "      <th>S2</th>\n",
       "      <th>S3</th>\n",
       "      <th>S4</th>\n",
       "      <th>S5</th>\n",
       "      <th>S6</th>\n",
       "      <th>BP_1/2</th>\n",
       "      <th>BMI_2</th>\n",
       "      <th>BPnS2</th>\n",
       "      <th>S2n6</th>\n",
       "    </tr>\n",
       "  </thead>\n",
       "  <tbody>\n",
       "    <tr>\n",
       "      <th>74</th>\n",
       "      <td>52</td>\n",
       "      <td>26.6</td>\n",
       "      <td>111.0</td>\n",
       "      <td>126.4</td>\n",
       "      <td>61.0</td>\n",
       "      <td>3.0</td>\n",
       "      <td>4.6821</td>\n",
       "      <td>109</td>\n",
       "      <td>10.535654</td>\n",
       "      <td>707.56</td>\n",
       "      <td>14030.4</td>\n",
       "      <td>13777.6</td>\n",
       "    </tr>\n",
       "    <tr>\n",
       "      <th>26</th>\n",
       "      <td>19</td>\n",
       "      <td>19.2</td>\n",
       "      <td>87.0</td>\n",
       "      <td>54.0</td>\n",
       "      <td>57.0</td>\n",
       "      <td>2.0</td>\n",
       "      <td>4.1744</td>\n",
       "      <td>90</td>\n",
       "      <td>9.327379</td>\n",
       "      <td>368.64</td>\n",
       "      <td>4698.0</td>\n",
       "      <td>4860.0</td>\n",
       "    </tr>\n",
       "    <tr>\n",
       "      <th>45</th>\n",
       "      <td>56</td>\n",
       "      <td>23.1</td>\n",
       "      <td>104.0</td>\n",
       "      <td>116.4</td>\n",
       "      <td>47.0</td>\n",
       "      <td>4.0</td>\n",
       "      <td>4.4773</td>\n",
       "      <td>79</td>\n",
       "      <td>10.198039</td>\n",
       "      <td>533.61</td>\n",
       "      <td>12105.6</td>\n",
       "      <td>9195.6</td>\n",
       "    </tr>\n",
       "    <tr>\n",
       "      <th>389</th>\n",
       "      <td>47</td>\n",
       "      <td>26.5</td>\n",
       "      <td>70.0</td>\n",
       "      <td>104.8</td>\n",
       "      <td>63.0</td>\n",
       "      <td>3.0</td>\n",
       "      <td>4.1897</td>\n",
       "      <td>70</td>\n",
       "      <td>8.366600</td>\n",
       "      <td>702.25</td>\n",
       "      <td>7336.0</td>\n",
       "      <td>7336.0</td>\n",
       "    </tr>\n",
       "    <tr>\n",
       "      <th>154</th>\n",
       "      <td>67</td>\n",
       "      <td>28.3</td>\n",
       "      <td>93.0</td>\n",
       "      <td>132.2</td>\n",
       "      <td>49.0</td>\n",
       "      <td>4.0</td>\n",
       "      <td>4.7362</td>\n",
       "      <td>92</td>\n",
       "      <td>9.643651</td>\n",
       "      <td>800.89</td>\n",
       "      <td>12294.6</td>\n",
       "      <td>12162.4</td>\n",
       "    </tr>\n",
       "    <tr>\n",
       "      <th>...</th>\n",
       "      <td>...</td>\n",
       "      <td>...</td>\n",
       "      <td>...</td>\n",
       "      <td>...</td>\n",
       "      <td>...</td>\n",
       "      <td>...</td>\n",
       "      <td>...</td>\n",
       "      <td>...</td>\n",
       "      <td>...</td>\n",
       "      <td>...</td>\n",
       "      <td>...</td>\n",
       "      <td>...</td>\n",
       "    </tr>\n",
       "    <tr>\n",
       "      <th>211</th>\n",
       "      <td>74</td>\n",
       "      <td>29.8</td>\n",
       "      <td>101.0</td>\n",
       "      <td>104.8</td>\n",
       "      <td>50.0</td>\n",
       "      <td>3.0</td>\n",
       "      <td>4.3944</td>\n",
       "      <td>86</td>\n",
       "      <td>10.049876</td>\n",
       "      <td>888.04</td>\n",
       "      <td>10584.8</td>\n",
       "      <td>9012.8</td>\n",
       "    </tr>\n",
       "    <tr>\n",
       "      <th>359</th>\n",
       "      <td>59</td>\n",
       "      <td>26.9</td>\n",
       "      <td>104.0</td>\n",
       "      <td>126.6</td>\n",
       "      <td>43.0</td>\n",
       "      <td>5.0</td>\n",
       "      <td>4.8040</td>\n",
       "      <td>106</td>\n",
       "      <td>10.198039</td>\n",
       "      <td>723.61</td>\n",
       "      <td>13166.4</td>\n",
       "      <td>13419.6</td>\n",
       "    </tr>\n",
       "    <tr>\n",
       "      <th>195</th>\n",
       "      <td>56</td>\n",
       "      <td>28.7</td>\n",
       "      <td>99.0</td>\n",
       "      <td>146.4</td>\n",
       "      <td>39.0</td>\n",
       "      <td>5.0</td>\n",
       "      <td>4.7274</td>\n",
       "      <td>97</td>\n",
       "      <td>9.949874</td>\n",
       "      <td>823.69</td>\n",
       "      <td>14493.6</td>\n",
       "      <td>14200.8</td>\n",
       "    </tr>\n",
       "    <tr>\n",
       "      <th>192</th>\n",
       "      <td>64</td>\n",
       "      <td>23.5</td>\n",
       "      <td>97.0</td>\n",
       "      <td>129.0</td>\n",
       "      <td>59.0</td>\n",
       "      <td>3.0</td>\n",
       "      <td>4.3175</td>\n",
       "      <td>77</td>\n",
       "      <td>9.848858</td>\n",
       "      <td>552.25</td>\n",
       "      <td>12513.0</td>\n",
       "      <td>9933.0</td>\n",
       "    </tr>\n",
       "    <tr>\n",
       "      <th>47</th>\n",
       "      <td>27</td>\n",
       "      <td>19.6</td>\n",
       "      <td>78.0</td>\n",
       "      <td>68.0</td>\n",
       "      <td>43.0</td>\n",
       "      <td>3.0</td>\n",
       "      <td>4.4427</td>\n",
       "      <td>71</td>\n",
       "      <td>8.831761</td>\n",
       "      <td>384.16</td>\n",
       "      <td>5304.0</td>\n",
       "      <td>4828.0</td>\n",
       "    </tr>\n",
       "  </tbody>\n",
       "</table>\n",
       "<p>299 rows × 12 columns</p>\n",
       "</div>"
      ],
      "text/plain": [
       "     AGE   BMI     BP     S2    S3   S4      S5   S6     BP_1/2   BMI_2  \\\n",
       "74    52  26.6  111.0  126.4  61.0  3.0  4.6821  109  10.535654  707.56   \n",
       "26    19  19.2   87.0   54.0  57.0  2.0  4.1744   90   9.327379  368.64   \n",
       "45    56  23.1  104.0  116.4  47.0  4.0  4.4773   79  10.198039  533.61   \n",
       "389   47  26.5   70.0  104.8  63.0  3.0  4.1897   70   8.366600  702.25   \n",
       "154   67  28.3   93.0  132.2  49.0  4.0  4.7362   92   9.643651  800.89   \n",
       "..   ...   ...    ...    ...   ...  ...     ...  ...        ...     ...   \n",
       "211   74  29.8  101.0  104.8  50.0  3.0  4.3944   86  10.049876  888.04   \n",
       "359   59  26.9  104.0  126.6  43.0  5.0  4.8040  106  10.198039  723.61   \n",
       "195   56  28.7   99.0  146.4  39.0  5.0  4.7274   97   9.949874  823.69   \n",
       "192   64  23.5   97.0  129.0  59.0  3.0  4.3175   77   9.848858  552.25   \n",
       "47    27  19.6   78.0   68.0  43.0  3.0  4.4427   71   8.831761  384.16   \n",
       "\n",
       "       BPnS2     S2n6  \n",
       "74   14030.4  13777.6  \n",
       "26    4698.0   4860.0  \n",
       "45   12105.6   9195.6  \n",
       "389   7336.0   7336.0  \n",
       "154  12294.6  12162.4  \n",
       "..       ...      ...  \n",
       "211  10584.8   9012.8  \n",
       "359  13166.4  13419.6  \n",
       "195  14493.6  14200.8  \n",
       "192  12513.0   9933.0  \n",
       "47    5304.0   4828.0  \n",
       "\n",
       "[299 rows x 12 columns]"
      ]
     },
     "execution_count": 62,
     "metadata": {},
     "output_type": "execute_result"
    }
   ],
   "source": [
    "x"
   ]
  },
  {
   "cell_type": "code",
   "execution_count": 63,
   "id": "8abdf743",
   "metadata": {},
   "outputs": [
    {
     "name": "stdout",
     "output_type": "stream",
     "text": [
      "0.45680526534584753 0.5819364626824862\n"
     ]
    }
   ],
   "source": [
    "x['BP_1/3']=x['BP']**(1/3)\n",
    "s1,s2=learn(x,t)\n",
    "print(s1,s2)\n",
    "x=x.drop('BP_1/3',axis=1)"
   ]
  },
  {
   "cell_type": "code",
   "execution_count": 64,
   "id": "a88dd225",
   "metadata": {},
   "outputs": [
    {
     "name": "stdout",
     "output_type": "stream",
     "text": [
      "0.4520548839047469 0.5895103567531289\n"
     ]
    }
   ],
   "source": [
    "x['BMInS4']=x['BMI']*x['S4']\n",
    "s1,s2=learn(x,t)\n",
    "print(s1,s2)"
   ]
  },
  {
   "cell_type": "code",
   "execution_count": 65,
   "id": "1e82c76c",
   "metadata": {},
   "outputs": [
    {
     "name": "stdout",
     "output_type": "stream",
     "text": [
      "0.4539145117237393 0.5780859462439385\n"
     ]
    }
   ],
   "source": [
    "x['BPnS4']=x['BP']*x['S4']\n",
    "s1,s2=learn(x,t)\n",
    "print(s1,s2)\n",
    "x=x.drop('BPnS4',axis=1)"
   ]
  },
  {
   "cell_type": "code",
   "execution_count": 66,
   "id": "400e69d6",
   "metadata": {},
   "outputs": [
    {
     "name": "stdout",
     "output_type": "stream",
     "text": [
      "0.45299528870634065 0.5845425618784903\n"
     ]
    }
   ],
   "source": [
    "x['S4nS5']=x['S5']*x['S4']\n",
    "s1,s2=learn(x,t)\n",
    "print(s1,s2)\n",
    "x=x.drop('S4nS5',axis=1)"
   ]
  },
  {
   "cell_type": "code",
   "execution_count": 67,
   "id": "576b15ba",
   "metadata": {},
   "outputs": [
    {
     "name": "stdout",
     "output_type": "stream",
     "text": [
      "0.4525169220408447 0.585858597679815\n"
     ]
    }
   ],
   "source": [
    "x['S3nS4']=(-x['S3'])*x['S4']\n",
    "s1,s2=learn(x,t)\n",
    "print(s1,s2)\n",
    "x=x.drop('S3nS4',axis=1)"
   ]
  },
  {
   "cell_type": "code",
   "execution_count": 68,
   "id": "a3273094",
   "metadata": {},
   "outputs": [
    {
     "name": "stdout",
     "output_type": "stream",
     "text": [
      "0.4527062708948433 0.5828296425354608\n"
     ]
    }
   ],
   "source": [
    "x['S4_2']=x['S4']**2\n",
    "s1,s2=learn(x,t)\n",
    "print(s1,s2)"
   ]
  },
  {
   "cell_type": "code",
   "execution_count": 69,
   "id": "4dc50a32",
   "metadata": {},
   "outputs": [],
   "source": [
    "x=x.drop('S4_2',axis=1)"
   ]
  },
  {
   "cell_type": "code",
   "execution_count": 70,
   "id": "f58f4f5c",
   "metadata": {},
   "outputs": [
    {
     "data": {
      "text/plain": [
       "(0.4520548839047469, 0.5895103567531289)"
      ]
     },
     "execution_count": 70,
     "metadata": {},
     "output_type": "execute_result"
    }
   ],
   "source": [
    "learn(x,t)"
   ]
  },
  {
   "cell_type": "code",
   "execution_count": 93,
   "id": "1af44b7d",
   "metadata": {},
   "outputs": [],
   "source": [
    "x=x.drop('S2n6',axis=1)\n",
    "x=x.drop('S2',axis=1)\n",
    "x=x.drop('BPnS2',axis=1)"
   ]
  },
  {
   "cell_type": "code",
   "execution_count": 98,
   "id": "fc27d3d2",
   "metadata": {},
   "outputs": [],
   "source": [
    "x=x.drop('S6',axis=1)\n",
    "x=x.drop('AGE',axis=1)"
   ]
  },
  {
   "cell_type": "code",
   "execution_count": 99,
   "id": "7e3f9712",
   "metadata": {},
   "outputs": [
    {
     "data": {
      "text/plain": [
       "(0.4449457896302469, 0.5857275514211406)"
      ]
     },
     "execution_count": 99,
     "metadata": {},
     "output_type": "execute_result"
    }
   ],
   "source": [
    "learn(x,t)"
   ]
  },
  {
   "cell_type": "markdown",
   "id": "6b7b3605",
   "metadata": {},
   "source": [
    "### 재학습"
   ]
  },
  {
   "cell_type": "code",
   "execution_count": 100,
   "id": "1a970a8c",
   "metadata": {},
   "outputs": [
    {
     "data": {
      "text/plain": [
       "LinearRegression()"
      ]
     },
     "execution_count": 100,
     "metadata": {},
     "output_type": "execute_result"
    }
   ],
   "source": [
    "sc_model_x2=StandardScaler()\n",
    "sc_model_x2.fit(x)\n",
    "sc_x=sc_model_x2.transform(x)\n",
    "\n",
    "sc_model_y2=StandardScaler()\n",
    "sc_model_y2.fit(t)\n",
    "sc_y=sc_model_y2.transform(t)\n",
    "\n",
    "model=LinearRegression()\n",
    "model.fit(sc_x,sc_y)"
   ]
  },
  {
   "cell_type": "markdown",
   "id": "5db64372",
   "metadata": {},
   "source": [
    "### 테스트 데이터로 평가"
   ]
  },
  {
   "cell_type": "code",
   "execution_count": 101,
   "id": "e3eb976d",
   "metadata": {},
   "outputs": [
    {
     "data": {
      "text/html": [
       "<div>\n",
       "<style scoped>\n",
       "    .dataframe tbody tr th:only-of-type {\n",
       "        vertical-align: middle;\n",
       "    }\n",
       "\n",
       "    .dataframe tbody tr th {\n",
       "        vertical-align: top;\n",
       "    }\n",
       "\n",
       "    .dataframe thead th {\n",
       "        text-align: right;\n",
       "    }\n",
       "</style>\n",
       "<table border=\"1\" class=\"dataframe\">\n",
       "  <thead>\n",
       "    <tr style=\"text-align: right;\">\n",
       "      <th></th>\n",
       "      <th>BMI</th>\n",
       "      <th>BP</th>\n",
       "      <th>S3</th>\n",
       "      <th>S4</th>\n",
       "      <th>S5</th>\n",
       "      <th>BP_1/2</th>\n",
       "      <th>BMI_2</th>\n",
       "      <th>BMInS4</th>\n",
       "    </tr>\n",
       "  </thead>\n",
       "  <tbody>\n",
       "    <tr>\n",
       "      <th>74</th>\n",
       "      <td>26.6</td>\n",
       "      <td>111.0</td>\n",
       "      <td>61.0</td>\n",
       "      <td>3.0</td>\n",
       "      <td>4.6821</td>\n",
       "      <td>10.535654</td>\n",
       "      <td>707.56</td>\n",
       "      <td>79.8</td>\n",
       "    </tr>\n",
       "    <tr>\n",
       "      <th>26</th>\n",
       "      <td>19.2</td>\n",
       "      <td>87.0</td>\n",
       "      <td>57.0</td>\n",
       "      <td>2.0</td>\n",
       "      <td>4.1744</td>\n",
       "      <td>9.327379</td>\n",
       "      <td>368.64</td>\n",
       "      <td>38.4</td>\n",
       "    </tr>\n",
       "    <tr>\n",
       "      <th>45</th>\n",
       "      <td>23.1</td>\n",
       "      <td>104.0</td>\n",
       "      <td>47.0</td>\n",
       "      <td>4.0</td>\n",
       "      <td>4.4773</td>\n",
       "      <td>10.198039</td>\n",
       "      <td>533.61</td>\n",
       "      <td>92.4</td>\n",
       "    </tr>\n",
       "    <tr>\n",
       "      <th>389</th>\n",
       "      <td>26.5</td>\n",
       "      <td>70.0</td>\n",
       "      <td>63.0</td>\n",
       "      <td>3.0</td>\n",
       "      <td>4.1897</td>\n",
       "      <td>8.366600</td>\n",
       "      <td>702.25</td>\n",
       "      <td>79.5</td>\n",
       "    </tr>\n",
       "    <tr>\n",
       "      <th>154</th>\n",
       "      <td>28.3</td>\n",
       "      <td>93.0</td>\n",
       "      <td>49.0</td>\n",
       "      <td>4.0</td>\n",
       "      <td>4.7362</td>\n",
       "      <td>9.643651</td>\n",
       "      <td>800.89</td>\n",
       "      <td>113.2</td>\n",
       "    </tr>\n",
       "    <tr>\n",
       "      <th>...</th>\n",
       "      <td>...</td>\n",
       "      <td>...</td>\n",
       "      <td>...</td>\n",
       "      <td>...</td>\n",
       "      <td>...</td>\n",
       "      <td>...</td>\n",
       "      <td>...</td>\n",
       "      <td>...</td>\n",
       "    </tr>\n",
       "    <tr>\n",
       "      <th>211</th>\n",
       "      <td>29.8</td>\n",
       "      <td>101.0</td>\n",
       "      <td>50.0</td>\n",
       "      <td>3.0</td>\n",
       "      <td>4.3944</td>\n",
       "      <td>10.049876</td>\n",
       "      <td>888.04</td>\n",
       "      <td>89.4</td>\n",
       "    </tr>\n",
       "    <tr>\n",
       "      <th>359</th>\n",
       "      <td>26.9</td>\n",
       "      <td>104.0</td>\n",
       "      <td>43.0</td>\n",
       "      <td>5.0</td>\n",
       "      <td>4.8040</td>\n",
       "      <td>10.198039</td>\n",
       "      <td>723.61</td>\n",
       "      <td>134.5</td>\n",
       "    </tr>\n",
       "    <tr>\n",
       "      <th>195</th>\n",
       "      <td>28.7</td>\n",
       "      <td>99.0</td>\n",
       "      <td>39.0</td>\n",
       "      <td>5.0</td>\n",
       "      <td>4.7274</td>\n",
       "      <td>9.949874</td>\n",
       "      <td>823.69</td>\n",
       "      <td>143.5</td>\n",
       "    </tr>\n",
       "    <tr>\n",
       "      <th>192</th>\n",
       "      <td>23.5</td>\n",
       "      <td>97.0</td>\n",
       "      <td>59.0</td>\n",
       "      <td>3.0</td>\n",
       "      <td>4.3175</td>\n",
       "      <td>9.848858</td>\n",
       "      <td>552.25</td>\n",
       "      <td>70.5</td>\n",
       "    </tr>\n",
       "    <tr>\n",
       "      <th>47</th>\n",
       "      <td>19.6</td>\n",
       "      <td>78.0</td>\n",
       "      <td>43.0</td>\n",
       "      <td>3.0</td>\n",
       "      <td>4.4427</td>\n",
       "      <td>8.831761</td>\n",
       "      <td>384.16</td>\n",
       "      <td>58.8</td>\n",
       "    </tr>\n",
       "  </tbody>\n",
       "</table>\n",
       "<p>299 rows × 8 columns</p>\n",
       "</div>"
      ],
      "text/plain": [
       "      BMI     BP    S3   S4      S5     BP_1/2   BMI_2  BMInS4\n",
       "74   26.6  111.0  61.0  3.0  4.6821  10.535654  707.56    79.8\n",
       "26   19.2   87.0  57.0  2.0  4.1744   9.327379  368.64    38.4\n",
       "45   23.1  104.0  47.0  4.0  4.4773  10.198039  533.61    92.4\n",
       "389  26.5   70.0  63.0  3.0  4.1897   8.366600  702.25    79.5\n",
       "154  28.3   93.0  49.0  4.0  4.7362   9.643651  800.89   113.2\n",
       "..    ...    ...   ...  ...     ...        ...     ...     ...\n",
       "211  29.8  101.0  50.0  3.0  4.3944  10.049876  888.04    89.4\n",
       "359  26.9  104.0  43.0  5.0  4.8040  10.198039  723.61   134.5\n",
       "195  28.7   99.0  39.0  5.0  4.7274   9.949874  823.69   143.5\n",
       "192  23.5   97.0  59.0  3.0  4.3175   9.848858  552.25    70.5\n",
       "47   19.6   78.0  43.0  3.0  4.4427   8.831761  384.16    58.8\n",
       "\n",
       "[299 rows x 8 columns]"
      ]
     },
     "execution_count": 101,
     "metadata": {},
     "output_type": "execute_result"
    }
   ],
   "source": [
    "x"
   ]
  },
  {
   "cell_type": "code",
   "execution_count": 102,
   "id": "f2a6a24f",
   "metadata": {
    "scrolled": false
   },
   "outputs": [
    {
     "data": {
      "text/plain": [
       "AGE    0\n",
       "SEX    0\n",
       "BMI    0\n",
       "BP     0\n",
       "S1     0\n",
       "S2     0\n",
       "S3     0\n",
       "S4     0\n",
       "S5     0\n",
       "S6     0\n",
       "Y      0\n",
       "dtype: int64"
      ]
     },
     "execution_count": 102,
     "metadata": {},
     "output_type": "execute_result"
    }
   ],
   "source": [
    "test.isnull().sum()"
   ]
  },
  {
   "cell_type": "code",
   "execution_count": 112,
   "id": "27669321",
   "metadata": {},
   "outputs": [],
   "source": [
    "x1 = ['BMI', 'BP', 'S3', 'S4', 'S5']"
   ]
  },
  {
   "cell_type": "code",
   "execution_count": 113,
   "id": "e44bcb8d",
   "metadata": {},
   "outputs": [],
   "source": [
    "x_test=test.loc[:,x1]\n",
    "y_test=test[['Y']]\n",
    "\n",
    "x_test['BP_1/2']=x_test['BP']**(1/2)\n",
    "x_test['BMI_2']=x_test['BMI']**2\n",
    "x_test['BMInS4']=x_test['BMI']*x_test['S4']\n",
    "\n",
    "sc_x_test=sc_model_x2.transform(x_test)\n",
    "sc_y_test=sc_model_y2.transform(y_test)"
   ]
  },
  {
   "cell_type": "code",
   "execution_count": 114,
   "id": "5495b161",
   "metadata": {},
   "outputs": [
    {
     "data": {
      "text/html": [
       "<div>\n",
       "<style scoped>\n",
       "    .dataframe tbody tr th:only-of-type {\n",
       "        vertical-align: middle;\n",
       "    }\n",
       "\n",
       "    .dataframe tbody tr th {\n",
       "        vertical-align: top;\n",
       "    }\n",
       "\n",
       "    .dataframe thead th {\n",
       "        text-align: right;\n",
       "    }\n",
       "</style>\n",
       "<table border=\"1\" class=\"dataframe\">\n",
       "  <thead>\n",
       "    <tr style=\"text-align: right;\">\n",
       "      <th></th>\n",
       "      <th>BMI</th>\n",
       "      <th>BP</th>\n",
       "      <th>S3</th>\n",
       "      <th>S4</th>\n",
       "      <th>S5</th>\n",
       "      <th>BP_1/2</th>\n",
       "      <th>BMI_2</th>\n",
       "      <th>BMInS4</th>\n",
       "    </tr>\n",
       "  </thead>\n",
       "  <tbody>\n",
       "    <tr>\n",
       "      <th>362</th>\n",
       "      <td>36.1</td>\n",
       "      <td>115.0</td>\n",
       "      <td>43.0</td>\n",
       "      <td>4.0</td>\n",
       "      <td>4.6821</td>\n",
       "      <td>10.723805</td>\n",
       "      <td>1303.21</td>\n",
       "      <td>144.4</td>\n",
       "    </tr>\n",
       "    <tr>\n",
       "      <th>249</th>\n",
       "      <td>32.0</td>\n",
       "      <td>110.0</td>\n",
       "      <td>45.0</td>\n",
       "      <td>5.0</td>\n",
       "      <td>5.4116</td>\n",
       "      <td>10.488088</td>\n",
       "      <td>1024.00</td>\n",
       "      <td>160.0</td>\n",
       "    </tr>\n",
       "    <tr>\n",
       "      <th>271</th>\n",
       "      <td>27.2</td>\n",
       "      <td>107.0</td>\n",
       "      <td>39.0</td>\n",
       "      <td>4.0</td>\n",
       "      <td>4.4427</td>\n",
       "      <td>10.344080</td>\n",
       "      <td>739.84</td>\n",
       "      <td>108.8</td>\n",
       "    </tr>\n",
       "    <tr>\n",
       "      <th>435</th>\n",
       "      <td>24.2</td>\n",
       "      <td>83.0</td>\n",
       "      <td>45.0</td>\n",
       "      <td>4.0</td>\n",
       "      <td>4.2195</td>\n",
       "      <td>9.110434</td>\n",
       "      <td>585.64</td>\n",
       "      <td>96.8</td>\n",
       "    </tr>\n",
       "    <tr>\n",
       "      <th>400</th>\n",
       "      <td>30.6</td>\n",
       "      <td>121.0</td>\n",
       "      <td>69.0</td>\n",
       "      <td>3.0</td>\n",
       "      <td>4.2627</td>\n",
       "      <td>11.000000</td>\n",
       "      <td>936.36</td>\n",
       "      <td>91.8</td>\n",
       "    </tr>\n",
       "    <tr>\n",
       "      <th>...</th>\n",
       "      <td>...</td>\n",
       "      <td>...</td>\n",
       "      <td>...</td>\n",
       "      <td>...</td>\n",
       "      <td>...</td>\n",
       "      <td>...</td>\n",
       "      <td>...</td>\n",
       "      <td>...</td>\n",
       "    </tr>\n",
       "    <tr>\n",
       "      <th>381</th>\n",
       "      <td>18.1</td>\n",
       "      <td>73.0</td>\n",
       "      <td>41.0</td>\n",
       "      <td>4.0</td>\n",
       "      <td>4.4998</td>\n",
       "      <td>8.544004</td>\n",
       "      <td>327.61</td>\n",
       "      <td>72.4</td>\n",
       "    </tr>\n",
       "    <tr>\n",
       "      <th>213</th>\n",
       "      <td>19.8</td>\n",
       "      <td>88.0</td>\n",
       "      <td>57.0</td>\n",
       "      <td>3.0</td>\n",
       "      <td>4.3944</td>\n",
       "      <td>9.380832</td>\n",
       "      <td>392.04</td>\n",
       "      <td>59.4</td>\n",
       "    </tr>\n",
       "    <tr>\n",
       "      <th>134</th>\n",
       "      <td>30.4</td>\n",
       "      <td>85.0</td>\n",
       "      <td>67.0</td>\n",
       "      <td>3.0</td>\n",
       "      <td>4.3438</td>\n",
       "      <td>9.219544</td>\n",
       "      <td>924.16</td>\n",
       "      <td>91.2</td>\n",
       "    </tr>\n",
       "    <tr>\n",
       "      <th>49</th>\n",
       "      <td>27.7</td>\n",
       "      <td>93.0</td>\n",
       "      <td>30.0</td>\n",
       "      <td>6.0</td>\n",
       "      <td>5.0304</td>\n",
       "      <td>9.643651</td>\n",
       "      <td>767.29</td>\n",
       "      <td>166.2</td>\n",
       "    </tr>\n",
       "    <tr>\n",
       "      <th>52</th>\n",
       "      <td>25.5</td>\n",
       "      <td>93.0</td>\n",
       "      <td>57.0</td>\n",
       "      <td>4.0</td>\n",
       "      <td>4.4427</td>\n",
       "      <td>9.643651</td>\n",
       "      <td>650.25</td>\n",
       "      <td>102.0</td>\n",
       "    </tr>\n",
       "  </tbody>\n",
       "</table>\n",
       "<p>89 rows × 8 columns</p>\n",
       "</div>"
      ],
      "text/plain": [
       "      BMI     BP    S3   S4      S5     BP_1/2    BMI_2  BMInS4\n",
       "362  36.1  115.0  43.0  4.0  4.6821  10.723805  1303.21   144.4\n",
       "249  32.0  110.0  45.0  5.0  5.4116  10.488088  1024.00   160.0\n",
       "271  27.2  107.0  39.0  4.0  4.4427  10.344080   739.84   108.8\n",
       "435  24.2   83.0  45.0  4.0  4.2195   9.110434   585.64    96.8\n",
       "400  30.6  121.0  69.0  3.0  4.2627  11.000000   936.36    91.8\n",
       "..    ...    ...   ...  ...     ...        ...      ...     ...\n",
       "381  18.1   73.0  41.0  4.0  4.4998   8.544004   327.61    72.4\n",
       "213  19.8   88.0  57.0  3.0  4.3944   9.380832   392.04    59.4\n",
       "134  30.4   85.0  67.0  3.0  4.3438   9.219544   924.16    91.2\n",
       "49   27.7   93.0  30.0  6.0  5.0304   9.643651   767.29   166.2\n",
       "52   25.5   93.0  57.0  4.0  4.4427   9.643651   650.25   102.0\n",
       "\n",
       "[89 rows x 8 columns]"
      ]
     },
     "execution_count": 114,
     "metadata": {},
     "output_type": "execute_result"
    }
   ],
   "source": [
    "x_test"
   ]
  },
  {
   "cell_type": "code",
   "execution_count": 115,
   "id": "1dd73bbe",
   "metadata": {
    "scrolled": false
   },
   "outputs": [
    {
     "data": {
      "text/plain": [
       "0.30626412680171"
      ]
     },
     "execution_count": 115,
     "metadata": {},
     "output_type": "execute_result"
    }
   ],
   "source": [
    "model.score(sc_x_test,sc_y_test)"
   ]
  },
  {
   "cell_type": "markdown",
   "id": "da2b56de",
   "metadata": {},
   "source": [
    "#### R^2= 0.30626412680171"
   ]
  },
  {
   "cell_type": "code",
   "execution_count": 78,
   "id": "24ada886",
   "metadata": {},
   "outputs": [
    {
     "name": "stdout",
     "output_type": "stream",
     "text": [
      "[[-0.04795232 -0.38537986  1.12294952 -0.48662508 -0.17360812 -0.24885534\n",
      "   0.29817236 -0.14321082 -1.01646868  0.56979614  0.12507087  0.35681077\n",
      "   0.3651748 ]]\n",
      "[-1.65824385e-15]\n"
     ]
    }
   ],
   "source": [
    "print(model.coef_)\n",
    "print(model.intercept_)\n",
    "    "
   ]
  },
  {
   "cell_type": "code",
   "execution_count": 79,
   "id": "2efb9740",
   "metadata": {
    "scrolled": true
   },
   "outputs": [
    {
     "data": {
      "text/html": [
       "<div>\n",
       "<style scoped>\n",
       "    .dataframe tbody tr th:only-of-type {\n",
       "        vertical-align: middle;\n",
       "    }\n",
       "\n",
       "    .dataframe tbody tr th {\n",
       "        vertical-align: top;\n",
       "    }\n",
       "\n",
       "    .dataframe thead th {\n",
       "        text-align: right;\n",
       "    }\n",
       "</style>\n",
       "<table border=\"1\" class=\"dataframe\">\n",
       "  <thead>\n",
       "    <tr style=\"text-align: right;\">\n",
       "      <th></th>\n",
       "      <th>AGE</th>\n",
       "      <th>BMI</th>\n",
       "      <th>BP</th>\n",
       "      <th>S2</th>\n",
       "      <th>S3</th>\n",
       "      <th>S4</th>\n",
       "      <th>S5</th>\n",
       "      <th>S6</th>\n",
       "      <th>BP_1/2</th>\n",
       "      <th>BMI_2</th>\n",
       "      <th>BPnS2</th>\n",
       "      <th>S2n6</th>\n",
       "      <th>BMInS4</th>\n",
       "    </tr>\n",
       "  </thead>\n",
       "  <tbody>\n",
       "    <tr>\n",
       "      <th>0</th>\n",
       "      <td>-0.048</td>\n",
       "      <td>-0.385</td>\n",
       "      <td>1.123</td>\n",
       "      <td>-0.487</td>\n",
       "      <td>-0.174</td>\n",
       "      <td>-0.249</td>\n",
       "      <td>0.298</td>\n",
       "      <td>-0.143</td>\n",
       "      <td>-1.016</td>\n",
       "      <td>0.57</td>\n",
       "      <td>0.125</td>\n",
       "      <td>0.357</td>\n",
       "      <td>0.365</td>\n",
       "    </tr>\n",
       "  </tbody>\n",
       "</table>\n",
       "</div>"
      ],
      "text/plain": [
       "     AGE    BMI     BP     S2     S3     S4     S5     S6  BP_1/2  BMI_2  \\\n",
       "0 -0.048 -0.385  1.123 -0.487 -0.174 -0.249  0.298 -0.143  -1.016   0.57   \n",
       "\n",
       "   BPnS2   S2n6  BMInS4  \n",
       "0  0.125  0.357   0.365  "
      ]
     },
     "execution_count": 79,
     "metadata": {},
     "output_type": "execute_result"
    }
   ],
   "source": [
    "tmp=pd.DataFrame(model.coef_.round(3))\n",
    "tmp.columns=x_test.columns\n",
    "tmp"
   ]
  },
  {
   "cell_type": "code",
   "execution_count": 87,
   "id": "0a5afe98",
   "metadata": {
    "scrolled": true
   },
   "outputs": [
    {
     "data": {
      "text/plain": [
       "AGE       0.131957\n",
       "S2        0.137960\n",
       "S2n6      0.223943\n",
       "BPnS2     0.274845\n",
       "S6        0.286662\n",
       "BP_1/2    0.377123\n",
       "S4        0.378688\n",
       "BP        0.382030\n",
       "S3        0.406594\n",
       "S5        0.524374\n",
       "BMInS4    0.549798\n",
       "BMI       0.579815\n",
       "BMI_2     0.581447\n",
       "Y         1.000000\n",
       "Name: Y, dtype: float64"
      ]
     },
     "execution_count": 87,
     "metadata": {},
     "output_type": "execute_result"
    }
   ],
   "source": [
    "abs(pd.concat([x, t] , axis=1).corr()['Y']).sort_values()"
   ]
  },
  {
   "cell_type": "markdown",
   "id": "793df332",
   "metadata": {},
   "source": [
    "$$y=-0.048\\times AGE\t-0.385\\times BMI\t+1.123\\times BP\t-0.487\\times S2\t-0.174\\times S3\t   \\\\-0.249\t\\times S4+\t0.298\\times S5\t-0.143\\times S6\t-1.016\\times BP\\_1/2\\\\+\t0.57\\times BMI\\_2 +0.125\t\\times BPnS2+\t0.357\\times S2n6+\t0.365\\times BMInS4 -1.65824385e-15$$"
   ]
  }
 ],
 "metadata": {
  "kernelspec": {
   "display_name": "Python 3 (ipykernel)",
   "language": "python",
   "name": "python3"
  },
  "language_info": {
   "codemirror_mode": {
    "name": "ipython",
    "version": 3
   },
   "file_extension": ".py",
   "mimetype": "text/x-python",
   "name": "python",
   "nbconvert_exporter": "python",
   "pygments_lexer": "ipython3",
   "version": "3.9.7"
  }
 },
 "nbformat": 4,
 "nbformat_minor": 5
}

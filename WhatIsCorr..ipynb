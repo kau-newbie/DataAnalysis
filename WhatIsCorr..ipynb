{
 "cells": [
  {
   "cell_type": "markdown",
   "id": "b423e75e",
   "metadata": {},
   "source": [
    "# 뭔 상관? \n",
    "\n",
    "\n",
    "                                                                        \n",
    "\n",
    "_______\n"
   ]
  },
  {
   "cell_type": "markdown",
   "id": "9ddf4d6d",
   "metadata": {},
   "source": [
    "### 문제가 된 배경"
   ]
  },
  {
   "cell_type": "markdown",
   "id": "fd2ad472",
   "metadata": {},
   "source": [
    "- 교재의 `\"상관이 낮은 변량이 특징량으로 쓰일 경우, 모델의 예측 성능을 나쁘게 한다.\"` 라는 표현\n",
    "> '상관'이 뭐길래 모델의 예측 성능에 영향을 주나?"
   ]
  },
  {
   "cell_type": "markdown",
   "id": "6559033d",
   "metadata": {},
   "source": [
    "### 상관의 국어사전 속 정의"
   ]
  },
  {
   "cell_type": "markdown",
   "id": "ae1ff5de",
   "metadata": {},
   "source": [
    "- 상관 (相關)  \n",
    "> 서로 관련을 가짐. 또는 그런 관계."
   ]
  },
  {
   "cell_type": "markdown",
   "id": "2ee13a99",
   "metadata": {},
   "source": [
    "서로 관련되어 있다는 건, 무슨 의미일까? 좀 더 알아보자."
   ]
  },
  {
   "cell_type": "markdown",
   "id": "155f0e25",
   "metadata": {},
   "source": [
    "___"
   ]
  },
  {
   "cell_type": "markdown",
   "id": "c251addc",
   "metadata": {},
   "source": [
    "### 상관의 통계학 속 의미"
   ]
  },
  {
   "cell_type": "markdown",
   "id": "91a4e10a",
   "metadata": {},
   "source": [
    "#### 상관(correlation)"
   ]
  },
  {
   "cell_type": "markdown",
   "id": "4b749761",
   "metadata": {},
   "source": [
    "- 두 연속 변수가 선형관계(상수 비율에서 변함)가 있는 범위를 표현하는 통계적 측도."
   ]
  },
  {
   "cell_type": "markdown",
   "id": "8563835c",
   "metadata": {},
   "source": [
    "![산포도](sanpo.jpg \"산포도와경향성\")"
   ]
  },
  {
   "cell_type": "markdown",
   "id": "b065e376",
   "metadata": {},
   "source": [
    "우상향/ 우하향의 '직선'관계."
   ]
  },
  {
   "cell_type": "markdown",
   "id": "d01c2c4e",
   "metadata": {},
   "source": [
    "- x가 증가할수록 y는 증가/ 감소한다.\n",
    "- x가 $\\delta x$만큼 증가하면, y의 변화량은 어떻게 될 지 '예측'할 근거가 된다. "
   ]
  },
  {
   "cell_type": "markdown",
   "id": "f08bf86c",
   "metadata": {},
   "source": [
    "x값이 일정하게 변하는데, y값은 증가했다, 감소했다, 규칙을 알 수 없게 된다면, \n",
    "예측이 힘들어 지지 않을까?"
   ]
  },
  {
   "cell_type": "markdown",
   "id": "04a6c537",
   "metadata": {},
   "source": [
    "- <통계학의 이해>에서도 마찬가지의 설명.  \n",
    "\n",
    "\n",
    "다만, \"두 변수로 산포도를 그렸을 때, 실제 데이터들의 중심을 지나는 '중심선'에 밀집할수록 상관의 정도가 크다\"고 기술.\n",
    ">    이때, 중심선은 회귀선.  \n",
    "\"두 변수로 **단순선형회귀**를 그렸을 때, **실제값들과 얼마나 가깝게 지나도록 그릴 수 있는 지**\"가 '상관의 **정도**'라고 했다."
   ]
  },
  {
   "cell_type": "markdown",
   "id": "7639ebb0",
   "metadata": {},
   "source": [
    "여러 변량 중 한 변량과 target값간의 산포도를 그렸을 때,   \n",
    "그 실제 값들과 회귀선이 멀어질수록,\n",
    "해당 특징량들을 개개의 항으로 하는 예측식의 오차가 커지지 않을까?"
   ]
  },
  {
   "cell_type": "markdown",
   "id": "7c5f049d",
   "metadata": {},
   "source": [
    "**정리하자면,**\n",
    "\n",
    "**'두 변수 중 한 변수의 값의 변화를, 다른 변수의 값의 변화와 관계지어 설명할 수 있고, 이때 두 변수의 직선관계'**를 **'상관'**이라 한다."
   ]
  },
  {
   "cell_type": "markdown",
   "id": "dc99862a",
   "metadata": {},
   "source": [
    "> - 회귀는 특징량을 근거로 예측식을 만들어준다.\n",
    "> - 회귀는 변수들 간의 '관계'를 최소제곱법으로 추정하는 방법이다.\n",
    "> - 관계가 없을수록 추정을 어렵게 하지 않을까?"
   ]
  },
  {
   "cell_type": "markdown",
   "id": "00c38665",
   "metadata": {},
   "source": [
    "그런데, '정도'라는 표현이 너무 애매하다!\n",
    "> - '밀집해 있는 정도', '뿔뿔히 흩어진 정도' 등등...\n",
    "\n",
    "\n",
    "때문에, 정확히 수치로 표현하기 위해 나온 <span style=\"color: #2D3748; background-color:#fff5b1;\"> '상관계수'</span>"
   ]
  },
  {
   "cell_type": "markdown",
   "id": "cbf0748d",
   "metadata": {},
   "source": [
    "***"
   ]
  },
  {
   "cell_type": "markdown",
   "id": "07bb0889",
   "metadata": {},
   "source": [
    "#### 상관계수"
   ]
  },
  {
   "cell_type": "markdown",
   "id": "042c5fc7",
   "metadata": {},
   "source": [
    "**모상관계수**는 다음과 같다."
   ]
  },
  {
   "cell_type": "markdown",
   "id": "f6551c52",
   "metadata": {},
   "source": [
    "$$\\rho_{X,Y}= {\\sum_{i=1}^n (x_i-\\mu_x)(Y_i-\\mu_y) \\over \\sqrt{\\sum_{i=1}^n (x_i-\\mu_x)^2}\\sqrt{\\sum_{i=1}^n (y_i-\\mu_y)^2}}$$"
   ]
  },
  {
   "cell_type": "markdown",
   "id": "ec09cc5a",
   "metadata": {},
   "source": [
    "교재에 나온 **표본상관계수**는 **'피어슨 상관계수'**이다.\n",
    "공식은 다음과 같다."
   ]
  },
  {
   "cell_type": "markdown",
   "id": "ecc3ec96",
   "metadata": {},
   "source": [
    "$$r= {\\sum_{i=1}^n (x_i-\\bar{X})(y_i-\\bar{Y}) \\over \\sqrt{\\sum_{i=1}^n (x_i-\\bar{X})^2}\\sqrt{\\sum_{i=1}^n (y_i-\\bar{Y})^2}}$$"
   ]
  },
  {
   "cell_type": "markdown",
   "id": "6032b057",
   "metadata": {},
   "source": [
    "**공분산** $cov(X,Y)$를 표준편차 $S_X$, $S_Y$로 나눠줬다. \n",
    "\n",
    "\n",
    "공분산이란 뭘까? 먼저, 분산부터 짚고 넘어가자."
   ]
  },
  {
   "cell_type": "markdown",
   "id": "e1801c53",
   "metadata": {},
   "source": [
    "- 분산\n",
    "\n",
    "$$ \\sigma^2 = { {\\sum_{i=1}^n (x_i-\\bar{X})^2} \\over n}$$  \n",
    "\n",
    "분산은 평균으로부터 변량이 흩어진 정도.   \n",
    "'변수 하나'의 흩어진 정도를 말한다."
   ]
  },
  {
   "cell_type": "markdown",
   "id": "e2d5b5c8",
   "metadata": {},
   "source": [
    "- 공분산"
   ]
  },
  {
   "cell_type": "markdown",
   "id": "78cf11d3",
   "metadata": {},
   "source": [
    "$$ cov(X,Y) = \\sigma_{X,Y} = {\\sum_{i=1}^n (x_i-\\bar{X})(y_i-\\bar{Y}) \\over n}$$\n",
    "\n",
    "혹은,\n",
    "\n",
    "$$=E((X-\\bar{X})(Y-\\bar{Y}))$$"
   ]
  },
  {
   "cell_type": "markdown",
   "id": "90cca21f",
   "metadata": {},
   "source": [
    "공분산은 좌표점$(\\bar{X} , \\bar{Y})$을 기준으로 4분면을 나눴을 때,   \n",
    "\n",
    "\n",
    "데이터의 분포가 \n",
    "> - 제 1&3사분면에 많은지($(X-\\bar{X})(Y-\\bar{Y})$곱의 평균이 양이 되고, 결과적으로 **우상향하는 경향**),   \n",
    "> - 제 2&4분면에 많은지($(X-\\bar{X})(Y-\\bar{Y})$곱의 평균이 음이 되고, 결과적으로 **우하향하는 경향**) \n",
    "\n",
    "알려준다."
   ]
  },
  {
   "cell_type": "markdown",
   "id": "2077539f",
   "metadata": {},
   "source": [
    "다만, 변량들을 곱했기 때문에 물리학적인 의미가 사라질 수도 있다.\n",
    "- ex) $발크기(cm) \\times 몸무게(kg) = ?(cm \\times kg)$"
   ]
  },
  {
   "cell_type": "markdown",
   "id": "f78a14af",
   "metadata": {},
   "source": [
    "따라서 $corr$, **상관계수**가 나왔고, 단위(물리학적인 의미)를 없애기 위해\n",
    "\n",
    "공분산을 표준편차 $S_X$, $S_Y$로 나눠줬다. (표준화)"
   ]
  },
  {
   "cell_type": "markdown",
   "id": "b1ed56c0",
   "metadata": {},
   "source": [
    "___"
   ]
  },
  {
   "cell_type": "markdown",
   "id": "62d8dd5b",
   "metadata": {},
   "source": [
    "## 그 외"
   ]
  },
  {
   "cell_type": "markdown",
   "id": "584626a6",
   "metadata": {},
   "source": [
    "### 상관계수의 한계\n",
    "\n",
    "- 수학적 관계이지, 속성의 관계는 아니다; **인과관계가 아니다.**\n",
    "ex) 아이스크림과 범죄율간의 상관관계\n",
    "- **선형관계를 측정할 뿐**이다; 곡선의 형태의 경우도 분명히 관계가 있는데....\n",
    "\n",
    "### 여러가지 상관\n",
    "___\n",
    "**자료형**\n",
    "\n",
    "통계에서는 자료들을 여러가지 자료형으로 나눈다.\n",
    "\n",
    "1. categorical.(범주형)\n",
    "    1. 명목형\n",
    "     > 혈액형 등등 순서가 없는 범주들.\n",
    "    2. 순서형\n",
    "     > 달리기 1등~5등 같이, 순서가 있는 범주. \n",
    "\n",
    "2. quantitive.(양적)\n",
    "    1. 이산형\n",
    "      > 이산적인 값(유한개만 가질 수 있음)\n",
    "    2. 연속형\n",
    "    > 연속적인 값(어떤 구간 내 모든 값을 가질 수 있음)\n",
    "    \n",
    "    \n",
    "</br>\n",
    "혹은, quantitive.를 다음과 같이 나눈다.\n",
    "\n",
    "\n",
    "A. 구간형\n",
    "  > 비교는 가능하나 서로 비율관계x, 0이 없다는 의미가 아님.  \n",
    "\n",
    "B. 비율형\n",
    "  > 비교 가능하고, 서로 비율관계가 의미를 가지며, 0이 없다는 의미.\n",
    "\n",
    "___\n",
    "**상관**\n",
    "\n",
    "\n",
    "자료형에 따라 상관도 여러 종류로 나뉜다.\n",
    "\n",
    "##### 연속형 - 연속형\n",
    "1. Pearson corr.\n",
    "> - 연속형자료간. 자료들이 정규분포임을 가정한다.\n",
    "2. Kendall corr.\n",
    "> $$\\tau ={ (number\\ of\\ concordant\\ pairs) - (number\\ of\\ discordant \\ pairs) \\over (number\\ of \\ pairs)}$$  \n",
    ">- 순위척도 자료형간.</br>  \n",
    ">concordant; 제 1사분면, 제 3사분면에 위치하는 두 점의 관계. ($x_1 < x_2$면 $y_1 < y_2$이다.) </br>**비모수적** 방법이기 때문에 정규분포를 따르지 않아도 사용할 수 있다.  \n",
    "(요약하면 자료가 정규분포가 아니거나 표본의 크기가 작으면 분포에 대한 기본가정을 필요로 하지 않는 통계적 기법이다)\n",
    "</br>3. spearman corr. \n",
    "> $$r_s = \\rho_{R(X),R(Y)} ={ {cov(R(X),R(Y))} \\over \\sigma_{R(X)}\\sigma_{R(Y)} }$$ $ \\\\where\\\\ \\rho \\ denotes\\ the \\ usual\\ Pearson corr., \\\\ but\\ applied\\ to\\ the\\ rank\\ var.\\ cov(R(X),R(Y))\\ is\\ the\\ covariance\\ of\\ the\\ rank\\ var.,\\\\ \\sigma_R(X)\\ and \\sigma_R(Y)\\ are\\ the\\ standard dev.\\ of\\ the\\ rank\\ var.$   \n",
    ">- interval or ratio level or ordinal; <span style =\"color: crimson\"> monotonically related. </span>  \n",
    "Note, unlike Pearson’s correlation, there is no requirement of normality and hence it\n",
    "is a nonparametric statistic </br> <span style =\"color: crimson\"> (선형이 아니어도 monotonically면 된다는 뜻이다.)</span>\n",
    "\n",
    "\n",
    "##### 범주형 - 범주형\n",
    "\n",
    "1. phi corr.\n",
    " > - 범주형 변수간 (비교대상 범주 대상이 2개)\n",
    "2. Crammer's V\n",
    ">$A$and$B \\ for \\ i=1,...,r; \\ j=1,...,k$</br>\n",
    "$n_{ij} = number\\ of\\ times\\ the\\ values\\ (A_i, B_i)\\ were\\ obvserved.$</br></br>\n",
    "the chi-sqquared statistic then is: $$x^2 = \\sum_{i,j} {(n_{ij}-{{n_{i.}n_{.j}} \\over n})^2 \\over {n_{i.} n_{.j} \\over n}},$$  </br>where $n_{i.} = \\sum_{j} n_{ij}$ is the num. of times the value $A_i$ is observed </br>and $n_{.j} = \\sum_{i} n_{ij}$ is the num. of times the value $B_j$ is ovserved. </br> </br>Cramer's V $$ V = \\sqrt{\\varphi^2 \\over min(k-1,r-1)} = \\sqrt{{x^2 / n} \\over min(k-1,r-1)}$$\n",
    ">- 범주형 변수간 (비교대상 범주 대상이 3개) </br> ex. 상위권그룹/ 중위권 그룹/ 하위권그룹\n",
    ">- Cramér's V varies from 0 (corresponding to no association between the variables) to 1 (complete association) and can reach 1 only when each variable is completely determined by the other. It may be viewed as the association between two variables as a percentage of their maximum possible variation.\n",
    "(https://en.wikipedia.org/wiki/Cram%C3%A9r%27s_V)\n",
    " \n",
    "##### 연속형 - 범주형\n",
    "\n",
    "1. Point biserial corr.\n",
    ">\n",
    "2. Biserial corr.\n",
    ">\n",
    "4. Polyserial corr.\n",
    ">"
   ]
  },
  {
   "cell_type": "markdown",
   "id": "3d877e02",
   "metadata": {},
   "source": []
  }
 ],
 "metadata": {
  "kernelspec": {
   "display_name": "Python 3 (ipykernel)",
   "language": "python",
   "name": "python3"
  },
  "language_info": {
   "codemirror_mode": {
    "name": "ipython",
    "version": 3
   },
   "file_extension": ".py",
   "mimetype": "text/x-python",
   "name": "python",
   "nbconvert_exporter": "python",
   "pygments_lexer": "ipython3",
   "version": "3.9.7"
  }
 },
 "nbformat": 4,
 "nbformat_minor": 5
}
